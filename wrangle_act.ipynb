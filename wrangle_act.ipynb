{
  "cells": [
    {
      "cell_type": "markdown",
      "metadata": {
        "pycharm": {}
      },
      "source": [
        "# Wrangle and Analyze Data\n",
        "Is the fifth project in the Data Wrangling section in the Udacity [Data Analyst Nanodegree](https://eu.udacity.com/course/data-analyst-nanodegree--nd002) program.\n",
        "\n",
        "\n",
        "## Context\n",
        "__Goal__: wrangle WeRateDogs Twitter data to create interesting and trustworthy analyses and visualizations. The Twitter archive is great, but it only contains very basic tweet information. Additional gathering, then assessing and cleaning is required for \"Wow!\"-worthy analyses and visualizations.\n",
        "\n",
        "\n",
        "[The weird underside of DoggoLingo](https://blog.oxforddictionaries.com/2017/08/01/doggolingo/)"
      ]
    },
    {
      "cell_type": "code",
      "execution_count": 1,
      "metadata": {
        "pycharm": {
          "is_executing": false
        }
      },
      "outputs": [],
      "source": [
        "import requests\n",
        "import os, sys\n",
        "import re\n",
        "import pandas as pd\n",
        "import numpy as np\n",
        "import zipfile\n",
        "import json\n",
        "import twitter_api\n",
        "import matplotlib.pyplot as plt\n",
        "%matplotlib inline"
      ]
    },
    {
      "cell_type": "code",
      "execution_count": 2,
      "metadata": {
        "pycharm": {
          "is_executing": false
        }
      },
      "outputs": [],
      "source": [
        "DOWNLOADS_DIR \u003d \u0027downloads\u0027\n",
        "IMAGES_DIR \u003d \u0027images\u0027\n",
        "\n",
        "def ensure_dir(file_path\u003dDOWNLOADS_DIR):\n",
        "    \"\"\"\n",
        "    Ensure directory exists or create it.\n",
        "    :param file_path: directory path\n",
        "    :return: \n",
        "    \"\"\"\n",
        "    if not os.path.exists(file_path):\n",
        "        os.makedirs(file_path)\n",
        "\n",
        "        \n",
        "def download(*urls):\n",
        "    \"\"\"\n",
        "    Download files from the provided URL.\n",
        "    :param urls: variable number of URL\n",
        "    :return: None\n",
        "    \"\"\"\n",
        "    ensure_dir()\n",
        "    for url in urls:\n",
        "        url_file \u003d os.path.join(DOWNLOADS_DIR, url.split(os.path.sep)[-1]).replace(\u0027-\u0027, \u0027_\u0027)\n",
        "        if not os.path.exists(url_file):\n",
        "            response \u003d requests.get(url, allow_redirects\u003dTrue)\n",
        "            with open(url_file, \u0027wb\u0027) as handle:\n",
        "                handle.write(response.content)\n",
        "                sys.stdout.write(\u0027.\u0027)\n",
        "    sys.stdout.write(\u0027\\n\u0027)\n",
        "\n",
        "\n",
        "def download_img(name, url):\n",
        "    \"\"\"\n",
        "    Download image from the provided URL\n",
        "    :param name: name of image file\n",
        "    :param url: URL for image\n",
        "    :return: None\n",
        "    \"\"\"\n",
        "    ensure_dir(IMAGES_DIR)\n",
        "    image_file \u003d os.path.join(IMAGES_DIR, f\"{name}.{url.split(\u0027.\u0027)[-1]}\")\n",
        "    if not os.path.exists(image_file):\n",
        "        response \u003d requests.get(url, allow_redirects\u003dTrue)\n",
        "        with open(image_file, \u0027wb\u0027) as handle:\n",
        "            handle.write(response.content)\n",
        "\n",
        "\n",
        "def zip_extract(file):\n",
        "    \"\"\"\n",
        "    Extract alla files from a zip archive.\n",
        "    :param file: file name of archive.\n",
        "    :return: a list of file names in the archive.\n",
        "    \"\"\"\n",
        "    with zipfile.ZipFile(os.path.join(DOWNLOADS_DIR, file), \u0027r\u0027) as zip_ref:\n",
        "        zip_ref.extractall(DOWNLOADS_DIR)\n",
        "        return zip_ref.namelist()\n",
        "\n",
        "def rename(file_from, file_to, directory\u003dDOWNLOADS_DIR):\n",
        "    \"\"\"\n",
        "    Rename file in the \n",
        "    :param file_from: Existing file to rename\n",
        "    :param file_to: Target file name\n",
        "    :param directory: Source directory, defaults to DOWNLOADS_DIR\n",
        "    :return: None\n",
        "    \"\"\"\n",
        "    source \u003d os.path.join(directory, file_from)\n",
        "    if os.path.exists(source):\n",
        "        os.rename(source, os.path.join(directory, file_to))\n",
        "\n",
        "\n",
        "def file_exists(filename, directory\u003dDOWNLOADS_DIR):\n",
        "    \"\"\"\n",
        "    Check if the file exists in a optional provided directory.\n",
        "    :param filename: name of file\n",
        "    :param directory: Source directory, defaults to DOWNLOADS_DIR\n",
        "    :return: True if file exists.\n",
        "    \"\"\"\n",
        "    return os.path.exists(os.path.join(directory, filename))"
      ]
    },
    {
      "cell_type": "markdown",
      "metadata": {
        "pycharm": {}
      },
      "source": [
        "## Gather"
      ]
    },
    {
      "cell_type": "code",
      "execution_count": 39,
      "metadata": {
        "pycharm": {}
      },
      "outputs": [
        {
          "name": "stdout",
          "output_type": "stream",
          "text": [
            "\n",
            "[\u0027.DS_Store\u0027, \u0027image_predictions.tsv\u0027, \u0027twitter_archive_enhanced.csv\u0027, \u0027tweet_json.txt\u0027]\n"
          ]
        }
      ],
      "source": [
        "# I collect tweet data throught the Twitter API. So these two files are not downloaded\n",
        "#\u0027https://s3.amazonaws.com/video.udacity-data.com/topher/2018/November/5bf60fc9_tweet-json/tweet-json.zip\u0027,\n",
        "#\u0027https://s3.amazonaws.com/video.udacity-data.com/topher/2018/November/5bf60fda_tweet-json/tweet-json\u0027,\n",
        "\n",
        "download(\u0027https://s3.amazonaws.com/video.udacity-data.com/topher/2018/November/5bf60fe7_image-predictions/image-predictions.tsv\u0027,\n",
        "         \u0027https://d17h27t6h515a5.cloudfront.net/topher/2017/August/59a4e958_twitter-archive-enhanced/twitter-archive-enhanced.csv\u0027)\n",
        "print(os.listdir(DOWNLOADS_DIR))"
      ]
    },
    {
      "cell_type": "code",
      "execution_count": 40,
      "metadata": {
        "pycharm": {}
      },
      "outputs": [
        {
          "name": "stdout",
          "output_type": "stream",
          "text": [
            "[\u0027.DS_Store\u0027, \u0027image_predictions.tsv\u0027, \u0027twitter_archive_enhanced.csv\u0027, \u0027tweet_json.txt\u0027]\n"
          ]
        }
      ],
      "source": [
        "# Rename file to addhere to the expected project submission\n",
        "rename(\u0027image-predictions.tsv\u0027, \u0027image_predictions.tsv\u0027)\n",
        "rename(\u0027twitter-archive-enhanced.csv\u0027, \u0027twitter_archive_enhanced.csv\u0027)\n",
        "print(os.listdir(DOWNLOADS_DIR))"
      ]
    },
    {
      "cell_type": "code",
      "execution_count": null,
      "metadata": {
        "pycharm": {}
      },
      "outputs": [],
      "source": [
        "# Not needed since I collect data through the Twitter API\n",
        "# print(zip_extract(\u0027tweet-json.zip\u0027))\n",
        "\n",
        "# rename extracted file from tweet-json.zip\n",
        "# os.rename(os.path.join(DOWNLOADS_DIR, \u0027tweet-json copy\u0027), os.path.join(DOWNLOADS_DIR, \u0027tweet.json\u0027))\n",
        "# print(os.listdir(DOWNLOADS_DIR))"
      ]
    },
    {
      "cell_type": "markdown",
      "metadata": {
        "pycharm": {}
      },
      "source": [
        "### Download Twitter Tweets\n",
        "\n",
        "This code cell expects that a file `twitter_api.py` exists in the same folder as this notebook.\n",
        "One function `get_api` should exists that returns a fully configured `tweepy.API` instance."
      ]
    },
    {
      "cell_type": "code",
      "execution_count": 6,
      "metadata": {
        "pycharm": {}
      },
      "outputs": [
        {
          "name": "stdout",
          "output_type": "stream",
          "text": [
            "...................X...........................................................................X.....X..X.............X.............X......................X...........................................................................................X............X.....................................X..."
          ]
        },
        {
          "name": "stderr",
          "output_type": "stream",
          "text": [
            "Rate limit reached. Sleeping for: 397\n"
          ]
        },
        {
          "name": "stdout",
          "output_type": "stream",
          "text": [
            "................................................................................X...........................................................................................................................X...........................................................X.........................................................................................................................................................................................................................X.................................X.................................................................................................................X............................................................................................................................................................................................................................................................................."
          ]
        },
        {
          "name": "stderr",
          "output_type": "stream",
          "text": [
            "Rate limit reached. Sleeping for: 647\n"
          ]
        },
        {
          "name": "stdout",
          "output_type": "stream",
          "text": [
            "............................................................................................................................................................................................................................................................................................................................................................................................................................................................................................................................................X......................................................................................................................................................................................................................................................................................................................................................................................."
          ]
        },
        {
          "name": "stderr",
          "output_type": "stream",
          "text": [
            "Rate limit reached. Sleeping for: 651\n"
          ]
        },
        {
          "name": "stdout",
          "output_type": "stream",
          "text": [
            "..............................................................................................................................................................................................................................................................\n",
            "[\"Tweet ID 888202515573088257 failed: [{\u0027code\u0027: 144, \u0027message\u0027: \u0027No status found with that ID.\u0027}]\", \"Tweet ID 873697596434513921 failed: [{\u0027code\u0027: 144, \u0027message\u0027: \u0027No status found with that ID.\u0027}]\", \"Tweet ID 872668790621863937 failed: [{\u0027code\u0027: 144, \u0027message\u0027: \u0027No status found with that ID.\u0027}]\", \"Tweet ID 872261713294495745 failed: [{\u0027code\u0027: 144, \u0027message\u0027: \u0027No status found with that ID.\u0027}]\", \"Tweet ID 869988702071779329 failed: [{\u0027code\u0027: 144, \u0027message\u0027: \u0027No status found with that ID.\u0027}]\", \"Tweet ID 866816280283807744 failed: [{\u0027code\u0027: 144, \u0027message\u0027: \u0027No status found with that ID.\u0027}]\", \"Tweet ID 861769973181624320 failed: [{\u0027code\u0027: 144, \u0027message\u0027: \u0027No status found with that ID.\u0027}]\", \"Tweet ID 845459076796616705 failed: [{\u0027code\u0027: 144, \u0027message\u0027: \u0027No status found with that ID.\u0027}]\", \"Tweet ID 842892208864923648 failed: [{\u0027code\u0027: 144, \u0027message\u0027: \u0027No status found with that ID.\u0027}]\", \"Tweet ID 837012587749474308 failed: [{\u0027code\u0027: 144, \u0027message\u0027: \u0027No status found with that ID.\u0027}]\", \"Tweet ID 827228250799742977 failed: [{\u0027code\u0027: 144, \u0027message\u0027: \u0027No status found with that ID.\u0027}]\", \"Tweet ID 812747805718642688 failed: [{\u0027code\u0027: 144, \u0027message\u0027: \u0027No status found with that ID.\u0027}]\", \"Tweet ID 802247111496568832 failed: [{\u0027code\u0027: 144, \u0027message\u0027: \u0027No status found with that ID.\u0027}]\", \"Tweet ID 775096608509886464 failed: [{\u0027code\u0027: 144, \u0027message\u0027: \u0027No status found with that ID.\u0027}]\", \"Tweet ID 770743923962707968 failed: [{\u0027code\u0027: 144, \u0027message\u0027: \u0027No status found with that ID.\u0027}]\", \"Tweet ID 754011816964026368 failed: [{\u0027code\u0027: 144, \u0027message\u0027: \u0027No status found with that ID.\u0027}]\", \"Tweet ID 680055455951884288 failed: [{\u0027code\u0027: 144, \u0027message\u0027: \u0027No status found with that ID.\u0027}]\"]\n"
          ]
        }
      ],
      "source": [
        "from tweepy import TweepError\n",
        "tweets_file \u003d os.path.join(DOWNLOADS_DIR, \u0027tweet_json.txt\u0027)\n",
        "failures \u003d []\n",
        "if not os.path.exists(tweets_file):\n",
        "    api \u003d twitter_api.get_api()\n",
        "    with open(tweets_file, \u0027w\u0027, encoding\u003d\u0027utf-8\u0027) as file:  \n",
        "        for tweet_id in twitter_df[\u0027tweet_id\u0027].to_list():\n",
        "            try:\n",
        "                raw_tweet \u003d api.get_status(tweet_id, tweet_mode\u003d\u0027extended\u0027)\n",
        "                file.write(json.dumps(raw_tweet._json))\n",
        "                file.write(\u0027\\n\u0027)\n",
        "                sys.stdout.write(\u0027.\u0027)\n",
        "            except TweepError as te:\n",
        "                sys.stdout.write(\u0027X\u0027)\n",
        "                failures.append(f\u0027Tweet ID {tweet_id} failed: {te}\u0027)\n",
        "        sys.stdout.write(\u0027\\n\u0027)\n",
        "    print(failures)\n",
        "else:\n",
        "    print(f\u0027The file {tweets_file} already exist. Nothing downloaded.\u0027)"
      ]
    },
    {
      "cell_type": "markdown",
      "metadata": {
        "pycharm": {}
      },
      "source": [
        "### Download Twitte Tweets output\n",
        "...................X...........................................................................X.....X..X.............X.............X......................X...........................................................................................X............X.....................................X...  \n",
        "Rate limit reached. Sleeping for: 397  \n",
        "................................................................................X...........................................................................................................................X...........................................................X.........................................................................................................................................................................................................................X.................................X.................................................................................................................X.............................................................................................................................................................................................................................................................................  \n",
        "Rate limit reached. Sleeping for: 647  \n",
        "............................................................................................................................................................................................................................................................................................................................................................................................................................................................................................................................................X.......................................................................................................................................................................................................................................................................................................................................................................................  \n",
        "Rate limit reached. Sleeping for: 651  \n",
        "..............................................................................................................................................................................................................................................................\n",
        "\n",
        "[\"Tweet ID 888202515573088257 failed: [{\u0027code\u0027: 144, \u0027message\u0027: \u0027No status found with that ID.\u0027}]\", \"Tweet ID 873697596434513921 failed: [{\u0027code\u0027: 144, \u0027message\u0027: \u0027No status found with that ID.\u0027}]\", \"Tweet ID 872668790621863937 failed: [{\u0027code\u0027: 144, \u0027message\u0027: \u0027No status found with that ID.\u0027}]\", \"Tweet ID 872261713294495745 failed: [{\u0027code\u0027: 144, \u0027message\u0027: \u0027No status found with that ID.\u0027}]\", \"Tweet ID 869988702071779329 failed: [{\u0027code\u0027: 144, \u0027message\u0027: \u0027No status found with that ID.\u0027}]\", \"Tweet ID 866816280283807744 failed: [{\u0027code\u0027: 144, \u0027message\u0027: \u0027No status found with that ID.\u0027}]\", \"Tweet ID 861769973181624320 failed: [{\u0027code\u0027: 144, \u0027message\u0027: \u0027No status found with that ID.\u0027}]\", \"Tweet ID 845459076796616705 failed: [{\u0027code\u0027: 144, \u0027message\u0027: \u0027No status found with that ID.\u0027}]\", \"Tweet ID 842892208864923648 failed: [{\u0027code\u0027: 144, \u0027message\u0027: \u0027No status found with that ID.\u0027}]\", \"Tweet ID 837012587749474308 failed: [{\u0027code\u0027: 144, \u0027message\u0027: \u0027No status found with that ID.\u0027}]\", \"Tweet ID 827228250799742977 failed: [{\u0027code\u0027: 144, \u0027message\u0027: \u0027No status found with that ID.\u0027}]\", \"Tweet ID 812747805718642688 failed: [{\u0027code\u0027: 144, \u0027message\u0027: \u0027No status found with that ID.\u0027}]\", \"Tweet ID 802247111496568832 failed: [{\u0027code\u0027: 144, \u0027message\u0027: \u0027No status found with that ID.\u0027}]\", \"Tweet ID 775096608509886464 failed: [{\u0027code\u0027: 144, \u0027message\u0027: \u0027No status found with that ID.\u0027}]\", \"Tweet ID 770743923962707968 failed: [{\u0027code\u0027: 144, \u0027message\u0027: \u0027No status found with that ID.\u0027}]\", \"Tweet ID 754011816964026368 failed: [{\u0027code\u0027: 144, \u0027message\u0027: \u0027No status found with that ID.\u0027}]\", \"Tweet ID 680055455951884288 failed: [{\u0027code\u0027: 144, \u0027message\u0027: \u0027No status found with that ID.\u0027}]\"]"
      ]
    },
    {
      "cell_type": "markdown",
      "metadata": {
        "pycharm": {}
      },
      "source": [
        "### Load Pandas DataFrames"
      ]
    },
    {
      "cell_type": "code",
      "execution_count": 3,
      "metadata": {
        "pycharm": {
          "is_executing": false
        }
      },
      "outputs": [],
      "source": [
        "twitter_df \u003d pd.read_csv(os.path.join(DOWNLOADS_DIR, \u0027twitter_archive_enhanced.csv\u0027))"
      ]
    },
    {
      "cell_type": "code",
      "execution_count": 4,
      "metadata": {
        "pycharm": {
          "is_executing": false
        }
      },
      "outputs": [],
      "source": [
        "tweet_df \u003d pd.read_json(os.path.join(DOWNLOADS_DIR, \u0027tweet_json.txt\u0027), lines\u003dTrue)"
      ]
    },
    {
      "cell_type": "code",
      "execution_count": 5,
      "metadata": {
        "pycharm": {}
      },
      "outputs": [],
      "source": [
        "image_pred_df \u003d pd.read_csv(os.path.join(DOWNLOADS_DIR, \u0027image_predictions.tsv\u0027), sep\u003d\u0027\\t\u0027)"
      ]
    },
    {
      "cell_type": "markdown",
      "metadata": {
        "pycharm": {}
      },
      "source": [
        "## Assess"
      ]
    },
    {
      "cell_type": "markdown",
      "metadata": {
        "pycharm": {}
      },
      "source": [
        "### Data file twitter-archive-enhanced.csv\n",
        "\n",
        "Problems identified in data set.\n",
        "\n",
        "* timestamp - convert to datetime\n",
        "* in_reply_to_status_id - only 78 posts, consider dropping column\n",
        "* in_reply_to_user_id - only 78 posts, consider dropping column\n",
        "* rating_numerator - quality issue with outliers, max value of 1776 and quartile 3 of 12\n",
        "* rating_denominator - quality issue with outliers, max value of 170 and quartile 3 of 10\n",
        "* name - None as null value, not only names in columns\n",
        "\n",
        "Qualitative variables that could be stored in one column:\n",
        "* doggo - None as null value\n",
        "* floofer - None as null value\n",
        "* pupper - None as null value\n",
        "* puppo - None as null value\n"
      ]
    },
    {
      "cell_type": "code",
      "execution_count": 3,
      "metadata": {
        "pycharm": {
          "is_executing": false
        }
      },
      "outputs": [
        {
          "data": {
            "text/html": [
              "\u003cdiv\u003e\n",
              "\u003cstyle scoped\u003e\n",
              "    .dataframe tbody tr th:only-of-type {\n",
              "        vertical-align: middle;\n",
              "    }\n",
              "\n",
              "    .dataframe tbody tr th {\n",
              "        vertical-align: top;\n",
              "    }\n",
              "\n",
              "    .dataframe thead th {\n",
              "        text-align: right;\n",
              "    }\n",
              "\u003c/style\u003e\n",
              "\u003ctable border\u003d\"1\" class\u003d\"dataframe\"\u003e\n",
              "  \u003cthead\u003e\n",
              "    \u003ctr style\u003d\"text-align: right;\"\u003e\n",
              "      \u003cth\u003e\u003c/th\u003e\n",
              "      \u003cth\u003etweet_id\u003c/th\u003e\n",
              "      \u003cth\u003ein_reply_to_status_id\u003c/th\u003e\n",
              "      \u003cth\u003ein_reply_to_user_id\u003c/th\u003e\n",
              "      \u003cth\u003etimestamp\u003c/th\u003e\n",
              "      \u003cth\u003esource\u003c/th\u003e\n",
              "      \u003cth\u003etext\u003c/th\u003e\n",
              "      \u003cth\u003eretweeted_status_id\u003c/th\u003e\n",
              "    \u003c/tr\u003e\n",
              "  \u003c/thead\u003e\n",
              "  \u003ctbody\u003e\n",
              "    \u003ctr\u003e\n",
              "      \u003cth\u003e0\u003c/th\u003e\n",
              "      \u003ctd\u003e892420643555336193\u003c/td\u003e\n",
              "      \u003ctd\u003eNaN\u003c/td\u003e\n",
              "      \u003ctd\u003eNaN\u003c/td\u003e\n",
              "      \u003ctd\u003e2017-08-01 16:23:56 +0000\u003c/td\u003e\n",
              "      \u003ctd\u003e\u0026lt;a href\u003d\"http://twitter.com/download/iphone\" r...\u003c/td\u003e\n",
              "      \u003ctd\u003eThis is Phineas. He\u0027s a mystical boy. Only eve...\u003c/td\u003e\n",
              "      \u003ctd\u003eNaN\u003c/td\u003e\n",
              "    \u003c/tr\u003e\n",
              "    \u003ctr\u003e\n",
              "      \u003cth\u003e1\u003c/th\u003e\n",
              "      \u003ctd\u003e892177421306343426\u003c/td\u003e\n",
              "      \u003ctd\u003eNaN\u003c/td\u003e\n",
              "      \u003ctd\u003eNaN\u003c/td\u003e\n",
              "      \u003ctd\u003e2017-08-01 00:17:27 +0000\u003c/td\u003e\n",
              "      \u003ctd\u003e\u0026lt;a href\u003d\"http://twitter.com/download/iphone\" r...\u003c/td\u003e\n",
              "      \u003ctd\u003eThis is Tilly. She\u0027s just checking pup on you....\u003c/td\u003e\n",
              "      \u003ctd\u003eNaN\u003c/td\u003e\n",
              "    \u003c/tr\u003e\n",
              "    \u003ctr\u003e\n",
              "      \u003cth\u003e2\u003c/th\u003e\n",
              "      \u003ctd\u003e891815181378084864\u003c/td\u003e\n",
              "      \u003ctd\u003eNaN\u003c/td\u003e\n",
              "      \u003ctd\u003eNaN\u003c/td\u003e\n",
              "      \u003ctd\u003e2017-07-31 00:18:03 +0000\u003c/td\u003e\n",
              "      \u003ctd\u003e\u0026lt;a href\u003d\"http://twitter.com/download/iphone\" r...\u003c/td\u003e\n",
              "      \u003ctd\u003eThis is Archie. He is a rare Norwegian Pouncin...\u003c/td\u003e\n",
              "      \u003ctd\u003eNaN\u003c/td\u003e\n",
              "    \u003c/tr\u003e\n",
              "    \u003ctr\u003e\n",
              "      \u003cth\u003e3\u003c/th\u003e\n",
              "      \u003ctd\u003e891689557279858688\u003c/td\u003e\n",
              "      \u003ctd\u003eNaN\u003c/td\u003e\n",
              "      \u003ctd\u003eNaN\u003c/td\u003e\n",
              "      \u003ctd\u003e2017-07-30 15:58:51 +0000\u003c/td\u003e\n",
              "      \u003ctd\u003e\u0026lt;a href\u003d\"http://twitter.com/download/iphone\" r...\u003c/td\u003e\n",
              "      \u003ctd\u003eThis is Darla. She commenced a snooze mid meal...\u003c/td\u003e\n",
              "      \u003ctd\u003eNaN\u003c/td\u003e\n",
              "    \u003c/tr\u003e\n",
              "    \u003ctr\u003e\n",
              "      \u003cth\u003e4\u003c/th\u003e\n",
              "      \u003ctd\u003e891327558926688256\u003c/td\u003e\n",
              "      \u003ctd\u003eNaN\u003c/td\u003e\n",
              "      \u003ctd\u003eNaN\u003c/td\u003e\n",
              "      \u003ctd\u003e2017-07-29 16:00:24 +0000\u003c/td\u003e\n",
              "      \u003ctd\u003e\u0026lt;a href\u003d\"http://twitter.com/download/iphone\" r...\u003c/td\u003e\n",
              "      \u003ctd\u003eThis is Franklin. He would like you to stop ca...\u003c/td\u003e\n",
              "      \u003ctd\u003eNaN\u003c/td\u003e\n",
              "    \u003c/tr\u003e\n",
              "  \u003c/tbody\u003e\n",
              "\u003c/table\u003e\n",
              "\u003c/div\u003e"
            ],
            "text/plain": [
              "             tweet_id  in_reply_to_status_id  in_reply_to_user_id  \\\n",
              "0  892420643555336193                    NaN                  NaN   \n",
              "1  892177421306343426                    NaN                  NaN   \n",
              "2  891815181378084864                    NaN                  NaN   \n",
              "3  891689557279858688                    NaN                  NaN   \n",
              "4  891327558926688256                    NaN                  NaN   \n",
              "\n",
              "                   timestamp  \\\n",
              "0  2017-08-01 16:23:56 +0000   \n",
              "1  2017-08-01 00:17:27 +0000   \n",
              "2  2017-07-31 00:18:03 +0000   \n",
              "3  2017-07-30 15:58:51 +0000   \n",
              "4  2017-07-29 16:00:24 +0000   \n",
              "\n",
              "                                              source  \\\n",
              "0  \u003ca href\u003d\"http://twitter.com/download/iphone\" r...   \n",
              "1  \u003ca href\u003d\"http://twitter.com/download/iphone\" r...   \n",
              "2  \u003ca href\u003d\"http://twitter.com/download/iphone\" r...   \n",
              "3  \u003ca href\u003d\"http://twitter.com/download/iphone\" r...   \n",
              "4  \u003ca href\u003d\"http://twitter.com/download/iphone\" r...   \n",
              "\n",
              "                                                text  retweeted_status_id  \n",
              "0  This is Phineas. He\u0027s a mystical boy. Only eve...                  NaN  \n",
              "1  This is Tilly. She\u0027s just checking pup on you....                  NaN  \n",
              "2  This is Archie. He is a rare Norwegian Pouncin...                  NaN  \n",
              "3  This is Darla. She commenced a snooze mid meal...                  NaN  \n",
              "4  This is Franklin. He would like you to stop ca...                  NaN  "
            ]
          },
          "execution_count": 3,
          "metadata": {},
          "output_type": "execute_result"
        }
      ],
      "source": [
        "twitter_df.iloc[:5, :7]"
      ]
    },
    {
      "cell_type": "code",
      "execution_count": 126,
      "metadata": {
        "pycharm": {}
      },
      "outputs": [
        {
          "data": {
            "text/html": [
              "\u003cdiv\u003e\n",
              "\u003cstyle scoped\u003e\n",
              "    .dataframe tbody tr th:only-of-type {\n",
              "        vertical-align: middle;\n",
              "    }\n",
              "\n",
              "    .dataframe tbody tr th {\n",
              "        vertical-align: top;\n",
              "    }\n",
              "\n",
              "    .dataframe thead th {\n",
              "        text-align: right;\n",
              "    }\n",
              "\u003c/style\u003e\n",
              "\u003ctable border\u003d\"1\" class\u003d\"dataframe\"\u003e\n",
              "  \u003cthead\u003e\n",
              "    \u003ctr style\u003d\"text-align: right;\"\u003e\n",
              "      \u003cth\u003e\u003c/th\u003e\n",
              "      \u003cth\u003eretweeted_status_user_id\u003c/th\u003e\n",
              "      \u003cth\u003eretweeted_status_timestamp\u003c/th\u003e\n",
              "      \u003cth\u003eexpanded_urls\u003c/th\u003e\n",
              "      \u003cth\u003erating_numerator\u003c/th\u003e\n",
              "      \u003cth\u003erating_denominator\u003c/th\u003e\n",
              "      \u003cth\u003ename\u003c/th\u003e\n",
              "      \u003cth\u003edoggo\u003c/th\u003e\n",
              "      \u003cth\u003efloofer\u003c/th\u003e\n",
              "      \u003cth\u003epupper\u003c/th\u003e\n",
              "      \u003cth\u003epuppo\u003c/th\u003e\n",
              "    \u003c/tr\u003e\n",
              "  \u003c/thead\u003e\n",
              "  \u003ctbody\u003e\n",
              "    \u003ctr\u003e\n",
              "      \u003cth\u003e0\u003c/th\u003e\n",
              "      \u003ctd\u003eNaN\u003c/td\u003e\n",
              "      \u003ctd\u003eNaN\u003c/td\u003e\n",
              "      \u003ctd\u003ehttps://twitter.com/dog_rates/status/892420643...\u003c/td\u003e\n",
              "      \u003ctd\u003e13\u003c/td\u003e\n",
              "      \u003ctd\u003e10\u003c/td\u003e\n",
              "      \u003ctd\u003ePhineas\u003c/td\u003e\n",
              "      \u003ctd\u003eNone\u003c/td\u003e\n",
              "      \u003ctd\u003eNone\u003c/td\u003e\n",
              "      \u003ctd\u003eNone\u003c/td\u003e\n",
              "      \u003ctd\u003eNone\u003c/td\u003e\n",
              "    \u003c/tr\u003e\n",
              "    \u003ctr\u003e\n",
              "      \u003cth\u003e1\u003c/th\u003e\n",
              "      \u003ctd\u003eNaN\u003c/td\u003e\n",
              "      \u003ctd\u003eNaN\u003c/td\u003e\n",
              "      \u003ctd\u003ehttps://twitter.com/dog_rates/status/892177421...\u003c/td\u003e\n",
              "      \u003ctd\u003e13\u003c/td\u003e\n",
              "      \u003ctd\u003e10\u003c/td\u003e\n",
              "      \u003ctd\u003eTilly\u003c/td\u003e\n",
              "      \u003ctd\u003eNone\u003c/td\u003e\n",
              "      \u003ctd\u003eNone\u003c/td\u003e\n",
              "      \u003ctd\u003eNone\u003c/td\u003e\n",
              "      \u003ctd\u003eNone\u003c/td\u003e\n",
              "    \u003c/tr\u003e\n",
              "    \u003ctr\u003e\n",
              "      \u003cth\u003e2\u003c/th\u003e\n",
              "      \u003ctd\u003eNaN\u003c/td\u003e\n",
              "      \u003ctd\u003eNaN\u003c/td\u003e\n",
              "      \u003ctd\u003ehttps://twitter.com/dog_rates/status/891815181...\u003c/td\u003e\n",
              "      \u003ctd\u003e12\u003c/td\u003e\n",
              "      \u003ctd\u003e10\u003c/td\u003e\n",
              "      \u003ctd\u003eArchie\u003c/td\u003e\n",
              "      \u003ctd\u003eNone\u003c/td\u003e\n",
              "      \u003ctd\u003eNone\u003c/td\u003e\n",
              "      \u003ctd\u003eNone\u003c/td\u003e\n",
              "      \u003ctd\u003eNone\u003c/td\u003e\n",
              "    \u003c/tr\u003e\n",
              "    \u003ctr\u003e\n",
              "      \u003cth\u003e3\u003c/th\u003e\n",
              "      \u003ctd\u003eNaN\u003c/td\u003e\n",
              "      \u003ctd\u003eNaN\u003c/td\u003e\n",
              "      \u003ctd\u003ehttps://twitter.com/dog_rates/status/891689557...\u003c/td\u003e\n",
              "      \u003ctd\u003e13\u003c/td\u003e\n",
              "      \u003ctd\u003e10\u003c/td\u003e\n",
              "      \u003ctd\u003eDarla\u003c/td\u003e\n",
              "      \u003ctd\u003eNone\u003c/td\u003e\n",
              "      \u003ctd\u003eNone\u003c/td\u003e\n",
              "      \u003ctd\u003eNone\u003c/td\u003e\n",
              "      \u003ctd\u003eNone\u003c/td\u003e\n",
              "    \u003c/tr\u003e\n",
              "    \u003ctr\u003e\n",
              "      \u003cth\u003e4\u003c/th\u003e\n",
              "      \u003ctd\u003eNaN\u003c/td\u003e\n",
              "      \u003ctd\u003eNaN\u003c/td\u003e\n",
              "      \u003ctd\u003ehttps://twitter.com/dog_rates/status/891327558...\u003c/td\u003e\n",
              "      \u003ctd\u003e12\u003c/td\u003e\n",
              "      \u003ctd\u003e10\u003c/td\u003e\n",
              "      \u003ctd\u003eFranklin\u003c/td\u003e\n",
              "      \u003ctd\u003eNone\u003c/td\u003e\n",
              "      \u003ctd\u003eNone\u003c/td\u003e\n",
              "      \u003ctd\u003eNone\u003c/td\u003e\n",
              "      \u003ctd\u003eNone\u003c/td\u003e\n",
              "    \u003c/tr\u003e\n",
              "  \u003c/tbody\u003e\n",
              "\u003c/table\u003e\n",
              "\u003c/div\u003e"
            ],
            "text/plain": [
              "   retweeted_status_user_id retweeted_status_timestamp  \\\n",
              "0                       NaN                        NaN   \n",
              "1                       NaN                        NaN   \n",
              "2                       NaN                        NaN   \n",
              "3                       NaN                        NaN   \n",
              "4                       NaN                        NaN   \n",
              "\n",
              "                                       expanded_urls  rating_numerator  \\\n",
              "0  https://twitter.com/dog_rates/status/892420643...                13   \n",
              "1  https://twitter.com/dog_rates/status/892177421...                13   \n",
              "2  https://twitter.com/dog_rates/status/891815181...                12   \n",
              "3  https://twitter.com/dog_rates/status/891689557...                13   \n",
              "4  https://twitter.com/dog_rates/status/891327558...                12   \n",
              "\n",
              "   rating_denominator      name doggo floofer pupper puppo  \n",
              "0                  10   Phineas  None    None   None  None  \n",
              "1                  10     Tilly  None    None   None  None  \n",
              "2                  10    Archie  None    None   None  None  \n",
              "3                  10     Darla  None    None   None  None  \n",
              "4                  10  Franklin  None    None   None  None  "
            ]
          },
          "execution_count": 126,
          "metadata": {},
          "output_type": "execute_result"
        }
      ],
      "source": [
        "twitter_df.iloc[:5, 7:]"
      ]
    },
    {
      "cell_type": "code",
      "execution_count": 127,
      "metadata": {
        "pycharm": {}
      },
      "outputs": [
        {
          "name": "stdout",
          "output_type": "stream",
          "text": [
            "\u003cclass \u0027pandas.core.frame.DataFrame\u0027\u003e\n",
            "RangeIndex: 2356 entries, 0 to 2355\n",
            "Data columns (total 17 columns):\n",
            "tweet_id                      2356 non-null int64\n",
            "in_reply_to_status_id         78 non-null float64\n",
            "in_reply_to_user_id           78 non-null float64\n",
            "timestamp                     2356 non-null object\n",
            "source                        2356 non-null object\n",
            "text                          2356 non-null object\n",
            "retweeted_status_id           181 non-null float64\n",
            "retweeted_status_user_id      181 non-null float64\n",
            "retweeted_status_timestamp    181 non-null object\n",
            "expanded_urls                 2297 non-null object\n",
            "rating_numerator              2356 non-null int64\n",
            "rating_denominator            2356 non-null int64\n",
            "name                          2356 non-null object\n",
            "doggo                         2356 non-null object\n",
            "floofer                       2356 non-null object\n",
            "pupper                        2356 non-null object\n",
            "puppo                         2356 non-null object\n",
            "dtypes: float64(4), int64(3), object(10)\n",
            "memory usage: 313.0+ KB\n"
          ]
        }
      ],
      "source": [
        "twitter_df.info()"
      ]
    },
    {
      "cell_type": "code",
      "execution_count": 50,
      "metadata": {
        "pycharm": {}
      },
      "outputs": [
        {
          "data": {
            "text/html": [
              "\u003cdiv\u003e\n",
              "\u003cstyle scoped\u003e\n",
              "    .dataframe tbody tr th:only-of-type {\n",
              "        vertical-align: middle;\n",
              "    }\n",
              "\n",
              "    .dataframe tbody tr th {\n",
              "        vertical-align: top;\n",
              "    }\n",
              "\n",
              "    .dataframe thead th {\n",
              "        text-align: right;\n",
              "    }\n",
              "\u003c/style\u003e\n",
              "\u003ctable border\u003d\"1\" class\u003d\"dataframe\"\u003e\n",
              "  \u003cthead\u003e\n",
              "    \u003ctr style\u003d\"text-align: right;\"\u003e\n",
              "      \u003cth\u003e\u003c/th\u003e\n",
              "      \u003cth\u003ein_reply_to_status_id\u003c/th\u003e\n",
              "      \u003cth\u003ein_reply_to_user_id\u003c/th\u003e\n",
              "      \u003cth\u003eretweeted_status_id\u003c/th\u003e\n",
              "      \u003cth\u003eretweeted_status_user_id\u003c/th\u003e\n",
              "      \u003cth\u003erating_numerator\u003c/th\u003e\n",
              "      \u003cth\u003erating_denominator\u003c/th\u003e\n",
              "    \u003c/tr\u003e\n",
              "  \u003c/thead\u003e\n",
              "  \u003ctbody\u003e\n",
              "    \u003ctr\u003e\n",
              "      \u003cth\u003ecount\u003c/th\u003e\n",
              "      \u003ctd\u003e7.800000e+01\u003c/td\u003e\n",
              "      \u003ctd\u003e7.800000e+01\u003c/td\u003e\n",
              "      \u003ctd\u003e1.810000e+02\u003c/td\u003e\n",
              "      \u003ctd\u003e1.810000e+02\u003c/td\u003e\n",
              "      \u003ctd\u003e2356.000000\u003c/td\u003e\n",
              "      \u003ctd\u003e2356.000000\u003c/td\u003e\n",
              "    \u003c/tr\u003e\n",
              "    \u003ctr\u003e\n",
              "      \u003cth\u003emean\u003c/th\u003e\n",
              "      \u003ctd\u003e7.455079e+17\u003c/td\u003e\n",
              "      \u003ctd\u003e2.014171e+16\u003c/td\u003e\n",
              "      \u003ctd\u003e7.720400e+17\u003c/td\u003e\n",
              "      \u003ctd\u003e1.241698e+16\u003c/td\u003e\n",
              "      \u003ctd\u003e13.126486\u003c/td\u003e\n",
              "      \u003ctd\u003e10.455433\u003c/td\u003e\n",
              "    \u003c/tr\u003e\n",
              "    \u003ctr\u003e\n",
              "      \u003cth\u003estd\u003c/th\u003e\n",
              "      \u003ctd\u003e7.582492e+16\u003c/td\u003e\n",
              "      \u003ctd\u003e1.252797e+17\u003c/td\u003e\n",
              "      \u003ctd\u003e6.236928e+16\u003c/td\u003e\n",
              "      \u003ctd\u003e9.599254e+16\u003c/td\u003e\n",
              "      \u003ctd\u003e45.876648\u003c/td\u003e\n",
              "      \u003ctd\u003e6.745237\u003c/td\u003e\n",
              "    \u003c/tr\u003e\n",
              "    \u003ctr\u003e\n",
              "      \u003cth\u003emin\u003c/th\u003e\n",
              "      \u003ctd\u003e6.658147e+17\u003c/td\u003e\n",
              "      \u003ctd\u003e1.185634e+07\u003c/td\u003e\n",
              "      \u003ctd\u003e6.661041e+17\u003c/td\u003e\n",
              "      \u003ctd\u003e7.832140e+05\u003c/td\u003e\n",
              "      \u003ctd\u003e0.000000\u003c/td\u003e\n",
              "      \u003ctd\u003e0.000000\u003c/td\u003e\n",
              "    \u003c/tr\u003e\n",
              "    \u003ctr\u003e\n",
              "      \u003cth\u003e25%\u003c/th\u003e\n",
              "      \u003ctd\u003e6.757419e+17\u003c/td\u003e\n",
              "      \u003ctd\u003e3.086374e+08\u003c/td\u003e\n",
              "      \u003ctd\u003e7.186315e+17\u003c/td\u003e\n",
              "      \u003ctd\u003e4.196984e+09\u003c/td\u003e\n",
              "      \u003ctd\u003e10.000000\u003c/td\u003e\n",
              "      \u003ctd\u003e10.000000\u003c/td\u003e\n",
              "    \u003c/tr\u003e\n",
              "    \u003ctr\u003e\n",
              "      \u003cth\u003e50%\u003c/th\u003e\n",
              "      \u003ctd\u003e7.038708e+17\u003c/td\u003e\n",
              "      \u003ctd\u003e4.196984e+09\u003c/td\u003e\n",
              "      \u003ctd\u003e7.804657e+17\u003c/td\u003e\n",
              "      \u003ctd\u003e4.196984e+09\u003c/td\u003e\n",
              "      \u003ctd\u003e11.000000\u003c/td\u003e\n",
              "      \u003ctd\u003e10.000000\u003c/td\u003e\n",
              "    \u003c/tr\u003e\n",
              "    \u003ctr\u003e\n",
              "      \u003cth\u003e75%\u003c/th\u003e\n",
              "      \u003ctd\u003e8.257804e+17\u003c/td\u003e\n",
              "      \u003ctd\u003e4.196984e+09\u003c/td\u003e\n",
              "      \u003ctd\u003e8.203146e+17\u003c/td\u003e\n",
              "      \u003ctd\u003e4.196984e+09\u003c/td\u003e\n",
              "      \u003ctd\u003e12.000000\u003c/td\u003e\n",
              "      \u003ctd\u003e10.000000\u003c/td\u003e\n",
              "    \u003c/tr\u003e\n",
              "    \u003ctr\u003e\n",
              "      \u003cth\u003emax\u003c/th\u003e\n",
              "      \u003ctd\u003e8.862664e+17\u003c/td\u003e\n",
              "      \u003ctd\u003e8.405479e+17\u003c/td\u003e\n",
              "      \u003ctd\u003e8.874740e+17\u003c/td\u003e\n",
              "      \u003ctd\u003e7.874618e+17\u003c/td\u003e\n",
              "      \u003ctd\u003e1776.000000\u003c/td\u003e\n",
              "      \u003ctd\u003e170.000000\u003c/td\u003e\n",
              "    \u003c/tr\u003e\n",
              "  \u003c/tbody\u003e\n",
              "\u003c/table\u003e\n",
              "\u003c/div\u003e"
            ],
            "text/plain": [
              "       in_reply_to_status_id  in_reply_to_user_id  retweeted_status_id  \\\n",
              "count           7.800000e+01         7.800000e+01         1.810000e+02   \n",
              "mean            7.455079e+17         2.014171e+16         7.720400e+17   \n",
              "std             7.582492e+16         1.252797e+17         6.236928e+16   \n",
              "min             6.658147e+17         1.185634e+07         6.661041e+17   \n",
              "25%             6.757419e+17         3.086374e+08         7.186315e+17   \n",
              "50%             7.038708e+17         4.196984e+09         7.804657e+17   \n",
              "75%             8.257804e+17         4.196984e+09         8.203146e+17   \n",
              "max             8.862664e+17         8.405479e+17         8.874740e+17   \n",
              "\n",
              "       retweeted_status_user_id  rating_numerator  rating_denominator  \n",
              "count              1.810000e+02       2356.000000         2356.000000  \n",
              "mean               1.241698e+16         13.126486           10.455433  \n",
              "std                9.599254e+16         45.876648            6.745237  \n",
              "min                7.832140e+05          0.000000            0.000000  \n",
              "25%                4.196984e+09         10.000000           10.000000  \n",
              "50%                4.196984e+09         11.000000           10.000000  \n",
              "75%                4.196984e+09         12.000000           10.000000  \n",
              "max                7.874618e+17       1776.000000          170.000000  "
            ]
          },
          "execution_count": 50,
          "metadata": {},
          "output_type": "execute_result"
        }
      ],
      "source": [
        "twitter_df[[\u0027in_reply_to_status_id\u0027, \u0027in_reply_to_user_id\u0027, \u0027retweeted_status_id\u0027,\n",
        "            \u0027retweeted_status_user_id\u0027, \u0027rating_numerator\u0027, \u0027rating_denominator\u0027]].describe()"
      ]
    },
    {
      "cell_type": "code",
      "execution_count": 37,
      "metadata": {
        "pycharm": {
          "is_executing": false
        }
      },
      "outputs": [
        {
          "data": {
            "text/plain": "                                                   text        name\n22    I\u0027ve yet to rate a Venezuelan Hover Wiener. Th...        such\n56    Here is a pupper approaching maximum borkdrive...           a\n118   RT @dog_rates: We only rate dogs. This is quit...       quite\n169   We only rate dogs. This is quite clearly a smo...       quite\n193   Guys, we only rate dogs. This is quite clearly...       quite\n335   There\u0027s going to be a dog terminal at JFK Airp...         not\n369   Occasionally, we\u0027re sent fantastic stories. Th...         one\n542   We only rate dogs. Please stop sending in non-...  incredibly\n649   Here is a perfect example of someone who has t...           a\n682   RT @dog_rates: Say hello to mad pupper. You kn...         mad\n759   RT @dog_rates: This is an East African Chalupa...          an\n773   RT @dog_rates: We only rate dogs. Pls stop sen...        very\n801   Guys this is getting so out of hand. We only r...           a\n819   We only rate dogs. Pls stop sending in non-can...        very\n822   RT @dog_rates: This is just downright precious...        just\n852   This is my dog. Her name is Zoey. She knows I\u0027...          my\n924   This is one of the most inspirational stories ...         one\n988   What jokester sent in a pic without a dog in i...         not\n992   That is Quizno. This is his beach. He does not...         his\n993   This is one of the most reckless puppers I\u0027ve ...         one\n1002  This is a mighty rare blue-tailed hammer sherk...           a\n1004  Viewer discretion is advised. This is a terrib...           a\n1017  This is a carrot. We only rate dogs. Please on...           a\n1025  This is an Iraqi Speed Kangaroo. It is not a d...          an\n1031  We only rate dogs. Pls stop sending in non-can...        very\n1040  This is actually a pupper and I\u0027d pet it so we...    actually\n1049  This is a very rare Great Alaskan Bush Pupper....           a\n1063  This is just downright precious af. 12/10 for ...        just\n1071  This is getting incredibly frustrating. This i...     getting\n1095  Say hello to mad pupper. You know what you did...         mad\n...                                                 ...         ...\n2191  This is a Slovakian Helter Skelter Feta named ...           a\n2198  This is a wild Toblerone from Papua New Guinea...           a\n2204  This is an Irish Rigatoni terrier named Berta....          an\n2211  Here is a horned dog. Much grace. Can jump ove...           a\n2212  Never forget this vine. You will not stop watc...         the\n2218  This is a Birmingham Quagmire named Chuk. Love...           a\n2222  Here is a mother dog caring for her pups. Snaz...           a\n2235  This is a Trans Siberian Kellogg named Alfonso...           a\n2249  This is a Shotokon Macadamia mix named Cheryl....           a\n2255  This is a rare Hungarian Pinot named Jessiga. ...           a\n2264  This is a southwest Coriander named Klint. Hat...           a\n2273  This is a northern Wahoo named Kohl. He runs t...           a\n2287  This is a Dasani Kingfisher from Maine. His na...           a\n2304  This is a curly Ticonderoga named Pepe. No fee...           a\n2311  This is a purebred Bacardi named Octaviath. Ca...           a\n2314  This is a golden Buckminsterfullerene named Jo...           a\n2326  This is quite the dog. Gets really excited whe...       quite\n2327  This is a southern Vesuvius bumblegruff. Can d...           a\n2333  This is an extremely rare horned Parthenon. No...          an\n2334  This is a funny dog. Weird toes. Won\u0027t come do...           a\n2335  This is an Albanian 3 1/2 legged  Episcopalian...          an\n2345  This is the happiest dog you will ever see. Ve...         the\n2346  Here is the Rand Paul of retrievers folks! He\u0027...         the\n2347  My oh my. This is a rare blond Canadian terrie...           a\n2348  Here is a Siberian heavily armored polar bear ...           a\n2349  This is an odd dog. Hard on the outside but lo...          an\n2350  This is a truly beautiful English Wilson Staff...           a\n2352  This is a purebred Piers Morgan. Loves to Netf...           a\n2353  Here is a very happy pup. Big fan of well-main...           a\n2354  This is a western brown Mitsubishi terrier. Up...           a\n\n[109 rows x 2 columns]",
            "text/html": "\u003cdiv\u003e\n\u003cstyle scoped\u003e\n    .dataframe tbody tr th:only-of-type {\n        vertical-align: middle;\n    }\n\n    .dataframe tbody tr th {\n        vertical-align: top;\n    }\n\n    .dataframe thead th {\n        text-align: right;\n    }\n\u003c/style\u003e\n\u003ctable border\u003d\"1\" class\u003d\"dataframe\"\u003e\n  \u003cthead\u003e\n    \u003ctr style\u003d\"text-align: right;\"\u003e\n      \u003cth\u003e\u003c/th\u003e\n      \u003cth\u003etext\u003c/th\u003e\n      \u003cth\u003ename\u003c/th\u003e\n    \u003c/tr\u003e\n  \u003c/thead\u003e\n  \u003ctbody\u003e\n    \u003ctr\u003e\n      \u003cth\u003e22\u003c/th\u003e\n      \u003ctd\u003eI\u0027ve yet to rate a Venezuelan Hover Wiener. Th...\u003c/td\u003e\n      \u003ctd\u003esuch\u003c/td\u003e\n    \u003c/tr\u003e\n    \u003ctr\u003e\n      \u003cth\u003e56\u003c/th\u003e\n      \u003ctd\u003eHere is a pupper approaching maximum borkdrive...\u003c/td\u003e\n      \u003ctd\u003ea\u003c/td\u003e\n    \u003c/tr\u003e\n    \u003ctr\u003e\n      \u003cth\u003e118\u003c/th\u003e\n      \u003ctd\u003eRT @dog_rates: We only rate dogs. This is quit...\u003c/td\u003e\n      \u003ctd\u003equite\u003c/td\u003e\n    \u003c/tr\u003e\n    \u003ctr\u003e\n      \u003cth\u003e169\u003c/th\u003e\n      \u003ctd\u003eWe only rate dogs. This is quite clearly a smo...\u003c/td\u003e\n      \u003ctd\u003equite\u003c/td\u003e\n    \u003c/tr\u003e\n    \u003ctr\u003e\n      \u003cth\u003e193\u003c/th\u003e\n      \u003ctd\u003eGuys, we only rate dogs. This is quite clearly...\u003c/td\u003e\n      \u003ctd\u003equite\u003c/td\u003e\n    \u003c/tr\u003e\n    \u003ctr\u003e\n      \u003cth\u003e335\u003c/th\u003e\n      \u003ctd\u003eThere\u0027s going to be a dog terminal at JFK Airp...\u003c/td\u003e\n      \u003ctd\u003enot\u003c/td\u003e\n    \u003c/tr\u003e\n    \u003ctr\u003e\n      \u003cth\u003e369\u003c/th\u003e\n      \u003ctd\u003eOccasionally, we\u0027re sent fantastic stories. Th...\u003c/td\u003e\n      \u003ctd\u003eone\u003c/td\u003e\n    \u003c/tr\u003e\n    \u003ctr\u003e\n      \u003cth\u003e542\u003c/th\u003e\n      \u003ctd\u003eWe only rate dogs. Please stop sending in non-...\u003c/td\u003e\n      \u003ctd\u003eincredibly\u003c/td\u003e\n    \u003c/tr\u003e\n    \u003ctr\u003e\n      \u003cth\u003e649\u003c/th\u003e\n      \u003ctd\u003eHere is a perfect example of someone who has t...\u003c/td\u003e\n      \u003ctd\u003ea\u003c/td\u003e\n    \u003c/tr\u003e\n    \u003ctr\u003e\n      \u003cth\u003e682\u003c/th\u003e\n      \u003ctd\u003eRT @dog_rates: Say hello to mad pupper. You kn...\u003c/td\u003e\n      \u003ctd\u003emad\u003c/td\u003e\n    \u003c/tr\u003e\n    \u003ctr\u003e\n      \u003cth\u003e759\u003c/th\u003e\n      \u003ctd\u003eRT @dog_rates: This is an East African Chalupa...\u003c/td\u003e\n      \u003ctd\u003ean\u003c/td\u003e\n    \u003c/tr\u003e\n    \u003ctr\u003e\n      \u003cth\u003e773\u003c/th\u003e\n      \u003ctd\u003eRT @dog_rates: We only rate dogs. Pls stop sen...\u003c/td\u003e\n      \u003ctd\u003every\u003c/td\u003e\n    \u003c/tr\u003e\n    \u003ctr\u003e\n      \u003cth\u003e801\u003c/th\u003e\n      \u003ctd\u003eGuys this is getting so out of hand. We only r...\u003c/td\u003e\n      \u003ctd\u003ea\u003c/td\u003e\n    \u003c/tr\u003e\n    \u003ctr\u003e\n      \u003cth\u003e819\u003c/th\u003e\n      \u003ctd\u003eWe only rate dogs. Pls stop sending in non-can...\u003c/td\u003e\n      \u003ctd\u003every\u003c/td\u003e\n    \u003c/tr\u003e\n    \u003ctr\u003e\n      \u003cth\u003e822\u003c/th\u003e\n      \u003ctd\u003eRT @dog_rates: This is just downright precious...\u003c/td\u003e\n      \u003ctd\u003ejust\u003c/td\u003e\n    \u003c/tr\u003e\n    \u003ctr\u003e\n      \u003cth\u003e852\u003c/th\u003e\n      \u003ctd\u003eThis is my dog. Her name is Zoey. She knows I\u0027...\u003c/td\u003e\n      \u003ctd\u003emy\u003c/td\u003e\n    \u003c/tr\u003e\n    \u003ctr\u003e\n      \u003cth\u003e924\u003c/th\u003e\n      \u003ctd\u003eThis is one of the most inspirational stories ...\u003c/td\u003e\n      \u003ctd\u003eone\u003c/td\u003e\n    \u003c/tr\u003e\n    \u003ctr\u003e\n      \u003cth\u003e988\u003c/th\u003e\n      \u003ctd\u003eWhat jokester sent in a pic without a dog in i...\u003c/td\u003e\n      \u003ctd\u003enot\u003c/td\u003e\n    \u003c/tr\u003e\n    \u003ctr\u003e\n      \u003cth\u003e992\u003c/th\u003e\n      \u003ctd\u003eThat is Quizno. This is his beach. He does not...\u003c/td\u003e\n      \u003ctd\u003ehis\u003c/td\u003e\n    \u003c/tr\u003e\n    \u003ctr\u003e\n      \u003cth\u003e993\u003c/th\u003e\n      \u003ctd\u003eThis is one of the most reckless puppers I\u0027ve ...\u003c/td\u003e\n      \u003ctd\u003eone\u003c/td\u003e\n    \u003c/tr\u003e\n    \u003ctr\u003e\n      \u003cth\u003e1002\u003c/th\u003e\n      \u003ctd\u003eThis is a mighty rare blue-tailed hammer sherk...\u003c/td\u003e\n      \u003ctd\u003ea\u003c/td\u003e\n    \u003c/tr\u003e\n    \u003ctr\u003e\n      \u003cth\u003e1004\u003c/th\u003e\n      \u003ctd\u003eViewer discretion is advised. This is a terrib...\u003c/td\u003e\n      \u003ctd\u003ea\u003c/td\u003e\n    \u003c/tr\u003e\n    \u003ctr\u003e\n      \u003cth\u003e1017\u003c/th\u003e\n      \u003ctd\u003eThis is a carrot. We only rate dogs. Please on...\u003c/td\u003e\n      \u003ctd\u003ea\u003c/td\u003e\n    \u003c/tr\u003e\n    \u003ctr\u003e\n      \u003cth\u003e1025\u003c/th\u003e\n      \u003ctd\u003eThis is an Iraqi Speed Kangaroo. It is not a d...\u003c/td\u003e\n      \u003ctd\u003ean\u003c/td\u003e\n    \u003c/tr\u003e\n    \u003ctr\u003e\n      \u003cth\u003e1031\u003c/th\u003e\n      \u003ctd\u003eWe only rate dogs. Pls stop sending in non-can...\u003c/td\u003e\n      \u003ctd\u003every\u003c/td\u003e\n    \u003c/tr\u003e\n    \u003ctr\u003e\n      \u003cth\u003e1040\u003c/th\u003e\n      \u003ctd\u003eThis is actually a pupper and I\u0027d pet it so we...\u003c/td\u003e\n      \u003ctd\u003eactually\u003c/td\u003e\n    \u003c/tr\u003e\n    \u003ctr\u003e\n      \u003cth\u003e1049\u003c/th\u003e\n      \u003ctd\u003eThis is a very rare Great Alaskan Bush Pupper....\u003c/td\u003e\n      \u003ctd\u003ea\u003c/td\u003e\n    \u003c/tr\u003e\n    \u003ctr\u003e\n      \u003cth\u003e1063\u003c/th\u003e\n      \u003ctd\u003eThis is just downright precious af. 12/10 for ...\u003c/td\u003e\n      \u003ctd\u003ejust\u003c/td\u003e\n    \u003c/tr\u003e\n    \u003ctr\u003e\n      \u003cth\u003e1071\u003c/th\u003e\n      \u003ctd\u003eThis is getting incredibly frustrating. This i...\u003c/td\u003e\n      \u003ctd\u003egetting\u003c/td\u003e\n    \u003c/tr\u003e\n    \u003ctr\u003e\n      \u003cth\u003e1095\u003c/th\u003e\n      \u003ctd\u003eSay hello to mad pupper. You know what you did...\u003c/td\u003e\n      \u003ctd\u003emad\u003c/td\u003e\n    \u003c/tr\u003e\n    \u003ctr\u003e\n      \u003cth\u003e...\u003c/th\u003e\n      \u003ctd\u003e...\u003c/td\u003e\n      \u003ctd\u003e...\u003c/td\u003e\n    \u003c/tr\u003e\n    \u003ctr\u003e\n      \u003cth\u003e2191\u003c/th\u003e\n      \u003ctd\u003eThis is a Slovakian Helter Skelter Feta named ...\u003c/td\u003e\n      \u003ctd\u003ea\u003c/td\u003e\n    \u003c/tr\u003e\n    \u003ctr\u003e\n      \u003cth\u003e2198\u003c/th\u003e\n      \u003ctd\u003eThis is a wild Toblerone from Papua New Guinea...\u003c/td\u003e\n      \u003ctd\u003ea\u003c/td\u003e\n    \u003c/tr\u003e\n    \u003ctr\u003e\n      \u003cth\u003e2204\u003c/th\u003e\n      \u003ctd\u003eThis is an Irish Rigatoni terrier named Berta....\u003c/td\u003e\n      \u003ctd\u003ean\u003c/td\u003e\n    \u003c/tr\u003e\n    \u003ctr\u003e\n      \u003cth\u003e2211\u003c/th\u003e\n      \u003ctd\u003eHere is a horned dog. Much grace. Can jump ove...\u003c/td\u003e\n      \u003ctd\u003ea\u003c/td\u003e\n    \u003c/tr\u003e\n    \u003ctr\u003e\n      \u003cth\u003e2212\u003c/th\u003e\n      \u003ctd\u003eNever forget this vine. You will not stop watc...\u003c/td\u003e\n      \u003ctd\u003ethe\u003c/td\u003e\n    \u003c/tr\u003e\n    \u003ctr\u003e\n      \u003cth\u003e2218\u003c/th\u003e\n      \u003ctd\u003eThis is a Birmingham Quagmire named Chuk. Love...\u003c/td\u003e\n      \u003ctd\u003ea\u003c/td\u003e\n    \u003c/tr\u003e\n    \u003ctr\u003e\n      \u003cth\u003e2222\u003c/th\u003e\n      \u003ctd\u003eHere is a mother dog caring for her pups. Snaz...\u003c/td\u003e\n      \u003ctd\u003ea\u003c/td\u003e\n    \u003c/tr\u003e\n    \u003ctr\u003e\n      \u003cth\u003e2235\u003c/th\u003e\n      \u003ctd\u003eThis is a Trans Siberian Kellogg named Alfonso...\u003c/td\u003e\n      \u003ctd\u003ea\u003c/td\u003e\n    \u003c/tr\u003e\n    \u003ctr\u003e\n      \u003cth\u003e2249\u003c/th\u003e\n      \u003ctd\u003eThis is a Shotokon Macadamia mix named Cheryl....\u003c/td\u003e\n      \u003ctd\u003ea\u003c/td\u003e\n    \u003c/tr\u003e\n    \u003ctr\u003e\n      \u003cth\u003e2255\u003c/th\u003e\n      \u003ctd\u003eThis is a rare Hungarian Pinot named Jessiga. ...\u003c/td\u003e\n      \u003ctd\u003ea\u003c/td\u003e\n    \u003c/tr\u003e\n    \u003ctr\u003e\n      \u003cth\u003e2264\u003c/th\u003e\n      \u003ctd\u003eThis is a southwest Coriander named Klint. Hat...\u003c/td\u003e\n      \u003ctd\u003ea\u003c/td\u003e\n    \u003c/tr\u003e\n    \u003ctr\u003e\n      \u003cth\u003e2273\u003c/th\u003e\n      \u003ctd\u003eThis is a northern Wahoo named Kohl. He runs t...\u003c/td\u003e\n      \u003ctd\u003ea\u003c/td\u003e\n    \u003c/tr\u003e\n    \u003ctr\u003e\n      \u003cth\u003e2287\u003c/th\u003e\n      \u003ctd\u003eThis is a Dasani Kingfisher from Maine. His na...\u003c/td\u003e\n      \u003ctd\u003ea\u003c/td\u003e\n    \u003c/tr\u003e\n    \u003ctr\u003e\n      \u003cth\u003e2304\u003c/th\u003e\n      \u003ctd\u003eThis is a curly Ticonderoga named Pepe. No fee...\u003c/td\u003e\n      \u003ctd\u003ea\u003c/td\u003e\n    \u003c/tr\u003e\n    \u003ctr\u003e\n      \u003cth\u003e2311\u003c/th\u003e\n      \u003ctd\u003eThis is a purebred Bacardi named Octaviath. Ca...\u003c/td\u003e\n      \u003ctd\u003ea\u003c/td\u003e\n    \u003c/tr\u003e\n    \u003ctr\u003e\n      \u003cth\u003e2314\u003c/th\u003e\n      \u003ctd\u003eThis is a golden Buckminsterfullerene named Jo...\u003c/td\u003e\n      \u003ctd\u003ea\u003c/td\u003e\n    \u003c/tr\u003e\n    \u003ctr\u003e\n      \u003cth\u003e2326\u003c/th\u003e\n      \u003ctd\u003eThis is quite the dog. Gets really excited whe...\u003c/td\u003e\n      \u003ctd\u003equite\u003c/td\u003e\n    \u003c/tr\u003e\n    \u003ctr\u003e\n      \u003cth\u003e2327\u003c/th\u003e\n      \u003ctd\u003eThis is a southern Vesuvius bumblegruff. Can d...\u003c/td\u003e\n      \u003ctd\u003ea\u003c/td\u003e\n    \u003c/tr\u003e\n    \u003ctr\u003e\n      \u003cth\u003e2333\u003c/th\u003e\n      \u003ctd\u003eThis is an extremely rare horned Parthenon. No...\u003c/td\u003e\n      \u003ctd\u003ean\u003c/td\u003e\n    \u003c/tr\u003e\n    \u003ctr\u003e\n      \u003cth\u003e2334\u003c/th\u003e\n      \u003ctd\u003eThis is a funny dog. Weird toes. Won\u0027t come do...\u003c/td\u003e\n      \u003ctd\u003ea\u003c/td\u003e\n    \u003c/tr\u003e\n    \u003ctr\u003e\n      \u003cth\u003e2335\u003c/th\u003e\n      \u003ctd\u003eThis is an Albanian 3 1/2 legged  Episcopalian...\u003c/td\u003e\n      \u003ctd\u003ean\u003c/td\u003e\n    \u003c/tr\u003e\n    \u003ctr\u003e\n      \u003cth\u003e2345\u003c/th\u003e\n      \u003ctd\u003eThis is the happiest dog you will ever see. Ve...\u003c/td\u003e\n      \u003ctd\u003ethe\u003c/td\u003e\n    \u003c/tr\u003e\n    \u003ctr\u003e\n      \u003cth\u003e2346\u003c/th\u003e\n      \u003ctd\u003eHere is the Rand Paul of retrievers folks! He\u0027...\u003c/td\u003e\n      \u003ctd\u003ethe\u003c/td\u003e\n    \u003c/tr\u003e\n    \u003ctr\u003e\n      \u003cth\u003e2347\u003c/th\u003e\n      \u003ctd\u003eMy oh my. This is a rare blond Canadian terrie...\u003c/td\u003e\n      \u003ctd\u003ea\u003c/td\u003e\n    \u003c/tr\u003e\n    \u003ctr\u003e\n      \u003cth\u003e2348\u003c/th\u003e\n      \u003ctd\u003eHere is a Siberian heavily armored polar bear ...\u003c/td\u003e\n      \u003ctd\u003ea\u003c/td\u003e\n    \u003c/tr\u003e\n    \u003ctr\u003e\n      \u003cth\u003e2349\u003c/th\u003e\n      \u003ctd\u003eThis is an odd dog. Hard on the outside but lo...\u003c/td\u003e\n      \u003ctd\u003ean\u003c/td\u003e\n    \u003c/tr\u003e\n    \u003ctr\u003e\n      \u003cth\u003e2350\u003c/th\u003e\n      \u003ctd\u003eThis is a truly beautiful English Wilson Staff...\u003c/td\u003e\n      \u003ctd\u003ea\u003c/td\u003e\n    \u003c/tr\u003e\n    \u003ctr\u003e\n      \u003cth\u003e2352\u003c/th\u003e\n      \u003ctd\u003eThis is a purebred Piers Morgan. Loves to Netf...\u003c/td\u003e\n      \u003ctd\u003ea\u003c/td\u003e\n    \u003c/tr\u003e\n    \u003ctr\u003e\n      \u003cth\u003e2353\u003c/th\u003e\n      \u003ctd\u003eHere is a very happy pup. Big fan of well-main...\u003c/td\u003e\n      \u003ctd\u003ea\u003c/td\u003e\n    \u003c/tr\u003e\n    \u003ctr\u003e\n      \u003cth\u003e2354\u003c/th\u003e\n      \u003ctd\u003eThis is a western brown Mitsubishi terrier. Up...\u003c/td\u003e\n      \u003ctd\u003ea\u003c/td\u003e\n    \u003c/tr\u003e\n  \u003c/tbody\u003e\n\u003c/table\u003e\n\u003cp\u003e109 rows × 2 columns\u003c/p\u003e\n\u003c/div\u003e"
          },
          "metadata": {},
          "output_type": "execute_result",
          "execution_count": 37
        }
      ],
      "source": "not_names \u003d twitter_df[twitter_df[\u0027name\u0027].str.match(\u0027^[a-z]\u0027)][[\u0027text\u0027, \u0027name\u0027]]\n#not_names.value_counts()\nnot_names"
    },
    {
      "cell_type": "code",
      "execution_count": 49,
      "metadata": {
        "pycharm": {}
      },
      "outputs": [
        {
          "name": "stdout",
          "output_type": "stream",
          "text": [
            "None     2259\n",
            "doggo      97\n",
            "Name: doggo, dtype: int64 \n",
            "\n",
            "None       2346\n",
            "floofer      10\n",
            "Name: floofer, dtype: int64 \n",
            "\n",
            "None      2099\n",
            "pupper     257\n",
            "Name: pupper, dtype: int64 \n",
            "\n",
            "None     2326\n",
            "puppo      30\n",
            "Name: puppo, dtype: int64 \n",
            "\n"
          ]
        }
      ],
      "source": [
        "print(twitter_df[\u0027doggo\u0027].value_counts(), \u0027\\n\u0027)\n",
        "print(twitter_df[\u0027floofer\u0027].value_counts(), \u0027\\n\u0027)\n",
        "print(twitter_df[\u0027pupper\u0027].value_counts(), \u0027\\n\u0027)\n",
        "print(twitter_df[\u0027puppo\u0027].value_counts(), \u0027\\n\u0027)"
      ]
    },
    {
      "cell_type": "code",
      "execution_count": 41,
      "metadata": {
        "pycharm": {
          "is_executing": false,
          "metadata": false,
          "name": "#%%\n"
        }
      },
      "outputs": [
        {
          "data": {
            "image/png": "[encoded data removed]",
            "text/plain": [
              "\u003cFigure size 432x288 with 1 Axes\u003e"
            ]
          },
          "metadata": {
            "needs_background": "light"
          },
          "output_type": "display_data"
        }
      ],
      "source": [
        "fig, ax \u003d plt.subplots()\n",
        "ax.hist(twitter_df[\u0027rating_numerator\u0027], color\u003d\u0027#0C7BDC\u0027, histtype\u003d\u0027step\u0027, log\u003dTrue, label\u003d\u0027Numerator\u0027)\n",
        "ax.hist(twitter_df[\u0027rating_denominator\u0027], color\u003d\u0027#FFC20A\u0027, histtype\u003d\u0027stepfilled\u0027, log\u003dTrue, label\u003d\u0027Denominator\u0027)\n",
        "ax.set_xlabel(\u0027Rating\u0027)\n",
        "ax.set_ylabel(\u0027log frequency\u0027)\n",
        "ax.legend()\n",
        "fig.savefig(os.path.join(IMAGES_DIR, \u0027rating-histogram.jpg\u0027))\n",
        "plt.show();"
      ]
    },
    {
      "cell_type": "markdown",
      "metadata": {
        "pycharm": {}
      },
      "source": [
        "### Data file tweet_json.txt \n",
        "\n",
        "Problems identified in data set.\n",
        "\n",
        "Drop column since all values are missing:\n",
        "* contributors\n",
        "* coordinates \n",
        "* geo\n",
        "* place - one row have value\n",
        "* possibly_sensitive - all rows have zero (0)\n",
        "* possibly_sensitive_appealable - all rows have zero (0)\n",
        "\n",
        "* source - categorical values can be extracted N{iphone, android}\n"
      ]
    },
    {
      "cell_type": "code",
      "execution_count": 4,
      "metadata": {
        "pycharm": {
          "is_executing": false
        }
      },
      "outputs": [
        {
          "data": {
            "text/html": [
              "\u003cdiv\u003e\n",
              "\u003cstyle scoped\u003e\n",
              "    .dataframe tbody tr th:only-of-type {\n",
              "        vertical-align: middle;\n",
              "    }\n",
              "\n",
              "    .dataframe tbody tr th {\n",
              "        vertical-align: top;\n",
              "    }\n",
              "\n",
              "    .dataframe thead th {\n",
              "        text-align: right;\n",
              "    }\n",
              "\u003c/style\u003e\n",
              "\u003ctable border\u003d\"1\" class\u003d\"dataframe\"\u003e\n",
              "  \u003cthead\u003e\n",
              "    \u003ctr style\u003d\"text-align: right;\"\u003e\n",
              "      \u003cth\u003e\u003c/th\u003e\n",
              "      \u003cth\u003econtributors\u003c/th\u003e\n",
              "      \u003cth\u003ecoordinates\u003c/th\u003e\n",
              "      \u003cth\u003ecreated_at\u003c/th\u003e\n",
              "      \u003cth\u003edisplay_text_range\u003c/th\u003e\n",
              "      \u003cth\u003eentities\u003c/th\u003e\n",
              "      \u003cth\u003eextended_entities\u003c/th\u003e\n",
              "      \u003cth\u003efavorite_count\u003c/th\u003e\n",
              "      \u003cth\u003efavorited\u003c/th\u003e\n",
              "    \u003c/tr\u003e\n",
              "  \u003c/thead\u003e\n",
              "  \u003ctbody\u003e\n",
              "    \u003ctr\u003e\n",
              "      \u003cth\u003e0\u003c/th\u003e\n",
              "      \u003ctd\u003eNaN\u003c/td\u003e\n",
              "      \u003ctd\u003eNaN\u003c/td\u003e\n",
              "      \u003ctd\u003e2017-08-01 16:23:56\u003c/td\u003e\n",
              "      \u003ctd\u003e[0, 85]\u003c/td\u003e\n",
              "      \u003ctd\u003e{\u0027hashtags\u0027: [], \u0027symbols\u0027: [], \u0027user_mentions...\u003c/td\u003e\n",
              "      \u003ctd\u003e{\u0027media\u0027: [{\u0027id\u0027: 892420639486877696, \u0027id_str\u0027...\u003c/td\u003e\n",
              "      \u003ctd\u003e37786\u003c/td\u003e\n",
              "      \u003ctd\u003eFalse\u003c/td\u003e\n",
              "    \u003c/tr\u003e\n",
              "    \u003ctr\u003e\n",
              "      \u003cth\u003e1\u003c/th\u003e\n",
              "      \u003ctd\u003eNaN\u003c/td\u003e\n",
              "      \u003ctd\u003eNaN\u003c/td\u003e\n",
              "      \u003ctd\u003e2017-08-01 00:17:27\u003c/td\u003e\n",
              "      \u003ctd\u003e[0, 138]\u003c/td\u003e\n",
              "      \u003ctd\u003e{\u0027hashtags\u0027: [], \u0027symbols\u0027: [], \u0027user_mentions...\u003c/td\u003e\n",
              "      \u003ctd\u003e{\u0027media\u0027: [{\u0027id\u0027: 892177413194625024, \u0027id_str\u0027...\u003c/td\u003e\n",
              "      \u003ctd\u003e32465\u003c/td\u003e\n",
              "      \u003ctd\u003eFalse\u003c/td\u003e\n",
              "    \u003c/tr\u003e\n",
              "    \u003ctr\u003e\n",
              "      \u003cth\u003e2\u003c/th\u003e\n",
              "      \u003ctd\u003eNaN\u003c/td\u003e\n",
              "      \u003ctd\u003eNaN\u003c/td\u003e\n",
              "      \u003ctd\u003e2017-07-31 00:18:03\u003c/td\u003e\n",
              "      \u003ctd\u003e[0, 121]\u003c/td\u003e\n",
              "      \u003ctd\u003e{\u0027hashtags\u0027: [], \u0027symbols\u0027: [], \u0027user_mentions...\u003c/td\u003e\n",
              "      \u003ctd\u003e{\u0027media\u0027: [{\u0027id\u0027: 891815175371796480, \u0027id_str\u0027...\u003c/td\u003e\n",
              "      \u003ctd\u003e24439\u003c/td\u003e\n",
              "      \u003ctd\u003eFalse\u003c/td\u003e\n",
              "    \u003c/tr\u003e\n",
              "    \u003ctr\u003e\n",
              "      \u003cth\u003e3\u003c/th\u003e\n",
              "      \u003ctd\u003eNaN\u003c/td\u003e\n",
              "      \u003ctd\u003eNaN\u003c/td\u003e\n",
              "      \u003ctd\u003e2017-07-30 15:58:51\u003c/td\u003e\n",
              "      \u003ctd\u003e[0, 79]\u003c/td\u003e\n",
              "      \u003ctd\u003e{\u0027hashtags\u0027: [], \u0027symbols\u0027: [], \u0027user_mentions...\u003c/td\u003e\n",
              "      \u003ctd\u003e{\u0027media\u0027: [{\u0027id\u0027: 891689552724799489, \u0027id_str\u0027...\u003c/td\u003e\n",
              "      \u003ctd\u003e41115\u003c/td\u003e\n",
              "      \u003ctd\u003eFalse\u003c/td\u003e\n",
              "    \u003c/tr\u003e\n",
              "    \u003ctr\u003e\n",
              "      \u003cth\u003e4\u003c/th\u003e\n",
              "      \u003ctd\u003eNaN\u003c/td\u003e\n",
              "      \u003ctd\u003eNaN\u003c/td\u003e\n",
              "      \u003ctd\u003e2017-07-29 16:00:24\u003c/td\u003e\n",
              "      \u003ctd\u003e[0, 138]\u003c/td\u003e\n",
              "      \u003ctd\u003e{\u0027hashtags\u0027: [{\u0027text\u0027: \u0027BarkWeek\u0027, \u0027indices\u0027: ...\u003c/td\u003e\n",
              "      \u003ctd\u003e{\u0027media\u0027: [{\u0027id\u0027: 891327551943041024, \u0027id_str\u0027...\u003c/td\u003e\n",
              "      \u003ctd\u003e39330\u003c/td\u003e\n",
              "      \u003ctd\u003eFalse\u003c/td\u003e\n",
              "    \u003c/tr\u003e\n",
              "  \u003c/tbody\u003e\n",
              "\u003c/table\u003e\n",
              "\u003c/div\u003e"
            ],
            "text/plain": [
              "   contributors  coordinates          created_at display_text_range  \\\n",
              "0           NaN          NaN 2017-08-01 16:23:56            [0, 85]   \n",
              "1           NaN          NaN 2017-08-01 00:17:27           [0, 138]   \n",
              "2           NaN          NaN 2017-07-31 00:18:03           [0, 121]   \n",
              "3           NaN          NaN 2017-07-30 15:58:51            [0, 79]   \n",
              "4           NaN          NaN 2017-07-29 16:00:24           [0, 138]   \n",
              "\n",
              "                                            entities  \\\n",
              "0  {\u0027hashtags\u0027: [], \u0027symbols\u0027: [], \u0027user_mentions...   \n",
              "1  {\u0027hashtags\u0027: [], \u0027symbols\u0027: [], \u0027user_mentions...   \n",
              "2  {\u0027hashtags\u0027: [], \u0027symbols\u0027: [], \u0027user_mentions...   \n",
              "3  {\u0027hashtags\u0027: [], \u0027symbols\u0027: [], \u0027user_mentions...   \n",
              "4  {\u0027hashtags\u0027: [{\u0027text\u0027: \u0027BarkWeek\u0027, \u0027indices\u0027: ...   \n",
              "\n",
              "                                   extended_entities  favorite_count  \\\n",
              "0  {\u0027media\u0027: [{\u0027id\u0027: 892420639486877696, \u0027id_str\u0027...           37786   \n",
              "1  {\u0027media\u0027: [{\u0027id\u0027: 892177413194625024, \u0027id_str\u0027...           32465   \n",
              "2  {\u0027media\u0027: [{\u0027id\u0027: 891815175371796480, \u0027id_str\u0027...           24439   \n",
              "3  {\u0027media\u0027: [{\u0027id\u0027: 891689552724799489, \u0027id_str\u0027...           41115   \n",
              "4  {\u0027media\u0027: [{\u0027id\u0027: 891327551943041024, \u0027id_str\u0027...           39330   \n",
              "\n",
              "   favorited  \n",
              "0      False  \n",
              "1      False  \n",
              "2      False  \n",
              "3      False  \n",
              "4      False  "
            ]
          },
          "execution_count": 4,
          "metadata": {},
          "output_type": "execute_result"
        }
      ],
      "source": [
        "tweet_df.iloc[:5,:8]"
      ]
    },
    {
      "cell_type": "code",
      "execution_count": 172,
      "metadata": {
        "pycharm": {}
      },
      "outputs": [
        {
          "data": {
            "text/html": [
              "\u003cdiv\u003e\n",
              "\u003cstyle scoped\u003e\n",
              "    .dataframe tbody tr th:only-of-type {\n",
              "        vertical-align: middle;\n",
              "    }\n",
              "\n",
              "    .dataframe tbody tr th {\n",
              "        vertical-align: top;\n",
              "    }\n",
              "\n",
              "    .dataframe thead th {\n",
              "        text-align: right;\n",
              "    }\n",
              "\u003c/style\u003e\n",
              "\u003ctable border\u003d\"1\" class\u003d\"dataframe\"\u003e\n",
              "  \u003cthead\u003e\n",
              "    \u003ctr style\u003d\"text-align: right;\"\u003e\n",
              "      \u003cth\u003e\u003c/th\u003e\n",
              "      \u003cth\u003efull_text\u003c/th\u003e\n",
              "      \u003cth\u003egeo\u003c/th\u003e\n",
              "      \u003cth\u003eid\u003c/th\u003e\n",
              "      \u003cth\u003eid_str\u003c/th\u003e\n",
              "      \u003cth\u003ein_reply_to_screen_name\u003c/th\u003e\n",
              "      \u003cth\u003ein_reply_to_status_id\u003c/th\u003e\n",
              "      \u003cth\u003ein_reply_to_status_id_str\u003c/th\u003e\n",
              "      \u003cth\u003ein_reply_to_user_id\u003c/th\u003e\n",
              "    \u003c/tr\u003e\n",
              "  \u003c/thead\u003e\n",
              "  \u003ctbody\u003e\n",
              "    \u003ctr\u003e\n",
              "      \u003cth\u003e0\u003c/th\u003e\n",
              "      \u003ctd\u003eThis is Phineas. He\u0027s a mystical boy. Only eve...\u003c/td\u003e\n",
              "      \u003ctd\u003eNaN\u003c/td\u003e\n",
              "      \u003ctd\u003e892420643555336193\u003c/td\u003e\n",
              "      \u003ctd\u003e892420643555336192\u003c/td\u003e\n",
              "      \u003ctd\u003eNone\u003c/td\u003e\n",
              "      \u003ctd\u003eNaN\u003c/td\u003e\n",
              "      \u003ctd\u003eNaN\u003c/td\u003e\n",
              "      \u003ctd\u003eNaN\u003c/td\u003e\n",
              "    \u003c/tr\u003e\n",
              "    \u003ctr\u003e\n",
              "      \u003cth\u003e1\u003c/th\u003e\n",
              "      \u003ctd\u003eThis is Tilly. She\u0027s just checking pup on you....\u003c/td\u003e\n",
              "      \u003ctd\u003eNaN\u003c/td\u003e\n",
              "      \u003ctd\u003e892177421306343426\u003c/td\u003e\n",
              "      \u003ctd\u003e892177421306343424\u003c/td\u003e\n",
              "      \u003ctd\u003eNone\u003c/td\u003e\n",
              "      \u003ctd\u003eNaN\u003c/td\u003e\n",
              "      \u003ctd\u003eNaN\u003c/td\u003e\n",
              "      \u003ctd\u003eNaN\u003c/td\u003e\n",
              "    \u003c/tr\u003e\n",
              "    \u003ctr\u003e\n",
              "      \u003cth\u003e2\u003c/th\u003e\n",
              "      \u003ctd\u003eThis is Archie. He is a rare Norwegian Pouncin...\u003c/td\u003e\n",
              "      \u003ctd\u003eNaN\u003c/td\u003e\n",
              "      \u003ctd\u003e891815181378084864\u003c/td\u003e\n",
              "      \u003ctd\u003e891815181378084864\u003c/td\u003e\n",
              "      \u003ctd\u003eNone\u003c/td\u003e\n",
              "      \u003ctd\u003eNaN\u003c/td\u003e\n",
              "      \u003ctd\u003eNaN\u003c/td\u003e\n",
              "      \u003ctd\u003eNaN\u003c/td\u003e\n",
              "    \u003c/tr\u003e\n",
              "    \u003ctr\u003e\n",
              "      \u003cth\u003e3\u003c/th\u003e\n",
              "      \u003ctd\u003eThis is Darla. She commenced a snooze mid meal...\u003c/td\u003e\n",
              "      \u003ctd\u003eNaN\u003c/td\u003e\n",
              "      \u003ctd\u003e891689557279858688\u003c/td\u003e\n",
              "      \u003ctd\u003e891689557279858688\u003c/td\u003e\n",
              "      \u003ctd\u003eNone\u003c/td\u003e\n",
              "      \u003ctd\u003eNaN\u003c/td\u003e\n",
              "      \u003ctd\u003eNaN\u003c/td\u003e\n",
              "      \u003ctd\u003eNaN\u003c/td\u003e\n",
              "    \u003c/tr\u003e\n",
              "    \u003ctr\u003e\n",
              "      \u003cth\u003e4\u003c/th\u003e\n",
              "      \u003ctd\u003eThis is Franklin. He would like you to stop ca...\u003c/td\u003e\n",
              "      \u003ctd\u003eNaN\u003c/td\u003e\n",
              "      \u003ctd\u003e891327558926688256\u003c/td\u003e\n",
              "      \u003ctd\u003e891327558926688256\u003c/td\u003e\n",
              "      \u003ctd\u003eNone\u003c/td\u003e\n",
              "      \u003ctd\u003eNaN\u003c/td\u003e\n",
              "      \u003ctd\u003eNaN\u003c/td\u003e\n",
              "      \u003ctd\u003eNaN\u003c/td\u003e\n",
              "    \u003c/tr\u003e\n",
              "  \u003c/tbody\u003e\n",
              "\u003c/table\u003e\n",
              "\u003c/div\u003e"
            ],
            "text/plain": [
              "                                           full_text  geo                  id  \\\n",
              "0  This is Phineas. He\u0027s a mystical boy. Only eve...  NaN  892420643555336193   \n",
              "1  This is Tilly. She\u0027s just checking pup on you....  NaN  892177421306343426   \n",
              "2  This is Archie. He is a rare Norwegian Pouncin...  NaN  891815181378084864   \n",
              "3  This is Darla. She commenced a snooze mid meal...  NaN  891689557279858688   \n",
              "4  This is Franklin. He would like you to stop ca...  NaN  891327558926688256   \n",
              "\n",
              "               id_str in_reply_to_screen_name  in_reply_to_status_id  \\\n",
              "0  892420643555336192                    None                    NaN   \n",
              "1  892177421306343424                    None                    NaN   \n",
              "2  891815181378084864                    None                    NaN   \n",
              "3  891689557279858688                    None                    NaN   \n",
              "4  891327558926688256                    None                    NaN   \n",
              "\n",
              "   in_reply_to_status_id_str  in_reply_to_user_id  \n",
              "0                        NaN                  NaN  \n",
              "1                        NaN                  NaN  \n",
              "2                        NaN                  NaN  \n",
              "3                        NaN                  NaN  \n",
              "4                        NaN                  NaN  "
            ]
          },
          "execution_count": 172,
          "metadata": {},
          "output_type": "execute_result"
        }
      ],
      "source": [
        "tweet_df.iloc[:5,8:16]"
      ]
    },
    {
      "cell_type": "code",
      "execution_count": 173,
      "metadata": {
        "pycharm": {}
      },
      "outputs": [
        {
          "data": {
            "text/html": [
              "\u003cdiv\u003e\n",
              "\u003cstyle scoped\u003e\n",
              "    .dataframe tbody tr th:only-of-type {\n",
              "        vertical-align: middle;\n",
              "    }\n",
              "\n",
              "    .dataframe tbody tr th {\n",
              "        vertical-align: top;\n",
              "    }\n",
              "\n",
              "    .dataframe thead th {\n",
              "        text-align: right;\n",
              "    }\n",
              "\u003c/style\u003e\n",
              "\u003ctable border\u003d\"1\" class\u003d\"dataframe\"\u003e\n",
              "  \u003cthead\u003e\n",
              "    \u003ctr style\u003d\"text-align: right;\"\u003e\n",
              "      \u003cth\u003e\u003c/th\u003e\n",
              "      \u003cth\u003ein_reply_to_user_id_str\u003c/th\u003e\n",
              "      \u003cth\u003eis_quote_status\u003c/th\u003e\n",
              "      \u003cth\u003elang\u003c/th\u003e\n",
              "      \u003cth\u003eplace\u003c/th\u003e\n",
              "      \u003cth\u003epossibly_sensitive\u003c/th\u003e\n",
              "      \u003cth\u003epossibly_sensitive_appealable\u003c/th\u003e\n",
              "      \u003cth\u003equoted_status\u003c/th\u003e\n",
              "      \u003cth\u003equoted_status_id\u003c/th\u003e\n",
              "    \u003c/tr\u003e\n",
              "  \u003c/thead\u003e\n",
              "  \u003ctbody\u003e\n",
              "    \u003ctr\u003e\n",
              "      \u003cth\u003e0\u003c/th\u003e\n",
              "      \u003ctd\u003eNaN\u003c/td\u003e\n",
              "      \u003ctd\u003eFalse\u003c/td\u003e\n",
              "      \u003ctd\u003een\u003c/td\u003e\n",
              "      \u003ctd\u003eNone\u003c/td\u003e\n",
              "      \u003ctd\u003e0.0\u003c/td\u003e\n",
              "      \u003ctd\u003e0.0\u003c/td\u003e\n",
              "      \u003ctd\u003eNaN\u003c/td\u003e\n",
              "      \u003ctd\u003eNaN\u003c/td\u003e\n",
              "    \u003c/tr\u003e\n",
              "    \u003ctr\u003e\n",
              "      \u003cth\u003e1\u003c/th\u003e\n",
              "      \u003ctd\u003eNaN\u003c/td\u003e\n",
              "      \u003ctd\u003eFalse\u003c/td\u003e\n",
              "      \u003ctd\u003een\u003c/td\u003e\n",
              "      \u003ctd\u003eNone\u003c/td\u003e\n",
              "      \u003ctd\u003e0.0\u003c/td\u003e\n",
              "      \u003ctd\u003e0.0\u003c/td\u003e\n",
              "      \u003ctd\u003eNaN\u003c/td\u003e\n",
              "      \u003ctd\u003eNaN\u003c/td\u003e\n",
              "    \u003c/tr\u003e\n",
              "    \u003ctr\u003e\n",
              "      \u003cth\u003e2\u003c/th\u003e\n",
              "      \u003ctd\u003eNaN\u003c/td\u003e\n",
              "      \u003ctd\u003eFalse\u003c/td\u003e\n",
              "      \u003ctd\u003een\u003c/td\u003e\n",
              "      \u003ctd\u003eNone\u003c/td\u003e\n",
              "      \u003ctd\u003e0.0\u003c/td\u003e\n",
              "      \u003ctd\u003e0.0\u003c/td\u003e\n",
              "      \u003ctd\u003eNaN\u003c/td\u003e\n",
              "      \u003ctd\u003eNaN\u003c/td\u003e\n",
              "    \u003c/tr\u003e\n",
              "    \u003ctr\u003e\n",
              "      \u003cth\u003e3\u003c/th\u003e\n",
              "      \u003ctd\u003eNaN\u003c/td\u003e\n",
              "      \u003ctd\u003eFalse\u003c/td\u003e\n",
              "      \u003ctd\u003een\u003c/td\u003e\n",
              "      \u003ctd\u003eNone\u003c/td\u003e\n",
              "      \u003ctd\u003e0.0\u003c/td\u003e\n",
              "      \u003ctd\u003e0.0\u003c/td\u003e\n",
              "      \u003ctd\u003eNaN\u003c/td\u003e\n",
              "      \u003ctd\u003eNaN\u003c/td\u003e\n",
              "    \u003c/tr\u003e\n",
              "    \u003ctr\u003e\n",
              "      \u003cth\u003e4\u003c/th\u003e\n",
              "      \u003ctd\u003eNaN\u003c/td\u003e\n",
              "      \u003ctd\u003eFalse\u003c/td\u003e\n",
              "      \u003ctd\u003een\u003c/td\u003e\n",
              "      \u003ctd\u003eNone\u003c/td\u003e\n",
              "      \u003ctd\u003e0.0\u003c/td\u003e\n",
              "      \u003ctd\u003e0.0\u003c/td\u003e\n",
              "      \u003ctd\u003eNaN\u003c/td\u003e\n",
              "      \u003ctd\u003eNaN\u003c/td\u003e\n",
              "    \u003c/tr\u003e\n",
              "  \u003c/tbody\u003e\n",
              "\u003c/table\u003e\n",
              "\u003c/div\u003e"
            ],
            "text/plain": [
              "   in_reply_to_user_id_str  is_quote_status lang place  possibly_sensitive  \\\n",
              "0                      NaN            False   en  None                 0.0   \n",
              "1                      NaN            False   en  None                 0.0   \n",
              "2                      NaN            False   en  None                 0.0   \n",
              "3                      NaN            False   en  None                 0.0   \n",
              "4                      NaN            False   en  None                 0.0   \n",
              "\n",
              "   possibly_sensitive_appealable quoted_status  quoted_status_id  \n",
              "0                            0.0           NaN               NaN  \n",
              "1                            0.0           NaN               NaN  \n",
              "2                            0.0           NaN               NaN  \n",
              "3                            0.0           NaN               NaN  \n",
              "4                            0.0           NaN               NaN  "
            ]
          },
          "execution_count": 173,
          "metadata": {},
          "output_type": "execute_result"
        }
      ],
      "source": [
        "tweet_df.iloc[:5,16:24]"
      ]
    },
    {
      "cell_type": "code",
      "execution_count": 174,
      "metadata": {
        "pycharm": {}
      },
      "outputs": [
        {
          "data": {
            "text/html": [
              "\u003cdiv\u003e\n",
              "\u003cstyle scoped\u003e\n",
              "    .dataframe tbody tr th:only-of-type {\n",
              "        vertical-align: middle;\n",
              "    }\n",
              "\n",
              "    .dataframe tbody tr th {\n",
              "        vertical-align: top;\n",
              "    }\n",
              "\n",
              "    .dataframe thead th {\n",
              "        text-align: right;\n",
              "    }\n",
              "\u003c/style\u003e\n",
              "\u003ctable border\u003d\"1\" class\u003d\"dataframe\"\u003e\n",
              "  \u003cthead\u003e\n",
              "    \u003ctr style\u003d\"text-align: right;\"\u003e\n",
              "      \u003cth\u003e\u003c/th\u003e\n",
              "      \u003cth\u003equoted_status_id_str\u003c/th\u003e\n",
              "      \u003cth\u003equoted_status_permalink\u003c/th\u003e\n",
              "      \u003cth\u003eretweet_count\u003c/th\u003e\n",
              "      \u003cth\u003eretweeted\u003c/th\u003e\n",
              "      \u003cth\u003eretweeted_status\u003c/th\u003e\n",
              "      \u003cth\u003esource\u003c/th\u003e\n",
              "      \u003cth\u003etruncated\u003c/th\u003e\n",
              "      \u003cth\u003euser\u003c/th\u003e\n",
              "    \u003c/tr\u003e\n",
              "  \u003c/thead\u003e\n",
              "  \u003ctbody\u003e\n",
              "    \u003ctr\u003e\n",
              "      \u003cth\u003e0\u003c/th\u003e\n",
              "      \u003ctd\u003eNaN\u003c/td\u003e\n",
              "      \u003ctd\u003eNaN\u003c/td\u003e\n",
              "      \u003ctd\u003e8236\u003c/td\u003e\n",
              "      \u003ctd\u003eFalse\u003c/td\u003e\n",
              "      \u003ctd\u003eNaN\u003c/td\u003e\n",
              "      \u003ctd\u003e\u0026lt;a href\u003d\"http://twitter.com/download/iphone\" r...\u003c/td\u003e\n",
              "      \u003ctd\u003eFalse\u003c/td\u003e\n",
              "      \u003ctd\u003e{\u0027id\u0027: 4196983835, \u0027id_str\u0027: \u00274196983835\u0027, \u0027na...\u003c/td\u003e\n",
              "    \u003c/tr\u003e\n",
              "    \u003ctr\u003e\n",
              "      \u003cth\u003e1\u003c/th\u003e\n",
              "      \u003ctd\u003eNaN\u003c/td\u003e\n",
              "      \u003ctd\u003eNaN\u003c/td\u003e\n",
              "      \u003ctd\u003e6087\u003c/td\u003e\n",
              "      \u003ctd\u003eFalse\u003c/td\u003e\n",
              "      \u003ctd\u003eNaN\u003c/td\u003e\n",
              "      \u003ctd\u003e\u0026lt;a href\u003d\"http://twitter.com/download/iphone\" r...\u003c/td\u003e\n",
              "      \u003ctd\u003eFalse\u003c/td\u003e\n",
              "      \u003ctd\u003e{\u0027id\u0027: 4196983835, \u0027id_str\u0027: \u00274196983835\u0027, \u0027na...\u003c/td\u003e\n",
              "    \u003c/tr\u003e\n",
              "    \u003ctr\u003e\n",
              "      \u003cth\u003e2\u003c/th\u003e\n",
              "      \u003ctd\u003eNaN\u003c/td\u003e\n",
              "      \u003ctd\u003eNaN\u003c/td\u003e\n",
              "      \u003ctd\u003e4028\u003c/td\u003e\n",
              "      \u003ctd\u003eFalse\u003c/td\u003e\n",
              "      \u003ctd\u003eNaN\u003c/td\u003e\n",
              "      \u003ctd\u003e\u0026lt;a href\u003d\"http://twitter.com/download/iphone\" r...\u003c/td\u003e\n",
              "      \u003ctd\u003eFalse\u003c/td\u003e\n",
              "      \u003ctd\u003e{\u0027id\u0027: 4196983835, \u0027id_str\u0027: \u00274196983835\u0027, \u0027na...\u003c/td\u003e\n",
              "    \u003c/tr\u003e\n",
              "    \u003ctr\u003e\n",
              "      \u003cth\u003e3\u003c/th\u003e\n",
              "      \u003ctd\u003eNaN\u003c/td\u003e\n",
              "      \u003ctd\u003eNaN\u003c/td\u003e\n",
              "      \u003ctd\u003e8393\u003c/td\u003e\n",
              "      \u003ctd\u003eFalse\u003c/td\u003e\n",
              "      \u003ctd\u003eNaN\u003c/td\u003e\n",
              "      \u003ctd\u003e\u0026lt;a href\u003d\"http://twitter.com/download/iphone\" r...\u003c/td\u003e\n",
              "      \u003ctd\u003eFalse\u003c/td\u003e\n",
              "      \u003ctd\u003e{\u0027id\u0027: 4196983835, \u0027id_str\u0027: \u00274196983835\u0027, \u0027na...\u003c/td\u003e\n",
              "    \u003c/tr\u003e\n",
              "    \u003ctr\u003e\n",
              "      \u003cth\u003e4\u003c/th\u003e\n",
              "      \u003ctd\u003eNaN\u003c/td\u003e\n",
              "      \u003ctd\u003eNaN\u003c/td\u003e\n",
              "      \u003ctd\u003e9090\u003c/td\u003e\n",
              "      \u003ctd\u003eFalse\u003c/td\u003e\n",
              "      \u003ctd\u003eNaN\u003c/td\u003e\n",
              "      \u003ctd\u003e\u0026lt;a href\u003d\"http://twitter.com/download/iphone\" r...\u003c/td\u003e\n",
              "      \u003ctd\u003eFalse\u003c/td\u003e\n",
              "      \u003ctd\u003e{\u0027id\u0027: 4196983835, \u0027id_str\u0027: \u00274196983835\u0027, \u0027na...\u003c/td\u003e\n",
              "    \u003c/tr\u003e\n",
              "  \u003c/tbody\u003e\n",
              "\u003c/table\u003e\n",
              "\u003c/div\u003e"
            ],
            "text/plain": [
              "   quoted_status_id_str quoted_status_permalink  retweet_count  retweeted  \\\n",
              "0                   NaN                     NaN           8236      False   \n",
              "1                   NaN                     NaN           6087      False   \n",
              "2                   NaN                     NaN           4028      False   \n",
              "3                   NaN                     NaN           8393      False   \n",
              "4                   NaN                     NaN           9090      False   \n",
              "\n",
              "  retweeted_status                                             source  \\\n",
              "0              NaN  \u003ca href\u003d\"http://twitter.com/download/iphone\" r...   \n",
              "1              NaN  \u003ca href\u003d\"http://twitter.com/download/iphone\" r...   \n",
              "2              NaN  \u003ca href\u003d\"http://twitter.com/download/iphone\" r...   \n",
              "3              NaN  \u003ca href\u003d\"http://twitter.com/download/iphone\" r...   \n",
              "4              NaN  \u003ca href\u003d\"http://twitter.com/download/iphone\" r...   \n",
              "\n",
              "   truncated                                               user  \n",
              "0      False  {\u0027id\u0027: 4196983835, \u0027id_str\u0027: \u00274196983835\u0027, \u0027na...  \n",
              "1      False  {\u0027id\u0027: 4196983835, \u0027id_str\u0027: \u00274196983835\u0027, \u0027na...  \n",
              "2      False  {\u0027id\u0027: 4196983835, \u0027id_str\u0027: \u00274196983835\u0027, \u0027na...  \n",
              "3      False  {\u0027id\u0027: 4196983835, \u0027id_str\u0027: \u00274196983835\u0027, \u0027na...  \n",
              "4      False  {\u0027id\u0027: 4196983835, \u0027id_str\u0027: \u00274196983835\u0027, \u0027na...  "
            ]
          },
          "execution_count": 174,
          "metadata": {},
          "output_type": "execute_result"
        }
      ],
      "source": [
        "tweet_df.iloc[:5,24:]"
      ]
    },
    {
      "cell_type": "code",
      "execution_count": 9,
      "metadata": {
        "pycharm": {}
      },
      "outputs": [
        {
          "name": "stdout",
          "output_type": "stream",
          "text": [
            "\u003cclass \u0027pandas.core.frame.DataFrame\u0027\u003e\n",
            "RangeIndex: 2339 entries, 0 to 2338\n",
            "Data columns (total 32 columns):\n",
            "contributors                     0 non-null float64\n",
            "coordinates                      0 non-null float64\n",
            "created_at                       2339 non-null datetime64[ns]\n",
            "display_text_range               2339 non-null object\n",
            "entities                         2339 non-null object\n",
            "extended_entities                2065 non-null object\n",
            "favorite_count                   2339 non-null int64\n",
            "favorited                        2339 non-null bool\n",
            "full_text                        2339 non-null object\n",
            "geo                              0 non-null float64\n",
            "id                               2339 non-null int64\n",
            "id_str                           2339 non-null int64\n",
            "in_reply_to_screen_name          77 non-null object\n",
            "in_reply_to_status_id            77 non-null float64\n",
            "in_reply_to_status_id_str        77 non-null float64\n",
            "in_reply_to_user_id              77 non-null float64\n",
            "in_reply_to_user_id_str          77 non-null float64\n",
            "is_quote_status                  2339 non-null bool\n",
            "lang                             2339 non-null object\n",
            "place                            1 non-null object\n",
            "possibly_sensitive               2203 non-null float64\n",
            "possibly_sensitive_appealable    2203 non-null float64\n",
            "quoted_status                    24 non-null object\n",
            "quoted_status_id                 26 non-null float64\n",
            "quoted_status_id_str             26 non-null float64\n",
            "quoted_status_permalink          26 non-null object\n",
            "retweet_count                    2339 non-null int64\n",
            "retweeted                        2339 non-null bool\n",
            "retweeted_status                 167 non-null object\n",
            "source                           2339 non-null object\n",
            "truncated                        2339 non-null bool\n",
            "user                             2339 non-null object\n",
            "dtypes: bool(4), datetime64[ns](1), float64(11), int64(4), object(12)\n",
            "memory usage: 520.9+ KB\n"
          ]
        }
      ],
      "source": [
        "tweet_df.info()"
      ]
    },
    {
      "cell_type": "code",
      "execution_count": 7,
      "metadata": {
        "pycharm": {}
      },
      "outputs": [
        {
          "data": {
            "text/html": [
              "\u003cdiv\u003e\n",
              "\u003cstyle scoped\u003e\n",
              "    .dataframe tbody tr th:only-of-type {\n",
              "        vertical-align: middle;\n",
              "    }\n",
              "\n",
              "    .dataframe tbody tr th {\n",
              "        vertical-align: top;\n",
              "    }\n",
              "\n",
              "    .dataframe thead th {\n",
              "        text-align: right;\n",
              "    }\n",
              "\u003c/style\u003e\n",
              "\u003ctable border\u003d\"1\" class\u003d\"dataframe\"\u003e\n",
              "  \u003cthead\u003e\n",
              "    \u003ctr style\u003d\"text-align: right;\"\u003e\n",
              "      \u003cth\u003e\u003c/th\u003e\n",
              "      \u003cth\u003econtributors\u003c/th\u003e\n",
              "      \u003cth\u003ecoordinates\u003c/th\u003e\n",
              "      \u003cth\u003efavorite_count\u003c/th\u003e\n",
              "      \u003cth\u003egeo\u003c/th\u003e\n",
              "      \u003cth\u003eid\u003c/th\u003e\n",
              "      \u003cth\u003eid_str\u003c/th\u003e\n",
              "      \u003cth\u003ein_reply_to_status_id\u003c/th\u003e\n",
              "      \u003cth\u003ein_reply_to_status_id_str\u003c/th\u003e\n",
              "      \u003cth\u003ein_reply_to_user_id\u003c/th\u003e\n",
              "      \u003cth\u003ein_reply_to_user_id_str\u003c/th\u003e\n",
              "      \u003cth\u003epossibly_sensitive\u003c/th\u003e\n",
              "      \u003cth\u003epossibly_sensitive_appealable\u003c/th\u003e\n",
              "      \u003cth\u003equoted_status_id\u003c/th\u003e\n",
              "      \u003cth\u003equoted_status_id_str\u003c/th\u003e\n",
              "      \u003cth\u003eretweet_count\u003c/th\u003e\n",
              "    \u003c/tr\u003e\n",
              "  \u003c/thead\u003e\n",
              "  \u003ctbody\u003e\n",
              "    \u003ctr\u003e\n",
              "      \u003cth\u003ecount\u003c/th\u003e\n",
              "      \u003ctd\u003e0.0\u003c/td\u003e\n",
              "      \u003ctd\u003e0.0\u003c/td\u003e\n",
              "      \u003ctd\u003e2339.000000\u003c/td\u003e\n",
              "      \u003ctd\u003e0.0\u003c/td\u003e\n",
              "      \u003ctd\u003e2.339000e+03\u003c/td\u003e\n",
              "      \u003ctd\u003e2.339000e+03\u003c/td\u003e\n",
              "      \u003ctd\u003e7.700000e+01\u003c/td\u003e\n",
              "      \u003ctd\u003e7.700000e+01\u003c/td\u003e\n",
              "      \u003ctd\u003e7.700000e+01\u003c/td\u003e\n",
              "      \u003ctd\u003e7.700000e+01\u003c/td\u003e\n",
              "      \u003ctd\u003e2203.0\u003c/td\u003e\n",
              "      \u003ctd\u003e2203.0\u003c/td\u003e\n",
              "      \u003ctd\u003e2.600000e+01\u003c/td\u003e\n",
              "      \u003ctd\u003e2.600000e+01\u003c/td\u003e\n",
              "      \u003ctd\u003e2339.000000\u003c/td\u003e\n",
              "    \u003c/tr\u003e\n",
              "    \u003ctr\u003e\n",
              "      \u003cth\u003emean\u003c/th\u003e\n",
              "      \u003ctd\u003eNaN\u003c/td\u003e\n",
              "      \u003ctd\u003eNaN\u003c/td\u003e\n",
              "      \u003ctd\u003e7900.328345\u003c/td\u003e\n",
              "      \u003ctd\u003eNaN\u003c/td\u003e\n",
              "      \u003ctd\u003e7.421620e+17\u003c/td\u003e\n",
              "      \u003ctd\u003e7.421620e+17\u003c/td\u003e\n",
              "      \u003ctd\u003e7.440692e+17\u003c/td\u003e\n",
              "      \u003ctd\u003e7.440692e+17\u003c/td\u003e\n",
              "      \u003ctd\u003e2.040329e+16\u003c/td\u003e\n",
              "      \u003ctd\u003e2.040329e+16\u003c/td\u003e\n",
              "      \u003ctd\u003e0.0\u003c/td\u003e\n",
              "      \u003ctd\u003e0.0\u003c/td\u003e\n",
              "      \u003ctd\u003e8.113972e+17\u003c/td\u003e\n",
              "      \u003ctd\u003e8.113972e+17\u003c/td\u003e\n",
              "      \u003ctd\u003e2903.433091\u003c/td\u003e\n",
              "    \u003c/tr\u003e\n",
              "    \u003ctr\u003e\n",
              "      \u003cth\u003estd\u003c/th\u003e\n",
              "      \u003ctd\u003eNaN\u003c/td\u003e\n",
              "      \u003ctd\u003eNaN\u003c/td\u003e\n",
              "      \u003ctd\u003e12245.660513\u003c/td\u003e\n",
              "      \u003ctd\u003eNaN\u003c/td\u003e\n",
              "      \u003ctd\u003e6.828729e+16\u003c/td\u003e\n",
              "      \u003ctd\u003e6.828729e+16\u003c/td\u003e\n",
              "      \u003ctd\u003e7.524295e+16\u003c/td\u003e\n",
              "      \u003ctd\u003e7.524295e+16\u003c/td\u003e\n",
              "      \u003ctd\u003e1.260797e+17\u003c/td\u003e\n",
              "      \u003ctd\u003e1.260797e+17\u003c/td\u003e\n",
              "      \u003ctd\u003e0.0\u003c/td\u003e\n",
              "      \u003ctd\u003e0.0\u003c/td\u003e\n",
              "      \u003ctd\u003e6.295843e+16\u003c/td\u003e\n",
              "      \u003ctd\u003e6.295843e+16\u003c/td\u003e\n",
              "      \u003ctd\u003e4895.523842\u003c/td\u003e\n",
              "    \u003c/tr\u003e\n",
              "    \u003ctr\u003e\n",
              "      \u003cth\u003emin\u003c/th\u003e\n",
              "      \u003ctd\u003eNaN\u003c/td\u003e\n",
              "      \u003ctd\u003eNaN\u003c/td\u003e\n",
              "      \u003ctd\u003e0.000000\u003c/td\u003e\n",
              "      \u003ctd\u003eNaN\u003c/td\u003e\n",
              "      \u003ctd\u003e6.660209e+17\u003c/td\u003e\n",
              "      \u003ctd\u003e6.660209e+17\u003c/td\u003e\n",
              "      \u003ctd\u003e6.658147e+17\u003c/td\u003e\n",
              "      \u003ctd\u003e6.658147e+17\u003c/td\u003e\n",
              "      \u003ctd\u003e1.185634e+07\u003c/td\u003e\n",
              "      \u003ctd\u003e1.185634e+07\u003c/td\u003e\n",
              "      \u003ctd\u003e0.0\u003c/td\u003e\n",
              "      \u003ctd\u003e0.0\u003c/td\u003e\n",
              "      \u003ctd\u003e6.721083e+17\u003c/td\u003e\n",
              "      \u003ctd\u003e6.721083e+17\u003c/td\u003e\n",
              "      \u003ctd\u003e0.000000\u003c/td\u003e\n",
              "    \u003c/tr\u003e\n",
              "    \u003ctr\u003e\n",
              "      \u003cth\u003e25%\u003c/th\u003e\n",
              "      \u003ctd\u003eNaN\u003c/td\u003e\n",
              "      \u003ctd\u003eNaN\u003c/td\u003e\n",
              "      \u003ctd\u003e1368.000000\u003c/td\u003e\n",
              "      \u003ctd\u003eNaN\u003c/td\u003e\n",
              "      \u003ctd\u003e6.783378e+17\u003c/td\u003e\n",
              "      \u003ctd\u003e6.783378e+17\u003c/td\u003e\n",
              "      \u003ctd\u003e6.757073e+17\u003c/td\u003e\n",
              "      \u003ctd\u003e6.757073e+17\u003c/td\u003e\n",
              "      \u003ctd\u003e3.589728e+08\u003c/td\u003e\n",
              "      \u003ctd\u003e3.589728e+08\u003c/td\u003e\n",
              "      \u003ctd\u003e0.0\u003c/td\u003e\n",
              "      \u003ctd\u003e0.0\u003c/td\u003e\n",
              "      \u003ctd\u003e7.761338e+17\u003c/td\u003e\n",
              "      \u003ctd\u003e7.761338e+17\u003c/td\u003e\n",
              "      \u003ctd\u003e583.500000\u003c/td\u003e\n",
              "    \u003c/tr\u003e\n",
              "    \u003ctr\u003e\n",
              "      \u003cth\u003e50%\u003c/th\u003e\n",
              "      \u003ctd\u003eNaN\u003c/td\u003e\n",
              "      \u003ctd\u003eNaN\u003c/td\u003e\n",
              "      \u003ctd\u003e3438.000000\u003c/td\u003e\n",
              "      \u003ctd\u003eNaN\u003c/td\u003e\n",
              "      \u003ctd\u003e7.186133e+17\u003c/td\u003e\n",
              "      \u003ctd\u003e7.186133e+17\u003c/td\u003e\n",
              "      \u003ctd\u003e7.032559e+17\u003c/td\u003e\n",
              "      \u003ctd\u003e7.032559e+17\u003c/td\u003e\n",
              "      \u003ctd\u003e4.196984e+09\u003c/td\u003e\n",
              "      \u003ctd\u003e4.196984e+09\u003c/td\u003e\n",
              "      \u003ctd\u003e0.0\u003c/td\u003e\n",
              "      \u003ctd\u003e0.0\u003c/td\u003e\n",
              "      \u003ctd\u003e8.281173e+17\u003c/td\u003e\n",
              "      \u003ctd\u003e8.281173e+17\u003c/td\u003e\n",
              "      \u003ctd\u003e1354.000000\u003c/td\u003e\n",
              "    \u003c/tr\u003e\n",
              "    \u003ctr\u003e\n",
              "      \u003cth\u003e75%\u003c/th\u003e\n",
              "      \u003ctd\u003eNaN\u003c/td\u003e\n",
              "      \u003ctd\u003eNaN\u003c/td\u003e\n",
              "      \u003ctd\u003e9679.500000\u003c/td\u003e\n",
              "      \u003ctd\u003eNaN\u003c/td\u003e\n",
              "      \u003ctd\u003e7.986907e+17\u003c/td\u003e\n",
              "      \u003ctd\u003e7.986907e+17\u003c/td\u003e\n",
              "      \u003ctd\u003e8.233264e+17\u003c/td\u003e\n",
              "      \u003ctd\u003e8.233264e+17\u003c/td\u003e\n",
              "      \u003ctd\u003e4.196984e+09\u003c/td\u003e\n",
              "      \u003ctd\u003e4.196984e+09\u003c/td\u003e\n",
              "      \u003ctd\u003e0.0\u003c/td\u003e\n",
              "      \u003ctd\u003e0.0\u003c/td\u003e\n",
              "      \u003ctd\u003e8.637581e+17\u003c/td\u003e\n",
              "      \u003ctd\u003e8.637581e+17\u003c/td\u003e\n",
              "      \u003ctd\u003e3383.500000\u003c/td\u003e\n",
              "    \u003c/tr\u003e\n",
              "    \u003ctr\u003e\n",
              "      \u003cth\u003emax\u003c/th\u003e\n",
              "      \u003ctd\u003eNaN\u003c/td\u003e\n",
              "      \u003ctd\u003eNaN\u003c/td\u003e\n",
              "      \u003ctd\u003e163180.000000\u003c/td\u003e\n",
              "      \u003ctd\u003eNaN\u003c/td\u003e\n",
              "      \u003ctd\u003e8.924206e+17\u003c/td\u003e\n",
              "      \u003ctd\u003e8.924206e+17\u003c/td\u003e\n",
              "      \u003ctd\u003e8.862664e+17\u003c/td\u003e\n",
              "      \u003ctd\u003e8.862664e+17\u003c/td\u003e\n",
              "      \u003ctd\u003e8.405479e+17\u003c/td\u003e\n",
              "      \u003ctd\u003e8.405479e+17\u003c/td\u003e\n",
              "      \u003ctd\u003e0.0\u003c/td\u003e\n",
              "      \u003ctd\u003e0.0\u003c/td\u003e\n",
              "      \u003ctd\u003e8.860534e+17\u003c/td\u003e\n",
              "      \u003ctd\u003e8.860534e+17\u003c/td\u003e\n",
              "      \u003ctd\u003e82974.000000\u003c/td\u003e\n",
              "    \u003c/tr\u003e\n",
              "  \u003c/tbody\u003e\n",
              "\u003c/table\u003e\n",
              "\u003c/div\u003e"
            ],
            "text/plain": [
              "       contributors  coordinates  favorite_count  geo            id  \\\n",
              "count           0.0          0.0     2339.000000  0.0  2.339000e+03   \n",
              "mean            NaN          NaN     7900.328345  NaN  7.421620e+17   \n",
              "std             NaN          NaN    12245.660513  NaN  6.828729e+16   \n",
              "min             NaN          NaN        0.000000  NaN  6.660209e+17   \n",
              "25%             NaN          NaN     1368.000000  NaN  6.783378e+17   \n",
              "50%             NaN          NaN     3438.000000  NaN  7.186133e+17   \n",
              "75%             NaN          NaN     9679.500000  NaN  7.986907e+17   \n",
              "max             NaN          NaN   163180.000000  NaN  8.924206e+17   \n",
              "\n",
              "             id_str  in_reply_to_status_id  in_reply_to_status_id_str  \\\n",
              "count  2.339000e+03           7.700000e+01               7.700000e+01   \n",
              "mean   7.421620e+17           7.440692e+17               7.440692e+17   \n",
              "std    6.828729e+16           7.524295e+16               7.524295e+16   \n",
              "min    6.660209e+17           6.658147e+17               6.658147e+17   \n",
              "25%    6.783378e+17           6.757073e+17               6.757073e+17   \n",
              "50%    7.186133e+17           7.032559e+17               7.032559e+17   \n",
              "75%    7.986907e+17           8.233264e+17               8.233264e+17   \n",
              "max    8.924206e+17           8.862664e+17               8.862664e+17   \n",
              "\n",
              "       in_reply_to_user_id  in_reply_to_user_id_str  possibly_sensitive  \\\n",
              "count         7.700000e+01             7.700000e+01              2203.0   \n",
              "mean          2.040329e+16             2.040329e+16                 0.0   \n",
              "std           1.260797e+17             1.260797e+17                 0.0   \n",
              "min           1.185634e+07             1.185634e+07                 0.0   \n",
              "25%           3.589728e+08             3.589728e+08                 0.0   \n",
              "50%           4.196984e+09             4.196984e+09                 0.0   \n",
              "75%           4.196984e+09             4.196984e+09                 0.0   \n",
              "max           8.405479e+17             8.405479e+17                 0.0   \n",
              "\n",
              "       possibly_sensitive_appealable  quoted_status_id  quoted_status_id_str  \\\n",
              "count                         2203.0      2.600000e+01          2.600000e+01   \n",
              "mean                             0.0      8.113972e+17          8.113972e+17   \n",
              "std                              0.0      6.295843e+16          6.295843e+16   \n",
              "min                              0.0      6.721083e+17          6.721083e+17   \n",
              "25%                              0.0      7.761338e+17          7.761338e+17   \n",
              "50%                              0.0      8.281173e+17          8.281173e+17   \n",
              "75%                              0.0      8.637581e+17          8.637581e+17   \n",
              "max                              0.0      8.860534e+17          8.860534e+17   \n",
              "\n",
              "       retweet_count  \n",
              "count    2339.000000  \n",
              "mean     2903.433091  \n",
              "std      4895.523842  \n",
              "min         0.000000  \n",
              "25%       583.500000  \n",
              "50%      1354.000000  \n",
              "75%      3383.500000  \n",
              "max     82974.000000  "
            ]
          },
          "execution_count": 7,
          "metadata": {},
          "output_type": "execute_result"
        }
      ],
      "source": [
        "tweet_df.describe()"
      ]
    },
    {
      "cell_type": "code",
      "execution_count": 70,
      "metadata": {
        "pycharm": {}
      },
      "outputs": [
        {
          "data": {
            "text/plain": [
              "590     RT @dog_rates: This a Norwegian Pewterschmidt ...\n",
              "1836    This is a Sizzlin Menorah spaniel from Brookly...\n",
              "1938    This is a Lofted Aphrodisiac Terrier named Kip...\n",
              "2017    This is a Tuscaloosa Alcatraz named Jacob (Yac...\n",
              "2049    This is a Helvetica Listerine named Rufus. Thi...\n",
              "2099    This is a Deciduous Trimester mix named Spork....\n",
              "2108    This is a Rich Mahogany Seltzer named Cherokee...\n",
              "2111    This is a Speckled Cauliflower Yosemite named ...\n",
              "2129    This is a spotted Lipitor Rumpelstiltskin name...\n",
              "2144    This is a Coriander Baton Rouge named Alfredo....\n",
              "2149    Here we have a Gingivitis Pumpernickel named Z...\n",
              "2174    This is a Slovakian Helter Skelter Feta named ...\n",
              "2187    This is an Irish Rigatoni terrier named Berta....\n",
              "2201    This is a Birmingham Quagmire named Chuk. Love...\n",
              "2210    Here we have an Azerbaijani Buttermilk named G...\n",
              "2218    This is a Trans Siberian Kellogg named Alfonso...\n",
              "2232    This is a Shotokon Macadamia mix named Cheryl....\n",
              "2238    This is a rare Hungarian Pinot named Jessiga. ...\n",
              "2247    This is a southwest Coriander named Klint. Hat...\n",
              "2252    This a Norwegian Pewterschmidt named Tickles. ...\n",
              "2256    This is a northern Wahoo named Kohl. He runs t...\n",
              "2287    This is a curly Ticonderoga named Pepe. No fee...\n",
              "2294    This is a purebred Bacardi named Octaviath. Ca...\n",
              "2297    This is a golden Buckminsterfullerene named Jo...\n",
              "Name: full_text, dtype: object"
            ]
          },
          "execution_count": 70,
          "metadata": {},
          "output_type": "execute_result"
        }
      ],
      "source": [
        "#tweet_df.iloc[0].extended_entities[\u0027media\u0027][0][\u0027type\u0027]\n",
        "#tweet_df[tweet_df[\u0027full_text\u0027].str.startswith(\u0027This is a\u0027)][\u0027full_text\u0027]\n",
        "tweet_df[tweet_df[\u0027full_text\u0027].str.contains(\u0027named \u0027)][\u0027full_text\u0027]"
      ]
    },
    {
      "cell_type": "markdown",
      "metadata": {
        "pycharm": {}
      },
      "source": [
        "### Data file image-predictions.tsv\n",
        "\n",
        "Problems identified in data set.\n",
        "\n",
        "Prediction, p1, p2, and p3, should be separated into seperate rows instead of columns."
      ]
    },
    {
      "cell_type": "code",
      "execution_count": 5,
      "metadata": {
        "pycharm": {
          "is_executing": false
        }
      },
      "outputs": [
        {
          "data": {
            "text/html": [
              "\u003cdiv\u003e\n",
              "\u003cstyle scoped\u003e\n",
              "    .dataframe tbody tr th:only-of-type {\n",
              "        vertical-align: middle;\n",
              "    }\n",
              "\n",
              "    .dataframe tbody tr th {\n",
              "        vertical-align: top;\n",
              "    }\n",
              "\n",
              "    .dataframe thead th {\n",
              "        text-align: right;\n",
              "    }\n",
              "\u003c/style\u003e\n",
              "\u003ctable border\u003d\"1\" class\u003d\"dataframe\"\u003e\n",
              "  \u003cthead\u003e\n",
              "    \u003ctr style\u003d\"text-align: right;\"\u003e\n",
              "      \u003cth\u003e\u003c/th\u003e\n",
              "      \u003cth\u003etweet_id\u003c/th\u003e\n",
              "      \u003cth\u003ejpg_url\u003c/th\u003e\n",
              "      \u003cth\u003eimg_num\u003c/th\u003e\n",
              "      \u003cth\u003ep1\u003c/th\u003e\n",
              "      \u003cth\u003ep1_conf\u003c/th\u003e\n",
              "      \u003cth\u003ep1_dog\u003c/th\u003e\n",
              "    \u003c/tr\u003e\n",
              "  \u003c/thead\u003e\n",
              "  \u003ctbody\u003e\n",
              "    \u003ctr\u003e\n",
              "      \u003cth\u003e0\u003c/th\u003e\n",
              "      \u003ctd\u003e666020888022790149\u003c/td\u003e\n",
              "      \u003ctd\u003ehttps://pbs.twimg.com/media/CT4udn0WwAA0aMy.jpg\u003c/td\u003e\n",
              "      \u003ctd\u003e1\u003c/td\u003e\n",
              "      \u003ctd\u003eWelsh_springer_spaniel\u003c/td\u003e\n",
              "      \u003ctd\u003e0.465074\u003c/td\u003e\n",
              "      \u003ctd\u003eTrue\u003c/td\u003e\n",
              "    \u003c/tr\u003e\n",
              "    \u003ctr\u003e\n",
              "      \u003cth\u003e1\u003c/th\u003e\n",
              "      \u003ctd\u003e666029285002620928\u003c/td\u003e\n",
              "      \u003ctd\u003ehttps://pbs.twimg.com/media/CT42GRgUYAA5iDo.jpg\u003c/td\u003e\n",
              "      \u003ctd\u003e1\u003c/td\u003e\n",
              "      \u003ctd\u003eredbone\u003c/td\u003e\n",
              "      \u003ctd\u003e0.506826\u003c/td\u003e\n",
              "      \u003ctd\u003eTrue\u003c/td\u003e\n",
              "    \u003c/tr\u003e\n",
              "    \u003ctr\u003e\n",
              "      \u003cth\u003e2\u003c/th\u003e\n",
              "      \u003ctd\u003e666033412701032449\u003c/td\u003e\n",
              "      \u003ctd\u003ehttps://pbs.twimg.com/media/CT4521TWwAEvMyu.jpg\u003c/td\u003e\n",
              "      \u003ctd\u003e1\u003c/td\u003e\n",
              "      \u003ctd\u003eGerman_shepherd\u003c/td\u003e\n",
              "      \u003ctd\u003e0.596461\u003c/td\u003e\n",
              "      \u003ctd\u003eTrue\u003c/td\u003e\n",
              "    \u003c/tr\u003e\n",
              "    \u003ctr\u003e\n",
              "      \u003cth\u003e3\u003c/th\u003e\n",
              "      \u003ctd\u003e666044226329800704\u003c/td\u003e\n",
              "      \u003ctd\u003ehttps://pbs.twimg.com/media/CT5Dr8HUEAA-lEu.jpg\u003c/td\u003e\n",
              "      \u003ctd\u003e1\u003c/td\u003e\n",
              "      \u003ctd\u003eRhodesian_ridgeback\u003c/td\u003e\n",
              "      \u003ctd\u003e0.408143\u003c/td\u003e\n",
              "      \u003ctd\u003eTrue\u003c/td\u003e\n",
              "    \u003c/tr\u003e\n",
              "    \u003ctr\u003e\n",
              "      \u003cth\u003e4\u003c/th\u003e\n",
              "      \u003ctd\u003e666049248165822465\u003c/td\u003e\n",
              "      \u003ctd\u003ehttps://pbs.twimg.com/media/CT5IQmsXIAAKY4A.jpg\u003c/td\u003e\n",
              "      \u003ctd\u003e1\u003c/td\u003e\n",
              "      \u003ctd\u003eminiature_pinscher\u003c/td\u003e\n",
              "      \u003ctd\u003e0.560311\u003c/td\u003e\n",
              "      \u003ctd\u003eTrue\u003c/td\u003e\n",
              "    \u003c/tr\u003e\n",
              "  \u003c/tbody\u003e\n",
              "\u003c/table\u003e\n",
              "\u003c/div\u003e"
            ],
            "text/plain": [
              "             tweet_id                                          jpg_url  \\\n",
              "0  666020888022790149  https://pbs.twimg.com/media/CT4udn0WwAA0aMy.jpg   \n",
              "1  666029285002620928  https://pbs.twimg.com/media/CT42GRgUYAA5iDo.jpg   \n",
              "2  666033412701032449  https://pbs.twimg.com/media/CT4521TWwAEvMyu.jpg   \n",
              "3  666044226329800704  https://pbs.twimg.com/media/CT5Dr8HUEAA-lEu.jpg   \n",
              "4  666049248165822465  https://pbs.twimg.com/media/CT5IQmsXIAAKY4A.jpg   \n",
              "\n",
              "   img_num                      p1   p1_conf  p1_dog  \n",
              "0        1  Welsh_springer_spaniel  0.465074    True  \n",
              "1        1                 redbone  0.506826    True  \n",
              "2        1         German_shepherd  0.596461    True  \n",
              "3        1     Rhodesian_ridgeback  0.408143    True  \n",
              "4        1      miniature_pinscher  0.560311    True  "
            ]
          },
          "execution_count": 5,
          "metadata": {},
          "output_type": "execute_result"
        }
      ],
      "source": [
        "\n",
        "image_pred_df.iloc[:5,:6]"
      ]
    },
    {
      "cell_type": "code",
      "execution_count": 194,
      "metadata": {
        "pycharm": {}
      },
      "outputs": [
        {
          "data": {
            "text/html": [
              "\u003cdiv\u003e\n",
              "\u003cstyle scoped\u003e\n",
              "    .dataframe tbody tr th:only-of-type {\n",
              "        vertical-align: middle;\n",
              "    }\n",
              "\n",
              "    .dataframe tbody tr th {\n",
              "        vertical-align: top;\n",
              "    }\n",
              "\n",
              "    .dataframe thead th {\n",
              "        text-align: right;\n",
              "    }\n",
              "\u003c/style\u003e\n",
              "\u003ctable border\u003d\"1\" class\u003d\"dataframe\"\u003e\n",
              "  \u003cthead\u003e\n",
              "    \u003ctr style\u003d\"text-align: right;\"\u003e\n",
              "      \u003cth\u003e\u003c/th\u003e\n",
              "      \u003cth\u003ep2\u003c/th\u003e\n",
              "      \u003cth\u003ep2_conf\u003c/th\u003e\n",
              "      \u003cth\u003ep2_dog\u003c/th\u003e\n",
              "      \u003cth\u003ep3\u003c/th\u003e\n",
              "      \u003cth\u003ep3_conf\u003c/th\u003e\n",
              "      \u003cth\u003ep3_dog\u003c/th\u003e\n",
              "    \u003c/tr\u003e\n",
              "  \u003c/thead\u003e\n",
              "  \u003ctbody\u003e\n",
              "    \u003ctr\u003e\n",
              "      \u003cth\u003e0\u003c/th\u003e\n",
              "      \u003ctd\u003ecollie\u003c/td\u003e\n",
              "      \u003ctd\u003e0.156665\u003c/td\u003e\n",
              "      \u003ctd\u003eTrue\u003c/td\u003e\n",
              "      \u003ctd\u003eShetland_sheepdog\u003c/td\u003e\n",
              "      \u003ctd\u003e0.061428\u003c/td\u003e\n",
              "      \u003ctd\u003eTrue\u003c/td\u003e\n",
              "    \u003c/tr\u003e\n",
              "    \u003ctr\u003e\n",
              "      \u003cth\u003e1\u003c/th\u003e\n",
              "      \u003ctd\u003eminiature_pinscher\u003c/td\u003e\n",
              "      \u003ctd\u003e0.074192\u003c/td\u003e\n",
              "      \u003ctd\u003eTrue\u003c/td\u003e\n",
              "      \u003ctd\u003eRhodesian_ridgeback\u003c/td\u003e\n",
              "      \u003ctd\u003e0.072010\u003c/td\u003e\n",
              "      \u003ctd\u003eTrue\u003c/td\u003e\n",
              "    \u003c/tr\u003e\n",
              "    \u003ctr\u003e\n",
              "      \u003cth\u003e2\u003c/th\u003e\n",
              "      \u003ctd\u003emalinois\u003c/td\u003e\n",
              "      \u003ctd\u003e0.138584\u003c/td\u003e\n",
              "      \u003ctd\u003eTrue\u003c/td\u003e\n",
              "      \u003ctd\u003ebloodhound\u003c/td\u003e\n",
              "      \u003ctd\u003e0.116197\u003c/td\u003e\n",
              "      \u003ctd\u003eTrue\u003c/td\u003e\n",
              "    \u003c/tr\u003e\n",
              "    \u003ctr\u003e\n",
              "      \u003cth\u003e3\u003c/th\u003e\n",
              "      \u003ctd\u003eredbone\u003c/td\u003e\n",
              "      \u003ctd\u003e0.360687\u003c/td\u003e\n",
              "      \u003ctd\u003eTrue\u003c/td\u003e\n",
              "      \u003ctd\u003eminiature_pinscher\u003c/td\u003e\n",
              "      \u003ctd\u003e0.222752\u003c/td\u003e\n",
              "      \u003ctd\u003eTrue\u003c/td\u003e\n",
              "    \u003c/tr\u003e\n",
              "    \u003ctr\u003e\n",
              "      \u003cth\u003e4\u003c/th\u003e\n",
              "      \u003ctd\u003eRottweiler\u003c/td\u003e\n",
              "      \u003ctd\u003e0.243682\u003c/td\u003e\n",
              "      \u003ctd\u003eTrue\u003c/td\u003e\n",
              "      \u003ctd\u003eDoberman\u003c/td\u003e\n",
              "      \u003ctd\u003e0.154629\u003c/td\u003e\n",
              "      \u003ctd\u003eTrue\u003c/td\u003e\n",
              "    \u003c/tr\u003e\n",
              "  \u003c/tbody\u003e\n",
              "\u003c/table\u003e\n",
              "\u003c/div\u003e"
            ],
            "text/plain": [
              "                   p2   p2_conf  p2_dog                   p3   p3_conf  p3_dog\n",
              "0              collie  0.156665    True    Shetland_sheepdog  0.061428    True\n",
              "1  miniature_pinscher  0.074192    True  Rhodesian_ridgeback  0.072010    True\n",
              "2            malinois  0.138584    True           bloodhound  0.116197    True\n",
              "3             redbone  0.360687    True   miniature_pinscher  0.222752    True\n",
              "4          Rottweiler  0.243682    True             Doberman  0.154629    True"
            ]
          },
          "execution_count": 194,
          "metadata": {},
          "output_type": "execute_result"
        }
      ],
      "source": [
        "image_pred_df.iloc[:5,6:]"
      ]
    },
    {
      "cell_type": "code",
      "execution_count": 195,
      "metadata": {
        "pycharm": {}
      },
      "outputs": [
        {
          "name": "stdout",
          "output_type": "stream",
          "text": [
            "\u003cclass \u0027pandas.core.frame.DataFrame\u0027\u003e\n",
            "RangeIndex: 2075 entries, 0 to 2074\n",
            "Data columns (total 12 columns):\n",
            "tweet_id    2075 non-null int64\n",
            "jpg_url     2075 non-null object\n",
            "img_num     2075 non-null int64\n",
            "p1          2075 non-null object\n",
            "p1_conf     2075 non-null float64\n",
            "p1_dog      2075 non-null bool\n",
            "p2          2075 non-null object\n",
            "p2_conf     2075 non-null float64\n",
            "p2_dog      2075 non-null bool\n",
            "p3          2075 non-null object\n",
            "p3_conf     2075 non-null float64\n",
            "p3_dog      2075 non-null bool\n",
            "dtypes: bool(3), float64(3), int64(2), object(4)\n",
            "memory usage: 152.1+ KB\n"
          ]
        }
      ],
      "source": [
        "image_pred_df.info()"
      ]
    },
    {
      "cell_type": "code",
      "execution_count": 8,
      "metadata": {
        "pycharm": {}
      },
      "outputs": [
        {
          "data": {
            "text/html": [
              "\u003cdiv\u003e\n",
              "\u003cstyle scoped\u003e\n",
              "    .dataframe tbody tr th:only-of-type {\n",
              "        vertical-align: middle;\n",
              "    }\n",
              "\n",
              "    .dataframe tbody tr th {\n",
              "        vertical-align: top;\n",
              "    }\n",
              "\n",
              "    .dataframe thead th {\n",
              "        text-align: right;\n",
              "    }\n",
              "\u003c/style\u003e\n",
              "\u003ctable border\u003d\"1\" class\u003d\"dataframe\"\u003e\n",
              "  \u003cthead\u003e\n",
              "    \u003ctr style\u003d\"text-align: right;\"\u003e\n",
              "      \u003cth\u003e\u003c/th\u003e\n",
              "      \u003cth\u003etweet_id\u003c/th\u003e\n",
              "      \u003cth\u003eimg_num\u003c/th\u003e\n",
              "      \u003cth\u003ep1_conf\u003c/th\u003e\n",
              "      \u003cth\u003ep2_conf\u003c/th\u003e\n",
              "      \u003cth\u003ep3_conf\u003c/th\u003e\n",
              "    \u003c/tr\u003e\n",
              "  \u003c/thead\u003e\n",
              "  \u003ctbody\u003e\n",
              "    \u003ctr\u003e\n",
              "      \u003cth\u003ecount\u003c/th\u003e\n",
              "      \u003ctd\u003e2.075000e+03\u003c/td\u003e\n",
              "      \u003ctd\u003e2075.000000\u003c/td\u003e\n",
              "      \u003ctd\u003e2075.000000\u003c/td\u003e\n",
              "      \u003ctd\u003e2.075000e+03\u003c/td\u003e\n",
              "      \u003ctd\u003e2.075000e+03\u003c/td\u003e\n",
              "    \u003c/tr\u003e\n",
              "    \u003ctr\u003e\n",
              "      \u003cth\u003emean\u003c/th\u003e\n",
              "      \u003ctd\u003e7.384514e+17\u003c/td\u003e\n",
              "      \u003ctd\u003e1.203855\u003c/td\u003e\n",
              "      \u003ctd\u003e0.594548\u003c/td\u003e\n",
              "      \u003ctd\u003e1.345886e-01\u003c/td\u003e\n",
              "      \u003ctd\u003e6.032417e-02\u003c/td\u003e\n",
              "    \u003c/tr\u003e\n",
              "    \u003ctr\u003e\n",
              "      \u003cth\u003estd\u003c/th\u003e\n",
              "      \u003ctd\u003e6.785203e+16\u003c/td\u003e\n",
              "      \u003ctd\u003e0.561875\u003c/td\u003e\n",
              "      \u003ctd\u003e0.271174\u003c/td\u003e\n",
              "      \u003ctd\u003e1.006657e-01\u003c/td\u003e\n",
              "      \u003ctd\u003e5.090593e-02\u003c/td\u003e\n",
              "    \u003c/tr\u003e\n",
              "    \u003ctr\u003e\n",
              "      \u003cth\u003emin\u003c/th\u003e\n",
              "      \u003ctd\u003e6.660209e+17\u003c/td\u003e\n",
              "      \u003ctd\u003e1.000000\u003c/td\u003e\n",
              "      \u003ctd\u003e0.044333\u003c/td\u003e\n",
              "      \u003ctd\u003e1.011300e-08\u003c/td\u003e\n",
              "      \u003ctd\u003e1.740170e-10\u003c/td\u003e\n",
              "    \u003c/tr\u003e\n",
              "    \u003ctr\u003e\n",
              "      \u003cth\u003e25%\u003c/th\u003e\n",
              "      \u003ctd\u003e6.764835e+17\u003c/td\u003e\n",
              "      \u003ctd\u003e1.000000\u003c/td\u003e\n",
              "      \u003ctd\u003e0.364412\u003c/td\u003e\n",
              "      \u003ctd\u003e5.388625e-02\u003c/td\u003e\n",
              "      \u003ctd\u003e1.622240e-02\u003c/td\u003e\n",
              "    \u003c/tr\u003e\n",
              "    \u003ctr\u003e\n",
              "      \u003cth\u003e50%\u003c/th\u003e\n",
              "      \u003ctd\u003e7.119988e+17\u003c/td\u003e\n",
              "      \u003ctd\u003e1.000000\u003c/td\u003e\n",
              "      \u003ctd\u003e0.588230\u003c/td\u003e\n",
              "      \u003ctd\u003e1.181810e-01\u003c/td\u003e\n",
              "      \u003ctd\u003e4.944380e-02\u003c/td\u003e\n",
              "    \u003c/tr\u003e\n",
              "    \u003ctr\u003e\n",
              "      \u003cth\u003e75%\u003c/th\u003e\n",
              "      \u003ctd\u003e7.932034e+17\u003c/td\u003e\n",
              "      \u003ctd\u003e1.000000\u003c/td\u003e\n",
              "      \u003ctd\u003e0.843855\u003c/td\u003e\n",
              "      \u003ctd\u003e1.955655e-01\u003c/td\u003e\n",
              "      \u003ctd\u003e9.180755e-02\u003c/td\u003e\n",
              "    \u003c/tr\u003e\n",
              "    \u003ctr\u003e\n",
              "      \u003cth\u003emax\u003c/th\u003e\n",
              "      \u003ctd\u003e8.924206e+17\u003c/td\u003e\n",
              "      \u003ctd\u003e4.000000\u003c/td\u003e\n",
              "      \u003ctd\u003e1.000000\u003c/td\u003e\n",
              "      \u003ctd\u003e4.880140e-01\u003c/td\u003e\n",
              "      \u003ctd\u003e2.734190e-01\u003c/td\u003e\n",
              "    \u003c/tr\u003e\n",
              "  \u003c/tbody\u003e\n",
              "\u003c/table\u003e\n",
              "\u003c/div\u003e"
            ],
            "text/plain": [
              "           tweet_id      img_num      p1_conf       p2_conf       p3_conf\n",
              "count  2.075000e+03  2075.000000  2075.000000  2.075000e+03  2.075000e+03\n",
              "mean   7.384514e+17     1.203855     0.594548  1.345886e-01  6.032417e-02\n",
              "std    6.785203e+16     0.561875     0.271174  1.006657e-01  5.090593e-02\n",
              "min    6.660209e+17     1.000000     0.044333  1.011300e-08  1.740170e-10\n",
              "25%    6.764835e+17     1.000000     0.364412  5.388625e-02  1.622240e-02\n",
              "50%    7.119988e+17     1.000000     0.588230  1.181810e-01  4.944380e-02\n",
              "75%    7.932034e+17     1.000000     0.843855  1.955655e-01  9.180755e-02\n",
              "max    8.924206e+17     4.000000     1.000000  4.880140e-01  2.734190e-01"
            ]
          },
          "execution_count": 8,
          "metadata": {},
          "output_type": "execute_result"
        }
      ],
      "source": [
        "image_pred_df.describe()"
      ]
    },
    {
      "cell_type": "markdown",
      "metadata": {
        "pycharm": {}
      },
      "source": [
        "## Clean"
      ]
    },
    {
      "cell_type": "markdown",
      "metadata": {
        "pycharm": {}
      },
      "source": [
        "### Cleaning twitter_df\n",
        "\n",
        "Try to find more dogtionary words from the tweet text.  \n",
        "Fix None values on the four columns: doggo, floofer, pupper, puppo.   \n",
        "Reshape dogtionary names into one column."
      ]
    },
    {
      "cell_type": "code",
      "execution_count": 56,
      "metadata": {
        "pycharm": {
          "is_executing": false
        }
      },
      "outputs": [
        {
          "data": {
            "text/plain": [
              "[\u0027tweet_id\u0027,\n",
              " \u0027in_reply_to_status_id\u0027,\n",
              " \u0027in_reply_to_user_id\u0027,\n",
              " \u0027timestamp\u0027,\n",
              " \u0027source\u0027,\n",
              " \u0027text\u0027,\n",
              " \u0027retweeted_status_id\u0027,\n",
              " \u0027retweeted_status_user_id\u0027,\n",
              " \u0027retweeted_status_timestamp\u0027,\n",
              " \u0027expanded_urls\u0027,\n",
              " \u0027rating_numerator\u0027,\n",
              " \u0027rating_denominator\u0027,\n",
              " \u0027name\u0027,\n",
              " \u0027dogtionary\u0027]"
            ]
          },
          "execution_count": 56,
          "metadata": {},
          "output_type": "execute_result"
        }
      ],
      "source": [
        "dogtionary_words \u003d [\u0027doggo\u0027, \u0027floofer\u0027, \u0027floof\u0027, \u0027pupper\u0027, \u0027puppo\u0027]\n",
        "columns_to_save \u003d [col for col in twitter_df.columns.to_list() if col not in dogtionary_words]\n",
        "columns_to_save.append(\u0027dogtionary\u0027)\n",
        "columns_to_save"
      ]
    },
    {
      "cell_type": "code",
      "execution_count": 57,
      "metadata": {
        "pycharm": {
          "is_executing": false
        }
      },
      "outputs": [
        {
          "name": "stdout",
          "output_type": "stream",
          "text": [
            "\u003cclass \u0027pandas.core.frame.DataFrame\u0027\u003e\n",
            "Int64Index: 2370 entries, 0 to 2369\n",
            "Data columns (total 14 columns):\n",
            "tweet_id                      2370 non-null int64\n",
            "in_reply_to_status_id         79 non-null float64\n",
            "in_reply_to_user_id           79 non-null float64\n",
            "timestamp                     2370 non-null object\n",
            "source                        2370 non-null object\n",
            "text                          2370 non-null object\n",
            "retweeted_status_id           183 non-null float64\n",
            "retweeted_status_user_id      183 non-null float64\n",
            "retweeted_status_timestamp    183 non-null object\n",
            "expanded_urls                 2311 non-null object\n",
            "rating_numerator              2370 non-null int64\n",
            "rating_denominator            2370 non-null int64\n",
            "name                          1617 non-null object\n",
            "dogtionary                    394 non-null object\n",
            "dtypes: float64(4), int64(3), object(7)\n",
            "memory usage: 277.7+ KB\n"
          ]
        }
      ],
      "source": [
        "dogtionary \u003d twitter_df[[\u0027tweet_id\u0027, \u0027doggo\u0027, \u0027floofer\u0027, \u0027pupper\u0027, \u0027puppo\u0027]].replace(\u0027None\u0027, np.NaN)\n",
        "twitter_melted \u003d pd.melt(dogtionary, id_vars\u003d\u0027tweet_id\u0027, var_name\u003d\u0027to_drop\u0027, value_name\u003d\u0027dogtionary\u0027)[[\u0027tweet_id\u0027, \u0027dogtionary\u0027]].dropna()\n",
        "twitter_clean_df \u003d twitter_df.merge(twitter_melted, how\u003d\u0027left\u0027, on\u003d\u0027tweet_id\u0027)[columns_to_save]\n",
        "twitter_clean_df[\u0027name\u0027] \u003d twitter_clean_df[\u0027name\u0027].replace(\u0027None\u0027, np.NaN)\n",
        "twitter_clean_df.info()"
      ]
    },
    {
      "cell_type": "code",
      "execution_count": 58,
      "metadata": {
        "pycharm": {
          "is_executing": false,
          "metadata": false,
          "name": "#%%\n"
        }
      },
      "outputs": [],
      "source": [
        "# clean up unused variables\n",
        "del columns_to_save\n",
        "del dogtionary\n",
        "del twitter_melted"
      ]
    },
    {
      "cell_type": "markdown",
      "metadata": {
        "pycharm": {}
      },
      "source": [
        "Extract Dogtionary words from text column"
      ]
    },
    {
      "cell_type": "code",
      "execution_count": 59,
      "metadata": {
        "pycharm": {
          "is_executing": false
        }
      },
      "outputs": [
        {
          "name": "stdout",
          "output_type": "stream",
          "text": [
            "\u003cclass \u0027pandas.core.frame.DataFrame\u0027\u003e\n",
            "Int64Index: 2398 entries, 0 to 2397\n",
            "Data columns (total 15 columns):\n",
            "tweet_id                      2398 non-null int64\n",
            "in_reply_to_status_id         81 non-null float64\n",
            "in_reply_to_user_id           81 non-null float64\n",
            "timestamp                     2398 non-null object\n",
            "source                        2398 non-null object\n",
            "text                          2398 non-null object\n",
            "retweeted_status_id           187 non-null float64\n",
            "retweeted_status_user_id      187 non-null float64\n",
            "retweeted_status_timestamp    187 non-null object\n",
            "expanded_urls                 2339 non-null object\n",
            "rating_numerator              2398 non-null int64\n",
            "rating_denominator            2398 non-null int64\n",
            "name                          1629 non-null object\n",
            "dogtionary_x                  422 non-null object\n",
            "dogtionary_y                  422 non-null object\n",
            "dtypes: float64(4), int64(3), object(8)\n",
            "memory usage: 299.8+ KB\n"
          ]
        }
      ],
      "source": [
        "matcher \u003d re.compile(pattern\u003d\u0027|\u0027.join(dogtionary_words))\n",
        "def extract_type(series):\n",
        "    names \u003d matcher.findall(series[\u0027text\u0027])\n",
        "    if len(names) \u003e 0 and not series[\u0027dogtionary\u0027]:\n",
        "        series[\u0027dogtionary\u0027] \u003d names[0]\n",
        "    return series\n",
        "\n",
        "names_df \u003d twitter_clean_df[[\u0027tweet_id\u0027, \u0027text\u0027, \u0027dogtionary\u0027]].apply(extract_type, axis\u003d1).dropna()\n",
        "twitter_clean_df \u003d twitter_clean_df.merge(names_df[[\u0027tweet_id\u0027, \u0027dogtionary\u0027]], how\u003d\u0027left\u0027, on\u003d\u0027tweet_id\u0027)\n",
        "twitter_clean_df.info()"
      ]
    },
    {
      "cell_type": "code",
      "execution_count": 76,
      "metadata": {
        "pycharm": {
          "is_executing": false,
          "metadata": false,
          "name": "#%%\n"
        }
      },
      "outputs": [
        {
          "data": {
            "text/plain": [
              "Twitter for iPhone     2260\n",
              "Vine - Make a Scene      94\n",
              "Twitter Web Client       33\n",
              "TweetDeck                11\n",
              "Name: client, dtype: int64"
            ]
          },
          "execution_count": 76,
          "metadata": {},
          "output_type": "execute_result"
        }
      ],
      "source": [
        "client_matcher \u003d re.compile(pattern\u003d\u0027\u003e.*\u003c\u0027)\n",
        "twitter_clean_df[\u0027client\u0027] \u003d twitter_clean_df.source.apply(lambda x: client_matcher.findall(x)[0][1:-1])\n",
        "twitter_clean_df.client.value_counts()"
      ]
    },
    {
      "cell_type": "code",
      "execution_count": 77,
      "metadata": {
        "pycharm": {
          "is_executing": false,
          "metadata": false,
          "name": "#%%\n"
        }
      },
      "outputs": [
        {
          "data": {
            "text/plain": [
              "Index([\u0027tweet_id\u0027, \u0027timestamp\u0027, \u0027text\u0027, \u0027rating_numerator\u0027,\n",
              "       \u0027rating_denominator\u0027, \u0027name\u0027, \u0027dogtionary\u0027, \u0027client\u0027],\n",
              "      dtype\u003d\u0027object\u0027)"
            ]
          },
          "execution_count": 77,
          "metadata": {},
          "output_type": "execute_result"
        }
      ],
      "source": [
        "twitter_clean_df.rename(columns\u003d{\u0027dogtionary_x\u0027: \u0027dogtionary\u0027}, inplace\u003dTrue)\n",
        "columns_to_drop \u003d [\u0027in_reply_to_status_id\u0027, \u0027in_reply_to_user_id\u0027, \n",
        "                    \u0027retweeted_status_id\u0027, \u0027retweeted_status_user_id\u0027, \n",
        "                    \u0027retweeted_status_timestamp\u0027, \u0027expanded_urls\u0027, \n",
        "                    \u0027dogtionary_y\u0027, \u0027source\u0027]\n",
        "twitter_clean_df.drop(columns_to_drop, axis\u003d1, inplace\u003dTrue)\n",
        "twitter_clean_df.columns"
      ]
    },
    {
      "cell_type": "code",
      "execution_count": 78,
      "metadata": {
        "pycharm": {
          "is_executing": false
        }
      },
      "outputs": [
        {
          "data": {
            "text/plain": [
              "datetime64[ns, UTC]"
            ]
          },
          "execution_count": 78,
          "metadata": {},
          "output_type": "execute_result"
        }
      ],
      "source": [
        "# Parse timestamp column\n",
        "twitter_clean_df[\u0027timestamp\u0027] \u003d pd.to_datetime(twitter_clean_df.timestamp)\n",
        "twitter_clean_df.timestamp.dtype"
      ]
    },
    {
      "cell_type": "markdown",
      "metadata": {
        "pycharm": {}
      },
      "source": [
        "### Cleaning tweet_df"
      ]
    },
    {
      "cell_type": "code",
      "execution_count": 39,
      "metadata": {
        "pycharm": {
          "is_executing": false
        }
      },
      "outputs": [
        {
          "data": {
            "text/plain": "iphone         2205\nvine.co          91\ntwitter.com      33\ntweetdeck        10\nName: client, dtype: int64"
          },
          "metadata": {},
          "output_type": "execute_result",
          "execution_count": 39
        }
      ],
      "source": "tweet_clean_df \u003d tweet_df.copy()\ntweet_clean_df[\u0027client\u0027] \u003d tweet_df.source.apply(lambda x: x.split(\u0027\"\u0027)[1].split(\u0027/\u0027)[-1])\ntweet_clean_df[\u0027client\u0027].value_counts()"
    },
    {
      "cell_type": "code",
      "execution_count": 41,
      "outputs": [
        {
          "data": {
            "text/plain": "                      id     new_names\n67    879130579576475649          Emmy\n75    878057613040115712          Emmy\n136   864279568663928832      Meatball\n264   840728873075638272         Pipsy\n266   840696689258311684         Kevin\n288   837110210464448512         Clark\n340   831552930092285952     Valentine\n359   828650029636317184         Grace\n498   812372279581671427     Christmas\n518   808134635716833280          Milo\n560   801167903437357056          Milo\n590   798628517273620480              \n637   792883833364439040     Halloween\n695   785264754247995392           Doc\n699   784431430411685888     Coachella\n772   774757898236878852        Finley\n790   772117678702071809       Clemson\n827   766793450729734144         Tokyo\n828   766714921925144576       Charley\n959   750041628174217216        Annual\n1131  726935089318363137        Sprout\n1244  710269109699739648            St\n1363  701545186879471618           Rio\n1371  700505138482569216          Kaia\n1399  698703483621523456       POULTRY\n1440  695314793360662529         Colin\n1443  695064344191721472       Charles\n1506  690649993829576704           Rio\n1509  690400367696297985          Eriq\n1699  680221482581123072         Santa\n...                  ...           ...\n1970  672877615439593473         Oscar\n1987  672466075045466113     Christmas\n2008  671882082306625538        Batdog\n2017  671743150407421952              \n2018  671735591348891648     Christmas\n2049  671147085991960577              \n2089  670468609693655041     Christmas\n2099  670427002554466305              \n2108  670361874861563904              \n2109  670338931251150849  Thanksgiving\n2111  670303360680108032              \n2129  669923323644657664              \n2144  669564461267722241              \n2149  669363888236994561              \n2174  668955713004314625              \n2187  668636665813057536              \n2190  668627278264475648     Southwest\n2201  668507509523615744              \n2210  668268907921326080              \n2218  668171859951755264              \n2232  667861340749471744              \n2238  667773195014021121              \n2247  667538891197542400              \n2252  667509364010450944              \n2256  667470559035432960              \n2258  667453023279554560       Cupcake\n2276  667152164079423490         Pipsy\n2287  666983947667116034              \n2294  666781792255496192              \n2297  666701168228331520              \n\n[71 rows x 2 columns]",
            "text/html": "\u003cdiv\u003e\n\u003cstyle scoped\u003e\n    .dataframe tbody tr th:only-of-type {\n        vertical-align: middle;\n    }\n\n    .dataframe tbody tr th {\n        vertical-align: top;\n    }\n\n    .dataframe thead th {\n        text-align: right;\n    }\n\u003c/style\u003e\n\u003ctable border\u003d\"1\" class\u003d\"dataframe\"\u003e\n  \u003cthead\u003e\n    \u003ctr style\u003d\"text-align: right;\"\u003e\n      \u003cth\u003e\u003c/th\u003e\n      \u003cth\u003eid\u003c/th\u003e\n      \u003cth\u003enew_names\u003c/th\u003e\n    \u003c/tr\u003e\n  \u003c/thead\u003e\n  \u003ctbody\u003e\n    \u003ctr\u003e\n      \u003cth\u003e67\u003c/th\u003e\n      \u003ctd\u003e879130579576475649\u003c/td\u003e\n      \u003ctd\u003eEmmy\u003c/td\u003e\n    \u003c/tr\u003e\n    \u003ctr\u003e\n      \u003cth\u003e75\u003c/th\u003e\n      \u003ctd\u003e878057613040115712\u003c/td\u003e\n      \u003ctd\u003eEmmy\u003c/td\u003e\n    \u003c/tr\u003e\n    \u003ctr\u003e\n      \u003cth\u003e136\u003c/th\u003e\n      \u003ctd\u003e864279568663928832\u003c/td\u003e\n      \u003ctd\u003eMeatball\u003c/td\u003e\n    \u003c/tr\u003e\n    \u003ctr\u003e\n      \u003cth\u003e264\u003c/th\u003e\n      \u003ctd\u003e840728873075638272\u003c/td\u003e\n      \u003ctd\u003ePipsy\u003c/td\u003e\n    \u003c/tr\u003e\n    \u003ctr\u003e\n      \u003cth\u003e266\u003c/th\u003e\n      \u003ctd\u003e840696689258311684\u003c/td\u003e\n      \u003ctd\u003eKevin\u003c/td\u003e\n    \u003c/tr\u003e\n    \u003ctr\u003e\n      \u003cth\u003e288\u003c/th\u003e\n      \u003ctd\u003e837110210464448512\u003c/td\u003e\n      \u003ctd\u003eClark\u003c/td\u003e\n    \u003c/tr\u003e\n    \u003ctr\u003e\n      \u003cth\u003e340\u003c/th\u003e\n      \u003ctd\u003e831552930092285952\u003c/td\u003e\n      \u003ctd\u003eValentine\u003c/td\u003e\n    \u003c/tr\u003e\n    \u003ctr\u003e\n      \u003cth\u003e359\u003c/th\u003e\n      \u003ctd\u003e828650029636317184\u003c/td\u003e\n      \u003ctd\u003eGrace\u003c/td\u003e\n    \u003c/tr\u003e\n    \u003ctr\u003e\n      \u003cth\u003e498\u003c/th\u003e\n      \u003ctd\u003e812372279581671427\u003c/td\u003e\n      \u003ctd\u003eChristmas\u003c/td\u003e\n    \u003c/tr\u003e\n    \u003ctr\u003e\n      \u003cth\u003e518\u003c/th\u003e\n      \u003ctd\u003e808134635716833280\u003c/td\u003e\n      \u003ctd\u003eMilo\u003c/td\u003e\n    \u003c/tr\u003e\n    \u003ctr\u003e\n      \u003cth\u003e560\u003c/th\u003e\n      \u003ctd\u003e801167903437357056\u003c/td\u003e\n      \u003ctd\u003eMilo\u003c/td\u003e\n    \u003c/tr\u003e\n    \u003ctr\u003e\n      \u003cth\u003e590\u003c/th\u003e\n      \u003ctd\u003e798628517273620480\u003c/td\u003e\n      \u003ctd\u003e\u003c/td\u003e\n    \u003c/tr\u003e\n    \u003ctr\u003e\n      \u003cth\u003e637\u003c/th\u003e\n      \u003ctd\u003e792883833364439040\u003c/td\u003e\n      \u003ctd\u003eHalloween\u003c/td\u003e\n    \u003c/tr\u003e\n    \u003ctr\u003e\n      \u003cth\u003e695\u003c/th\u003e\n      \u003ctd\u003e785264754247995392\u003c/td\u003e\n      \u003ctd\u003eDoc\u003c/td\u003e\n    \u003c/tr\u003e\n    \u003ctr\u003e\n      \u003cth\u003e699\u003c/th\u003e\n      \u003ctd\u003e784431430411685888\u003c/td\u003e\n      \u003ctd\u003eCoachella\u003c/td\u003e\n    \u003c/tr\u003e\n    \u003ctr\u003e\n      \u003cth\u003e772\u003c/th\u003e\n      \u003ctd\u003e774757898236878852\u003c/td\u003e\n      \u003ctd\u003eFinley\u003c/td\u003e\n    \u003c/tr\u003e\n    \u003ctr\u003e\n      \u003cth\u003e790\u003c/th\u003e\n      \u003ctd\u003e772117678702071809\u003c/td\u003e\n      \u003ctd\u003eClemson\u003c/td\u003e\n    \u003c/tr\u003e\n    \u003ctr\u003e\n      \u003cth\u003e827\u003c/th\u003e\n      \u003ctd\u003e766793450729734144\u003c/td\u003e\n      \u003ctd\u003eTokyo\u003c/td\u003e\n    \u003c/tr\u003e\n    \u003ctr\u003e\n      \u003cth\u003e828\u003c/th\u003e\n      \u003ctd\u003e766714921925144576\u003c/td\u003e\n      \u003ctd\u003eCharley\u003c/td\u003e\n    \u003c/tr\u003e\n    \u003ctr\u003e\n      \u003cth\u003e959\u003c/th\u003e\n      \u003ctd\u003e750041628174217216\u003c/td\u003e\n      \u003ctd\u003eAnnual\u003c/td\u003e\n    \u003c/tr\u003e\n    \u003ctr\u003e\n      \u003cth\u003e1131\u003c/th\u003e\n      \u003ctd\u003e726935089318363137\u003c/td\u003e\n      \u003ctd\u003eSprout\u003c/td\u003e\n    \u003c/tr\u003e\n    \u003ctr\u003e\n      \u003cth\u003e1244\u003c/th\u003e\n      \u003ctd\u003e710269109699739648\u003c/td\u003e\n      \u003ctd\u003eSt\u003c/td\u003e\n    \u003c/tr\u003e\n    \u003ctr\u003e\n      \u003cth\u003e1363\u003c/th\u003e\n      \u003ctd\u003e701545186879471618\u003c/td\u003e\n      \u003ctd\u003eRio\u003c/td\u003e\n    \u003c/tr\u003e\n    \u003ctr\u003e\n      \u003cth\u003e1371\u003c/th\u003e\n      \u003ctd\u003e700505138482569216\u003c/td\u003e\n      \u003ctd\u003eKaia\u003c/td\u003e\n    \u003c/tr\u003e\n    \u003ctr\u003e\n      \u003cth\u003e1399\u003c/th\u003e\n      \u003ctd\u003e698703483621523456\u003c/td\u003e\n      \u003ctd\u003ePOULTRY\u003c/td\u003e\n    \u003c/tr\u003e\n    \u003ctr\u003e\n      \u003cth\u003e1440\u003c/th\u003e\n      \u003ctd\u003e695314793360662529\u003c/td\u003e\n      \u003ctd\u003eColin\u003c/td\u003e\n    \u003c/tr\u003e\n    \u003ctr\u003e\n      \u003cth\u003e1443\u003c/th\u003e\n      \u003ctd\u003e695064344191721472\u003c/td\u003e\n      \u003ctd\u003eCharles\u003c/td\u003e\n    \u003c/tr\u003e\n    \u003ctr\u003e\n      \u003cth\u003e1506\u003c/th\u003e\n      \u003ctd\u003e690649993829576704\u003c/td\u003e\n      \u003ctd\u003eRio\u003c/td\u003e\n    \u003c/tr\u003e\n    \u003ctr\u003e\n      \u003cth\u003e1509\u003c/th\u003e\n      \u003ctd\u003e690400367696297985\u003c/td\u003e\n      \u003ctd\u003eEriq\u003c/td\u003e\n    \u003c/tr\u003e\n    \u003ctr\u003e\n      \u003cth\u003e1699\u003c/th\u003e\n      \u003ctd\u003e680221482581123072\u003c/td\u003e\n      \u003ctd\u003eSanta\u003c/td\u003e\n    \u003c/tr\u003e\n    \u003ctr\u003e\n      \u003cth\u003e...\u003c/th\u003e\n      \u003ctd\u003e...\u003c/td\u003e\n      \u003ctd\u003e...\u003c/td\u003e\n    \u003c/tr\u003e\n    \u003ctr\u003e\n      \u003cth\u003e1970\u003c/th\u003e\n      \u003ctd\u003e672877615439593473\u003c/td\u003e\n      \u003ctd\u003eOscar\u003c/td\u003e\n    \u003c/tr\u003e\n    \u003ctr\u003e\n      \u003cth\u003e1987\u003c/th\u003e\n      \u003ctd\u003e672466075045466113\u003c/td\u003e\n      \u003ctd\u003eChristmas\u003c/td\u003e\n    \u003c/tr\u003e\n    \u003ctr\u003e\n      \u003cth\u003e2008\u003c/th\u003e\n      \u003ctd\u003e671882082306625538\u003c/td\u003e\n      \u003ctd\u003eBatdog\u003c/td\u003e\n    \u003c/tr\u003e\n    \u003ctr\u003e\n      \u003cth\u003e2017\u003c/th\u003e\n      \u003ctd\u003e671743150407421952\u003c/td\u003e\n      \u003ctd\u003e\u003c/td\u003e\n    \u003c/tr\u003e\n    \u003ctr\u003e\n      \u003cth\u003e2018\u003c/th\u003e\n      \u003ctd\u003e671735591348891648\u003c/td\u003e\n      \u003ctd\u003eChristmas\u003c/td\u003e\n    \u003c/tr\u003e\n    \u003ctr\u003e\n      \u003cth\u003e2049\u003c/th\u003e\n      \u003ctd\u003e671147085991960577\u003c/td\u003e\n      \u003ctd\u003e\u003c/td\u003e\n    \u003c/tr\u003e\n    \u003ctr\u003e\n      \u003cth\u003e2089\u003c/th\u003e\n      \u003ctd\u003e670468609693655041\u003c/td\u003e\n      \u003ctd\u003eChristmas\u003c/td\u003e\n    \u003c/tr\u003e\n    \u003ctr\u003e\n      \u003cth\u003e2099\u003c/th\u003e\n      \u003ctd\u003e670427002554466305\u003c/td\u003e\n      \u003ctd\u003e\u003c/td\u003e\n    \u003c/tr\u003e\n    \u003ctr\u003e\n      \u003cth\u003e2108\u003c/th\u003e\n      \u003ctd\u003e670361874861563904\u003c/td\u003e\n      \u003ctd\u003e\u003c/td\u003e\n    \u003c/tr\u003e\n    \u003ctr\u003e\n      \u003cth\u003e2109\u003c/th\u003e\n      \u003ctd\u003e670338931251150849\u003c/td\u003e\n      \u003ctd\u003eThanksgiving\u003c/td\u003e\n    \u003c/tr\u003e\n    \u003ctr\u003e\n      \u003cth\u003e2111\u003c/th\u003e\n      \u003ctd\u003e670303360680108032\u003c/td\u003e\n      \u003ctd\u003e\u003c/td\u003e\n    \u003c/tr\u003e\n    \u003ctr\u003e\n      \u003cth\u003e2129\u003c/th\u003e\n      \u003ctd\u003e669923323644657664\u003c/td\u003e\n      \u003ctd\u003e\u003c/td\u003e\n    \u003c/tr\u003e\n    \u003ctr\u003e\n      \u003cth\u003e2144\u003c/th\u003e\n      \u003ctd\u003e669564461267722241\u003c/td\u003e\n      \u003ctd\u003e\u003c/td\u003e\n    \u003c/tr\u003e\n    \u003ctr\u003e\n      \u003cth\u003e2149\u003c/th\u003e\n      \u003ctd\u003e669363888236994561\u003c/td\u003e\n      \u003ctd\u003e\u003c/td\u003e\n    \u003c/tr\u003e\n    \u003ctr\u003e\n      \u003cth\u003e2174\u003c/th\u003e\n      \u003ctd\u003e668955713004314625\u003c/td\u003e\n      \u003ctd\u003e\u003c/td\u003e\n    \u003c/tr\u003e\n    \u003ctr\u003e\n      \u003cth\u003e2187\u003c/th\u003e\n      \u003ctd\u003e668636665813057536\u003c/td\u003e\n      \u003ctd\u003e\u003c/td\u003e\n    \u003c/tr\u003e\n    \u003ctr\u003e\n      \u003cth\u003e2190\u003c/th\u003e\n      \u003ctd\u003e668627278264475648\u003c/td\u003e\n      \u003ctd\u003eSouthwest\u003c/td\u003e\n    \u003c/tr\u003e\n    \u003ctr\u003e\n      \u003cth\u003e2201\u003c/th\u003e\n      \u003ctd\u003e668507509523615744\u003c/td\u003e\n      \u003ctd\u003e\u003c/td\u003e\n    \u003c/tr\u003e\n    \u003ctr\u003e\n      \u003cth\u003e2210\u003c/th\u003e\n      \u003ctd\u003e668268907921326080\u003c/td\u003e\n      \u003ctd\u003e\u003c/td\u003e\n    \u003c/tr\u003e\n    \u003ctr\u003e\n      \u003cth\u003e2218\u003c/th\u003e\n      \u003ctd\u003e668171859951755264\u003c/td\u003e\n      \u003ctd\u003e\u003c/td\u003e\n    \u003c/tr\u003e\n    \u003ctr\u003e\n      \u003cth\u003e2232\u003c/th\u003e\n      \u003ctd\u003e667861340749471744\u003c/td\u003e\n      \u003ctd\u003e\u003c/td\u003e\n    \u003c/tr\u003e\n    \u003ctr\u003e\n      \u003cth\u003e2238\u003c/th\u003e\n      \u003ctd\u003e667773195014021121\u003c/td\u003e\n      \u003ctd\u003e\u003c/td\u003e\n    \u003c/tr\u003e\n    \u003ctr\u003e\n      \u003cth\u003e2247\u003c/th\u003e\n      \u003ctd\u003e667538891197542400\u003c/td\u003e\n      \u003ctd\u003e\u003c/td\u003e\n    \u003c/tr\u003e\n    \u003ctr\u003e\n      \u003cth\u003e2252\u003c/th\u003e\n      \u003ctd\u003e667509364010450944\u003c/td\u003e\n      \u003ctd\u003e\u003c/td\u003e\n    \u003c/tr\u003e\n    \u003ctr\u003e\n      \u003cth\u003e2256\u003c/th\u003e\n      \u003ctd\u003e667470559035432960\u003c/td\u003e\n      \u003ctd\u003e\u003c/td\u003e\n    \u003c/tr\u003e\n    \u003ctr\u003e\n      \u003cth\u003e2258\u003c/th\u003e\n      \u003ctd\u003e667453023279554560\u003c/td\u003e\n      \u003ctd\u003eCupcake\u003c/td\u003e\n    \u003c/tr\u003e\n    \u003ctr\u003e\n      \u003cth\u003e2276\u003c/th\u003e\n      \u003ctd\u003e667152164079423490\u003c/td\u003e\n      \u003ctd\u003ePipsy\u003c/td\u003e\n    \u003c/tr\u003e\n    \u003ctr\u003e\n      \u003cth\u003e2287\u003c/th\u003e\n      \u003ctd\u003e666983947667116034\u003c/td\u003e\n      \u003ctd\u003e\u003c/td\u003e\n    \u003c/tr\u003e\n    \u003ctr\u003e\n      \u003cth\u003e2294\u003c/th\u003e\n      \u003ctd\u003e666781792255496192\u003c/td\u003e\n      \u003ctd\u003e\u003c/td\u003e\n    \u003c/tr\u003e\n    \u003ctr\u003e\n      \u003cth\u003e2297\u003c/th\u003e\n      \u003ctd\u003e666701168228331520\u003c/td\u003e\n      \u003ctd\u003e\u003c/td\u003e\n    \u003c/tr\u003e\n  \u003c/tbody\u003e\n\u003c/table\u003e\n\u003cp\u003e71 rows × 2 columns\u003c/p\u003e\n\u003c/div\u003e"
          },
          "metadata": {},
          "output_type": "execute_result",
          "execution_count": 41
        }
      ],
      "source": "namePattern \u003d re.compile(\u0027named|for ([A-Z]\\w+)\u0027)\ndef extract_name(text):\n    names \u003d namePattern.findall(text)\n    if names:\n        return names[0]\n    return np.NaN\n\ntweet_clean_df[\u0027new_names\u0027] \u003d tweet_clean_df[\u0027full_text\u0027].apply(extract_name)\ntweet_clean_df[tweet_clean_df[\u0027new_names\u0027].isnull() \u003d\u003d False][[\u0027id\u0027, \u0027new_names\u0027]]\n",
      "metadata": {
        "pycharm": {
          "metadata": false,
          "name": "#%%\n",
          "is_executing": false
        }
      }
    },
    {
      "cell_type": "code",
      "execution_count": null,
      "outputs": [],
      "source": "",
      "metadata": {
        "pycharm": {
          "metadata": false,
          "name": "#%%\n"
        }
      }
    },
    {
      "cell_type": "code",
      "execution_count": 35,
      "metadata": {
        "pycharm": {
          "is_executing": false,
          "metadata": false,
          "name": "#%%\n"
        }
      },
      "outputs": [
        {
          "name": "stdout",
          "text": [
            "\u003cclass \u0027pandas.core.frame.DataFrame\u0027\u003e\nRangeIndex: 2339 entries, 0 to 2338\nData columns (total 4 columns):\nfavorite_count    2339 non-null int64\ntweet_id          2339 non-null int64\nretweet_count     2339 non-null int64\nnew_names         24 non-null object\ndtypes: int64(3), object(1)\nmemory usage: 73.2+ KB\n"
          ],
          "output_type": "stream"
        }
      ],
      "source": "columns_to_drop \u003d [\u0027contributors\u0027, \u0027coordinates\u0027, \u0027created_at\u0027, \u0027display_text_range\u0027,\n       \u0027entities\u0027, \u0027extended_entities\u0027, \u0027favorited\u0027,\n       \u0027full_text\u0027, \u0027geo\u0027, \u0027id_str\u0027, \u0027in_reply_to_screen_name\u0027,\n       \u0027in_reply_to_status_id\u0027, \u0027in_reply_to_status_id_str\u0027,\n       \u0027in_reply_to_user_id\u0027, \u0027in_reply_to_user_id_str\u0027, \u0027is_quote_status\u0027,\n       \u0027lang\u0027, \u0027place\u0027, \u0027possibly_sensitive\u0027, \u0027possibly_sensitive_appealable\u0027,\n       \u0027quoted_status\u0027, \u0027quoted_status_id\u0027, \u0027quoted_status_id_str\u0027,\n       \u0027quoted_status_permalink\u0027, \u0027retweeted\u0027, \u0027client\u0027,\n       \u0027retweeted_status\u0027, \u0027source\u0027, \u0027truncated\u0027, \u0027user\u0027]\ntweet_clean_df.rename(columns\u003d{\u0027id\u0027: \u0027tweet_id\u0027}, inplace\u003dTrue)\ntweet_clean_df.drop(columns_to_drop, axis\u003d1, inplace\u003dTrue)\ntweet_clean_df.info()"
    },
    {
      "cell_type": "markdown",
      "metadata": {
        "pycharm": {}
      },
      "source": [
        "### Cleaning of image_pred_df"
      ]
    },
    {
      "cell_type": "code",
      "execution_count": 151,
      "metadata": {
        "pycharm": {
          "is_executing": false
        }
      },
      "outputs": [
        {
          "data": {
            "text/html": [
              "\u003cdiv\u003e\n",
              "\u003cstyle scoped\u003e\n",
              "    .dataframe tbody tr th:only-of-type {\n",
              "        vertical-align: middle;\n",
              "    }\n",
              "\n",
              "    .dataframe tbody tr th {\n",
              "        vertical-align: top;\n",
              "    }\n",
              "\n",
              "    .dataframe thead th {\n",
              "        text-align: right;\n",
              "    }\n",
              "\u003c/style\u003e\n",
              "\u003ctable border\u003d\"1\" class\u003d\"dataframe\"\u003e\n",
              "  \u003cthead\u003e\n",
              "    \u003ctr style\u003d\"text-align: right;\"\u003e\n",
              "      \u003cth\u003e\u003c/th\u003e\n",
              "      \u003cth\u003etweet_id\u003c/th\u003e\n",
              "      \u003cth\u003ejpg_url\u003c/th\u003e\n",
              "      \u003cth\u003econfidence\u003c/th\u003e\n",
              "      \u003cth\u003egroup\u003c/th\u003e\n",
              "    \u003c/tr\u003e\n",
              "  \u003c/thead\u003e\n",
              "  \u003ctbody\u003e\n",
              "    \u003ctr\u003e\n",
              "      \u003cth\u003e0\u003c/th\u003e\n",
              "      \u003ctd\u003e666020888022790149\u003c/td\u003e\n",
              "      \u003ctd\u003ehttps://pbs.twimg.com/media/CT4udn0WwAA0aMy.jpg\u003c/td\u003e\n",
              "      \u003ctd\u003e0.465074\u003c/td\u003e\n",
              "      \u003ctd\u003ep1\u003c/td\u003e\n",
              "    \u003c/tr\u003e\n",
              "    \u003ctr\u003e\n",
              "      \u003cth\u003e1\u003c/th\u003e\n",
              "      \u003ctd\u003e666029285002620928\u003c/td\u003e\n",
              "      \u003ctd\u003ehttps://pbs.twimg.com/media/CT42GRgUYAA5iDo.jpg\u003c/td\u003e\n",
              "      \u003ctd\u003e0.506826\u003c/td\u003e\n",
              "      \u003ctd\u003ep1\u003c/td\u003e\n",
              "    \u003c/tr\u003e\n",
              "    \u003ctr\u003e\n",
              "      \u003cth\u003e2\u003c/th\u003e\n",
              "      \u003ctd\u003e666033412701032449\u003c/td\u003e\n",
              "      \u003ctd\u003ehttps://pbs.twimg.com/media/CT4521TWwAEvMyu.jpg\u003c/td\u003e\n",
              "      \u003ctd\u003e0.596461\u003c/td\u003e\n",
              "      \u003ctd\u003ep1\u003c/td\u003e\n",
              "    \u003c/tr\u003e\n",
              "    \u003ctr\u003e\n",
              "      \u003cth\u003e3\u003c/th\u003e\n",
              "      \u003ctd\u003e666044226329800704\u003c/td\u003e\n",
              "      \u003ctd\u003ehttps://pbs.twimg.com/media/CT5Dr8HUEAA-lEu.jpg\u003c/td\u003e\n",
              "      \u003ctd\u003e0.408143\u003c/td\u003e\n",
              "      \u003ctd\u003ep1\u003c/td\u003e\n",
              "    \u003c/tr\u003e\n",
              "    \u003ctr\u003e\n",
              "      \u003cth\u003e4\u003c/th\u003e\n",
              "      \u003ctd\u003e666049248165822465\u003c/td\u003e\n",
              "      \u003ctd\u003ehttps://pbs.twimg.com/media/CT5IQmsXIAAKY4A.jpg\u003c/td\u003e\n",
              "      \u003ctd\u003e0.560311\u003c/td\u003e\n",
              "      \u003ctd\u003ep1\u003c/td\u003e\n",
              "    \u003c/tr\u003e\n",
              "  \u003c/tbody\u003e\n",
              "\u003c/table\u003e\n",
              "\u003c/div\u003e"
            ],
            "text/plain": [
              "             tweet_id                                          jpg_url  \\\n",
              "0  666020888022790149  https://pbs.twimg.com/media/CT4udn0WwAA0aMy.jpg   \n",
              "1  666029285002620928  https://pbs.twimg.com/media/CT42GRgUYAA5iDo.jpg   \n",
              "2  666033412701032449  https://pbs.twimg.com/media/CT4521TWwAEvMyu.jpg   \n",
              "3  666044226329800704  https://pbs.twimg.com/media/CT5Dr8HUEAA-lEu.jpg   \n",
              "4  666049248165822465  https://pbs.twimg.com/media/CT5IQmsXIAAKY4A.jpg   \n",
              "\n",
              "   confidence group  \n",
              "0    0.465074    p1  \n",
              "1    0.506826    p1  \n",
              "2    0.596461    p1  \n",
              "3    0.408143    p1  \n",
              "4    0.560311    p1  "
            ]
          },
          "execution_count": 151,
          "metadata": {},
          "output_type": "execute_result"
        }
      ],
      "source": [
        "pred_conf \u003d pd.melt(image_pred_df, id_vars\u003d[\u0027tweet_id\u0027, \u0027jpg_url\u0027], value_vars\u003d[\u0027p1_conf\u0027, \u0027p2_conf\u0027, \u0027p3_conf\u0027], value_name\u003d\u0027confidence\u0027, var_name\u003d\u0027temp1\u0027)\n",
        "pred_conf[\u0027group\u0027] \u003d pred_conf[\u0027temp1\u0027].str[:2]\n",
        "pred_conf.drop(\u0027temp1\u0027, axis\u003d1, inplace\u003dTrue)\n",
        "pred_conf.head()"
      ]
    },
    {
      "cell_type": "code",
      "execution_count": 154,
      "metadata": {
        "pycharm": {
          "is_executing": false
        }
      },
      "outputs": [
        {
          "data": {
            "text/html": [
              "\u003cdiv\u003e\n",
              "\u003cstyle scoped\u003e\n",
              "    .dataframe tbody tr th:only-of-type {\n",
              "        vertical-align: middle;\n",
              "    }\n",
              "\n",
              "    .dataframe tbody tr th {\n",
              "        vertical-align: top;\n",
              "    }\n",
              "\n",
              "    .dataframe thead th {\n",
              "        text-align: right;\n",
              "    }\n",
              "\u003c/style\u003e\n",
              "\u003ctable border\u003d\"1\" class\u003d\"dataframe\"\u003e\n",
              "  \u003cthead\u003e\n",
              "    \u003ctr style\u003d\"text-align: right;\"\u003e\n",
              "      \u003cth\u003e\u003c/th\u003e\n",
              "      \u003cth\u003etweet_id\u003c/th\u003e\n",
              "      \u003cth\u003eis_dog\u003c/th\u003e\n",
              "      \u003cth\u003egroup\u003c/th\u003e\n",
              "    \u003c/tr\u003e\n",
              "  \u003c/thead\u003e\n",
              "  \u003ctbody\u003e\n",
              "    \u003ctr\u003e\n",
              "      \u003cth\u003e0\u003c/th\u003e\n",
              "      \u003ctd\u003e666020888022790149\u003c/td\u003e\n",
              "      \u003ctd\u003eTrue\u003c/td\u003e\n",
              "      \u003ctd\u003ep1\u003c/td\u003e\n",
              "    \u003c/tr\u003e\n",
              "    \u003ctr\u003e\n",
              "      \u003cth\u003e1\u003c/th\u003e\n",
              "      \u003ctd\u003e666029285002620928\u003c/td\u003e\n",
              "      \u003ctd\u003eTrue\u003c/td\u003e\n",
              "      \u003ctd\u003ep1\u003c/td\u003e\n",
              "    \u003c/tr\u003e\n",
              "    \u003ctr\u003e\n",
              "      \u003cth\u003e2\u003c/th\u003e\n",
              "      \u003ctd\u003e666033412701032449\u003c/td\u003e\n",
              "      \u003ctd\u003eTrue\u003c/td\u003e\n",
              "      \u003ctd\u003ep1\u003c/td\u003e\n",
              "    \u003c/tr\u003e\n",
              "    \u003ctr\u003e\n",
              "      \u003cth\u003e3\u003c/th\u003e\n",
              "      \u003ctd\u003e666044226329800704\u003c/td\u003e\n",
              "      \u003ctd\u003eTrue\u003c/td\u003e\n",
              "      \u003ctd\u003ep1\u003c/td\u003e\n",
              "    \u003c/tr\u003e\n",
              "    \u003ctr\u003e\n",
              "      \u003cth\u003e4\u003c/th\u003e\n",
              "      \u003ctd\u003e666049248165822465\u003c/td\u003e\n",
              "      \u003ctd\u003eTrue\u003c/td\u003e\n",
              "      \u003ctd\u003ep1\u003c/td\u003e\n",
              "    \u003c/tr\u003e\n",
              "  \u003c/tbody\u003e\n",
              "\u003c/table\u003e\n",
              "\u003c/div\u003e"
            ],
            "text/plain": [
              "             tweet_id  is_dog group\n",
              "0  666020888022790149    True    p1\n",
              "1  666029285002620928    True    p1\n",
              "2  666033412701032449    True    p1\n",
              "3  666044226329800704    True    p1\n",
              "4  666049248165822465    True    p1"
            ]
          },
          "execution_count": 154,
          "metadata": {},
          "output_type": "execute_result"
        }
      ],
      "source": [
        "pred_dog \u003d pd.melt(image_pred_df, id_vars\u003d\u0027tweet_id\u0027, value_vars\u003d[\u0027p1_dog\u0027, \u0027p2_dog\u0027, \u0027p3_dog\u0027], value_name\u003d\u0027is_dog\u0027, var_name\u003d\u0027temp2\u0027)\n",
        "pred_dog[\u0027group\u0027] \u003d pred_dog[\u0027temp2\u0027].str[:2]\n",
        "pred_dog.drop(\u0027temp2\u0027, axis\u003d1, inplace\u003dTrue)\n",
        "pred_dog.head()"
      ]
    },
    {
      "cell_type": "code",
      "execution_count": 155,
      "metadata": {
        "pycharm": {
          "is_executing": false
        }
      },
      "outputs": [
        {
          "data": {
            "text/html": [
              "\u003cdiv\u003e\n",
              "\u003cstyle scoped\u003e\n",
              "    .dataframe tbody tr th:only-of-type {\n",
              "        vertical-align: middle;\n",
              "    }\n",
              "\n",
              "    .dataframe tbody tr th {\n",
              "        vertical-align: top;\n",
              "    }\n",
              "\n",
              "    .dataframe thead th {\n",
              "        text-align: right;\n",
              "    }\n",
              "\u003c/style\u003e\n",
              "\u003ctable border\u003d\"1\" class\u003d\"dataframe\"\u003e\n",
              "  \u003cthead\u003e\n",
              "    \u003ctr style\u003d\"text-align: right;\"\u003e\n",
              "      \u003cth\u003e\u003c/th\u003e\n",
              "      \u003cth\u003etweet_id\u003c/th\u003e\n",
              "      \u003cth\u003egroup\u003c/th\u003e\n",
              "      \u003cth\u003ebreed\u003c/th\u003e\n",
              "    \u003c/tr\u003e\n",
              "  \u003c/thead\u003e\n",
              "  \u003ctbody\u003e\n",
              "    \u003ctr\u003e\n",
              "      \u003cth\u003e0\u003c/th\u003e\n",
              "      \u003ctd\u003e666020888022790149\u003c/td\u003e\n",
              "      \u003ctd\u003ep1\u003c/td\u003e\n",
              "      \u003ctd\u003eWelsh_springer_spaniel\u003c/td\u003e\n",
              "    \u003c/tr\u003e\n",
              "    \u003ctr\u003e\n",
              "      \u003cth\u003e1\u003c/th\u003e\n",
              "      \u003ctd\u003e666029285002620928\u003c/td\u003e\n",
              "      \u003ctd\u003ep1\u003c/td\u003e\n",
              "      \u003ctd\u003eredbone\u003c/td\u003e\n",
              "    \u003c/tr\u003e\n",
              "    \u003ctr\u003e\n",
              "      \u003cth\u003e2\u003c/th\u003e\n",
              "      \u003ctd\u003e666033412701032449\u003c/td\u003e\n",
              "      \u003ctd\u003ep1\u003c/td\u003e\n",
              "      \u003ctd\u003eGerman_shepherd\u003c/td\u003e\n",
              "    \u003c/tr\u003e\n",
              "    \u003ctr\u003e\n",
              "      \u003cth\u003e3\u003c/th\u003e\n",
              "      \u003ctd\u003e666044226329800704\u003c/td\u003e\n",
              "      \u003ctd\u003ep1\u003c/td\u003e\n",
              "      \u003ctd\u003eRhodesian_ridgeback\u003c/td\u003e\n",
              "    \u003c/tr\u003e\n",
              "    \u003ctr\u003e\n",
              "      \u003cth\u003e4\u003c/th\u003e\n",
              "      \u003ctd\u003e666049248165822465\u003c/td\u003e\n",
              "      \u003ctd\u003ep1\u003c/td\u003e\n",
              "      \u003ctd\u003eminiature_pinscher\u003c/td\u003e\n",
              "    \u003c/tr\u003e\n",
              "  \u003c/tbody\u003e\n",
              "\u003c/table\u003e\n",
              "\u003c/div\u003e"
            ],
            "text/plain": [
              "             tweet_id group                   breed\n",
              "0  666020888022790149    p1  Welsh_springer_spaniel\n",
              "1  666029285002620928    p1                 redbone\n",
              "2  666033412701032449    p1         German_shepherd\n",
              "3  666044226329800704    p1     Rhodesian_ridgeback\n",
              "4  666049248165822465    p1      miniature_pinscher"
            ]
          },
          "execution_count": 155,
          "metadata": {},
          "output_type": "execute_result"
        }
      ],
      "source": [
        "pred_breed \u003d pd.melt(image_pred_df, id_vars\u003d\u0027tweet_id\u0027, value_vars\u003d[\u0027p1\u0027, \u0027p2\u0027, \u0027p3\u0027], value_name\u003d\u0027breed\u0027, var_name\u003d\u0027group\u0027)\n",
        "pred_breed.head()"
      ]
    },
    {
      "cell_type": "code",
      "execution_count": 156,
      "metadata": {
        "pycharm": {
          "is_executing": false
        }
      },
      "outputs": [
        {
          "data": {
            "text/html": [
              "\u003cdiv\u003e\n",
              "\u003cstyle scoped\u003e\n",
              "    .dataframe tbody tr th:only-of-type {\n",
              "        vertical-align: middle;\n",
              "    }\n",
              "\n",
              "    .dataframe tbody tr th {\n",
              "        vertical-align: top;\n",
              "    }\n",
              "\n",
              "    .dataframe thead th {\n",
              "        text-align: right;\n",
              "    }\n",
              "\u003c/style\u003e\n",
              "\u003ctable border\u003d\"1\" class\u003d\"dataframe\"\u003e\n",
              "  \u003cthead\u003e\n",
              "    \u003ctr style\u003d\"text-align: right;\"\u003e\n",
              "      \u003cth\u003e\u003c/th\u003e\n",
              "      \u003cth\u003etweet_id\u003c/th\u003e\n",
              "      \u003cth\u003ejpg_url\u003c/th\u003e\n",
              "      \u003cth\u003econfidence\u003c/th\u003e\n",
              "      \u003cth\u003egroup\u003c/th\u003e\n",
              "      \u003cth\u003eis_dog\u003c/th\u003e\n",
              "      \u003cth\u003ebreed\u003c/th\u003e\n",
              "    \u003c/tr\u003e\n",
              "  \u003c/thead\u003e\n",
              "  \u003ctbody\u003e\n",
              "    \u003ctr\u003e\n",
              "      \u003cth\u003e0\u003c/th\u003e\n",
              "      \u003ctd\u003e666020888022790149\u003c/td\u003e\n",
              "      \u003ctd\u003ehttps://pbs.twimg.com/media/CT4udn0WwAA0aMy.jpg\u003c/td\u003e\n",
              "      \u003ctd\u003e0.465074\u003c/td\u003e\n",
              "      \u003ctd\u003ep1\u003c/td\u003e\n",
              "      \u003ctd\u003eTrue\u003c/td\u003e\n",
              "      \u003ctd\u003eWelsh_springer_spaniel\u003c/td\u003e\n",
              "    \u003c/tr\u003e\n",
              "    \u003ctr\u003e\n",
              "      \u003cth\u003e1\u003c/th\u003e\n",
              "      \u003ctd\u003e666029285002620928\u003c/td\u003e\n",
              "      \u003ctd\u003ehttps://pbs.twimg.com/media/CT42GRgUYAA5iDo.jpg\u003c/td\u003e\n",
              "      \u003ctd\u003e0.506826\u003c/td\u003e\n",
              "      \u003ctd\u003ep1\u003c/td\u003e\n",
              "      \u003ctd\u003eTrue\u003c/td\u003e\n",
              "      \u003ctd\u003eredbone\u003c/td\u003e\n",
              "    \u003c/tr\u003e\n",
              "    \u003ctr\u003e\n",
              "      \u003cth\u003e2\u003c/th\u003e\n",
              "      \u003ctd\u003e666033412701032449\u003c/td\u003e\n",
              "      \u003ctd\u003ehttps://pbs.twimg.com/media/CT4521TWwAEvMyu.jpg\u003c/td\u003e\n",
              "      \u003ctd\u003e0.596461\u003c/td\u003e\n",
              "      \u003ctd\u003ep1\u003c/td\u003e\n",
              "      \u003ctd\u003eTrue\u003c/td\u003e\n",
              "      \u003ctd\u003eGerman_shepherd\u003c/td\u003e\n",
              "    \u003c/tr\u003e\n",
              "    \u003ctr\u003e\n",
              "      \u003cth\u003e3\u003c/th\u003e\n",
              "      \u003ctd\u003e666044226329800704\u003c/td\u003e\n",
              "      \u003ctd\u003ehttps://pbs.twimg.com/media/CT5Dr8HUEAA-lEu.jpg\u003c/td\u003e\n",
              "      \u003ctd\u003e0.408143\u003c/td\u003e\n",
              "      \u003ctd\u003ep1\u003c/td\u003e\n",
              "      \u003ctd\u003eTrue\u003c/td\u003e\n",
              "      \u003ctd\u003eRhodesian_ridgeback\u003c/td\u003e\n",
              "    \u003c/tr\u003e\n",
              "    \u003ctr\u003e\n",
              "      \u003cth\u003e4\u003c/th\u003e\n",
              "      \u003ctd\u003e666049248165822465\u003c/td\u003e\n",
              "      \u003ctd\u003ehttps://pbs.twimg.com/media/CT5IQmsXIAAKY4A.jpg\u003c/td\u003e\n",
              "      \u003ctd\u003e0.560311\u003c/td\u003e\n",
              "      \u003ctd\u003ep1\u003c/td\u003e\n",
              "      \u003ctd\u003eTrue\u003c/td\u003e\n",
              "      \u003ctd\u003eminiature_pinscher\u003c/td\u003e\n",
              "    \u003c/tr\u003e\n",
              "  \u003c/tbody\u003e\n",
              "\u003c/table\u003e\n",
              "\u003c/div\u003e"
            ],
            "text/plain": [
              "             tweet_id                                          jpg_url  \\\n",
              "0  666020888022790149  https://pbs.twimg.com/media/CT4udn0WwAA0aMy.jpg   \n",
              "1  666029285002620928  https://pbs.twimg.com/media/CT42GRgUYAA5iDo.jpg   \n",
              "2  666033412701032449  https://pbs.twimg.com/media/CT4521TWwAEvMyu.jpg   \n",
              "3  666044226329800704  https://pbs.twimg.com/media/CT5Dr8HUEAA-lEu.jpg   \n",
              "4  666049248165822465  https://pbs.twimg.com/media/CT5IQmsXIAAKY4A.jpg   \n",
              "\n",
              "   confidence group  is_dog                   breed  \n",
              "0    0.465074    p1    True  Welsh_springer_spaniel  \n",
              "1    0.506826    p1    True                 redbone  \n",
              "2    0.596461    p1    True         German_shepherd  \n",
              "3    0.408143    p1    True     Rhodesian_ridgeback  \n",
              "4    0.560311    p1    True      miniature_pinscher  "
            ]
          },
          "execution_count": 156,
          "metadata": {},
          "output_type": "execute_result"
        }
      ],
      "source": [
        "pred_tidy \u003d pred_conf.merge(pred_dog, on\u003d[\u0027tweet_id\u0027, \u0027group\u0027]).merge(pred_breed, on\u003d[\u0027tweet_id\u0027, \u0027group\u0027])\n",
        "pred_tidy.head()"
      ]
    },
    {
      "cell_type": "code",
      "execution_count": 157,
      "metadata": {
        "pycharm": {
          "is_executing": false,
          "metadata": false,
          "name": "#%%\n"
        }
      },
      "outputs": [],
      "source": [
        "# clean up unused variables\n",
        "del pred_conf\n",
        "del pred_dog\n",
        "del pred_breed"
      ]
    },
    {
      "cell_type": "markdown",
      "metadata": {
        "pycharm": {
          "metadata": false,
          "name": "#%% md\n"
        }
      },
      "source": [
        "### Create Twitter archive master"
      ]
    },
    {
      "cell_type": "code",
      "execution_count": 79,
      "metadata": {
        "pycharm": {
          "is_executing": false,
          "metadata": false,
          "name": "#%%\n"
        }
      },
      "outputs": [
        {
          "name": "stdout",
          "output_type": "stream",
          "text": [
            "\u003cclass \u0027pandas.core.frame.DataFrame\u0027\u003e\n",
            "Int64Index: 2381 entries, 0 to 2380\n",
            "Data columns (total 10 columns):\n",
            "tweet_id              2381 non-null int64\n",
            "timestamp             2381 non-null datetime64[ns, UTC]\n",
            "text                  2381 non-null object\n",
            "rating_numerator      2381 non-null int64\n",
            "rating_denominator    2381 non-null int64\n",
            "name                  1619 non-null object\n",
            "dogtionary            420 non-null object\n",
            "client                2381 non-null object\n",
            "favorite_count        2381 non-null int64\n",
            "retweet_count         2381 non-null int64\n",
            "dtypes: datetime64[ns, UTC](1), int64(5), object(4)\n",
            "memory usage: 204.6+ KB\n"
          ]
        }
      ],
      "source": [
        "master_df \u003d twitter_clean_df.copy()\n",
        "master_df \u003d master_df.merge(tweet_clean_df, on\u003d\u0027tweet_id\u0027, how\u003d\u0027inner\u0027)\n",
        "master_df.info()"
      ]
    },
    {
      "cell_type": "code",
      "execution_count": 114,
      "metadata": {
        "pycharm": {}
      },
      "outputs": [],
      "source": [
        "REPORT_DATA_SET_FILE \u003d \u0027twitter_archive_master.csv\u0027\n",
        "master_df.to_csv(REPORT_DATA_SET_FILE, index\u003dFalse)"
      ]
    },
    {
      "cell_type": "markdown",
      "metadata": {
        "pycharm": {}
      },
      "source": [
        "## Analysis"
      ]
    },
    {
      "cell_type": "code",
      "execution_count": 113,
      "metadata": {
        "pycharm": {}
      },
      "outputs": [
        {
          "data": {
            "image/png": "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\u003d\u003d\n",
            "text/plain": [
              "\u003cFigure size 720x576 with 3 Axes\u003e"
            ]
          },
          "metadata": {
            "needs_background": "light"
          },
          "output_type": "display_data"
        }
      ],
      "source": [
        "# Does the different Twitter clients rate dogs differently?\n",
        "rating_client_agg \u003d master_df.groupby(\u0027client\u0027, as_index\u003dFalse).agg({\u0027rating_numerator\u0027: [\u0027min\u0027, \u0027max\u0027, \u0027median\u0027]})\n",
        "rating_client_agg.columns \u003d [\u0027client\u0027, \u0027min\u0027, \u0027max\u0027, \u0027median\u0027]\n",
        "fig, (ax1, ax2, ax3) \u003d plt.subplots(nrows\u003d3, ncols\u003d1, figsize\u003d(10,8))\n",
        "ax1.bar(rating_client_agg[\u0027client\u0027], rating_client_agg[\u0027min\u0027])\n",
        "ax1.set_title(\u0027Minimum rating / Twitter client\u0027)\n",
        "ax2.bar(rating_client_agg[\u0027client\u0027], rating_client_agg[\u0027max\u0027])\n",
        "ax2.set_title(\u0027Maximum rating / Twitter client\u0027)\n",
        "ax3.bar(rating_client_agg[\u0027client\u0027], rating_client_agg[\u0027median\u0027])\n",
        "ax3.set_title(\u0027Median rating / Twitter client\u0027)\n",
        "plt.subplots_adjust(hspace\u003d0.6)\n",
        "fig.savefig(os.path.join(IMAGES_DIR, \u0027rating-client-outliers.jpg\u0027))\n",
        "plt.show()"
      ]
    },
    {
      "cell_type": "code",
      "execution_count": 149,
      "metadata": {
        "pycharm": {}
      },
      "outputs": [
        {
          "data": {
            "image/png": "[encoded data removed]",
            "text/plain": [
              "\u003cFigure size 432x288 with 1 Axes\u003e"
            ]
          },
          "metadata": {
            "needs_background": "light"
          },
          "output_type": "display_data"
        }
      ],
      "source": [
        "# How are the different Twitter clients used for setting favorites and retweets?\n",
        "share_agg \u003d master_df.groupby(\u0027client\u0027, as_index\u003dFalse).agg({\u0027favorite_count\u0027: [\u0027sum\u0027], \u0027retweet_count\u0027: [\u0027sum\u0027]})\n",
        "share_agg.columns \u003d [\u0027client\u0027, \u0027favorite\u0027, \u0027retweet\u0027]\n",
        "ax \u003d share_agg.plot(\u0027client\u0027, [\u0027favorite\u0027, \u0027retweet\u0027], kind\u003d\u0027bar\u0027, log\u003dTrue)\n",
        "ax.set_title(\u0027Favorite and retweet per client\u0027)\n",
        "ax.set_xlabel(\u0027\u0027)\n",
        "ax.tick_params(axis\u003d\u0027x\u0027, labelrotation\u003d35)\n",
        "ax.set_ylabel(\u0027Sum of tweets (log)\u0027)\n",
        "plt.tight_layout()\n",
        "plt.savefig(os.path.join(IMAGES_DIR, \u0027favorite-and-retweet-per-client.jpg\u0027))\n",
        "plt.show()"
      ]
    },
    {
      "cell_type": "code",
      "execution_count": 148,
      "metadata": {
        "pycharm": {}
      },
      "outputs": [
        {
          "data": {
            "text/html": [
              "\u003cdiv\u003e\n",
              "\u003cstyle scoped\u003e\n",
              "    .dataframe tbody tr th:only-of-type {\n",
              "        vertical-align: middle;\n",
              "    }\n",
              "\n",
              "    .dataframe tbody tr th {\n",
              "        vertical-align: top;\n",
              "    }\n",
              "\n",
              "    .dataframe thead th {\n",
              "        text-align: right;\n",
              "    }\n",
              "\u003c/style\u003e\n",
              "\u003ctable border\u003d\"1\" class\u003d\"dataframe\"\u003e\n",
              "  \u003cthead\u003e\n",
              "    \u003ctr style\u003d\"text-align: right;\"\u003e\n",
              "      \u003cth\u003e\u003c/th\u003e\n",
              "      \u003cth\u003eclient\u003c/th\u003e\n",
              "      \u003cth\u003efavorit\u003c/th\u003e\n",
              "      \u003cth\u003eretweet\u003c/th\u003e\n",
              "    \u003c/tr\u003e\n",
              "  \u003c/thead\u003e\n",
              "  \u003ctbody\u003e\n",
              "    \u003ctr\u003e\n",
              "      \u003cth\u003e0\u003c/th\u003e\n",
              "      \u003ctd\u003eTweetDeck\u003c/td\u003e\n",
              "      \u003ctd\u003e43312\u003c/td\u003e\n",
              "      \u003ctd\u003e19317\u003c/td\u003e\n",
              "    \u003c/tr\u003e\n",
              "    \u003ctr\u003e\n",
              "      \u003cth\u003e1\u003c/th\u003e\n",
              "      \u003ctd\u003eTwitter Web Client\u003c/td\u003e\n",
              "      \u003ctd\u003e169710\u003c/td\u003e\n",
              "      \u003ctd\u003e69729\u003c/td\u003e\n",
              "    \u003c/tr\u003e\n",
              "    \u003ctr\u003e\n",
              "      \u003cth\u003e2\u003c/th\u003e\n",
              "      \u003ctd\u003eTwitter for iPhone\u003c/td\u003e\n",
              "      \u003ctd\u003e18102119\u003c/td\u003e\n",
              "      \u003ctd\u003e6603945\u003c/td\u003e\n",
              "    \u003c/tr\u003e\n",
              "    \u003ctr\u003e\n",
              "      \u003cth\u003e3\u003c/th\u003e\n",
              "      \u003ctd\u003eVine - Make a Scene\u003c/td\u003e\n",
              "      \u003ctd\u003e722639\u003c/td\u003e\n",
              "      \u003ctd\u003e340692\u003c/td\u003e\n",
              "    \u003c/tr\u003e\n",
              "  \u003c/tbody\u003e\n",
              "\u003c/table\u003e\n",
              "\u003c/div\u003e"
            ],
            "text/plain": [
              "                client   favorit  retweet\n",
              "0            TweetDeck     43312    19317\n",
              "1   Twitter Web Client    169710    69729\n",
              "2   Twitter for iPhone  18102119  6603945\n",
              "3  Vine - Make a Scene    722639   340692"
            ]
          },
          "execution_count": 148,
          "metadata": {},
          "output_type": "execute_result"
        }
      ],
      "source": [
        "share_agg"
      ]
    },
    {
      "cell_type": "code",
      "execution_count": 164,
      "metadata": {
        "pycharm": {}
      },
      "outputs": [
        {
          "name": "stdout",
          "output_type": "stream",
          "text": [
            "[\u0027rating-histogram.jpg\u0027, \u0027rating-client-outliers.jpg\u0027, \u0027dog-1.jpg.jpg\u0027, \u0027dog-0.jpg.jpg\u0027, \u0027.ipynb_checkpoints\u0027, \u0027dog-2.jpg.jpg\u0027, \u0027favorite-and-retweet-per-client.jpg\u0027]\n"
          ]
        }
      ],
      "source": [
        "# download random images for the report\n",
        "import random\n",
        "for i in range(3):\n",
        "    download_img(f\u0027dog-{i}.jpg\u0027, random.choice(pred_tidy.jpg_url.to_list()))\n",
        "print(os.listdir(IMAGES_DIR))"
      ]
    },
    {
      "cell_type": "markdown",
      "metadata": {
        "pycharm": {}
      },
      "source": [
        "# Assert project ready for submission\n",
        "The following files needs to be included in the submission of the project"
      ]
    },
    {
      "cell_type": "code",
      "execution_count": 3,
      "metadata": {
        "pycharm": {
          "is_executing": false
        }
      },
      "outputs": [
        {
          "name": "stdout",
          "output_type": "stream",
          "text": [
            "True - wrangle_act.ipynb: code for gathering, assessing, cleaning, analyzing, and visualizing data\n",
            "False - wrangle_report.pdf or wrangle_report.html: documentation for data wrangling steps: gather, assess, and clean\n",
            "False - act_report.pdf or act_report.html: documentation of analysis and insights into final data\n",
            "True - twitter_archive_enhanced.csv: file as given\n",
            "True - image_predictions.tsv: file downloaded programmatically\n",
            "True - tweet_json.txt: file constructed via API\n",
            "False - twitter_archive_master.csv: combined and cleaned data\n"
          ]
        }
      ],
      "source": [
        "print(f\"{file_exists(\u0027wrangle_act.ipynb\u0027, directory\u003d\u0027.\u0027)} - wrangle_act.ipynb: code for gathering, assessing, cleaning, analyzing, and visualizing data\")\n",
        "print(f\"{file_exists(\u0027wrangle_report.pdf\u0027, directory\u003d\u0027.\u0027)} - wrangle_report.pdf or wrangle_report.html: documentation for data wrangling steps: gather, assess, and clean\")\n",
        "print(f\"{file_exists(\u0027act_report.pdf\u0027, directory\u003d\u0027.\u0027)} - act_report.pdf or act_report.html: documentation of analysis and insights into final data\")\n",
        "print(f\"{file_exists(\u0027twitter_archive_enhanced.csv\u0027)} - twitter_archive_enhanced.csv: file as given\")\n",
        "print(f\"{file_exists(\u0027image_predictions.tsv\u0027)} - image_predictions.tsv: file downloaded programmatically\")\n",
        "print(f\"{file_exists(\u0027tweet_json.txt\u0027)} - tweet_json.txt: file constructed via API\")\n",
        "print(f\"{file_exists(\u0027twitter_archive_master.csv\u0027, directory\u003d\u0027.\u0027)} - twitter_archive_master.csv: combined and cleaned data\")\n",
        "      "
      ]
    }
  ],
  "metadata": {
    "kernelspec": {
      "display_name": "Python 3",
      "language": "python",
      "name": "python3"
    },
    "language_info": {
      "codemirror_mode": {
        "name": "ipython",
        "version": 3
      },
      "file_extension": ".py",
      "mimetype": "text/x-python",
      "name": "python",
      "nbconvert_exporter": "python",
      "pygments_lexer": "ipython3",
      "version": "3.6.3"
    }
  },
  "nbformat": 4,
  "nbformat_minor": 2
}