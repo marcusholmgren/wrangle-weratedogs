{
 "cells": [
  {
   "cell_type": "markdown",
   "metadata": {
    "pycharm": {}
   },
   "source": [
    "# Wrangle and Analyze Data\n",
    "Is the fifth project in the Data Wrangling section in the Udacity [Data Analyst Nanodegree](https://eu.udacity.com/course/data-analyst-nanodegree--nd002) program.\n",
    "\n",
    "\n",
    "## Context\n",
    "__Goal__: wrangle WeRateDogs Twitter data to create interesting and trustworthy analyses and visualizations. The Twitter archive is great, but it only contains very basic tweet information. Additional gathering, then assessing and cleaning is required for \"Wow!\"-worthy analyses and visualizations.\n",
    "\n",
    "\n",
    "[The weird underside of DoggoLingo](https://blog.oxforddictionaries.com/2017/08/01/doggolingo/)"
   ]
  },
  {
   "cell_type": "code",
   "execution_count": 1,
   "metadata": {
    "pycharm": {
     "is_executing": false
    }
   },
   "outputs": [],
   "source": [
    "import requests\n",
    "import os, sys\n",
    "import re\n",
    "import pandas as pd\n",
    "import numpy as np\n",
    "import zipfile\n",
    "import json\n",
    "import twitter_api\n",
    "import matplotlib.pyplot as plt\n",
    "%matplotlib inline"
   ]
  },
  {
   "cell_type": "code",
   "execution_count": 2,
   "metadata": {
    "pycharm": {
     "is_executing": false
    }
   },
   "outputs": [],
   "source": [
    "DOWNLOADS_DIR = 'downloads'\n",
    "IMAGES_DIR = 'images'\n",
    "\n",
    "def ensure_dir(file_path=DOWNLOADS_DIR):\n",
    "    \"\"\"\n",
    "    Ensure directory exists or create it.\n",
    "    :param file_path: directory path\n",
    "    :return: \n",
    "    \"\"\"\n",
    "    if not os.path.exists(file_path):\n",
    "        os.makedirs(file_path)\n",
    "\n",
    "        \n",
    "def download(*urls):\n",
    "    \"\"\"\n",
    "    Download files from the provided URL.\n",
    "    :param urls: variable number of URL\n",
    "    :return: None\n",
    "    \"\"\"\n",
    "    ensure_dir()\n",
    "    for url in urls:\n",
    "        url_file = os.path.join(DOWNLOADS_DIR, url.split(os.path.sep)[-1]).replace('-', '_')\n",
    "        if not os.path.exists(url_file):\n",
    "            response = requests.get(url, allow_redirects=True)\n",
    "            with open(url_file, 'wb') as handle:\n",
    "                handle.write(response.content)\n",
    "                sys.stdout.write('.')\n",
    "    sys.stdout.write('\\n')\n",
    "\n",
    "\n",
    "def download_img(name, url):\n",
    "    \"\"\"\n",
    "    Download image from the provided URL\n",
    "    :param name: name of image file\n",
    "    :param url: URL for image\n",
    "    :return: None\n",
    "    \"\"\"\n",
    "    ensure_dir(IMAGES_DIR)\n",
    "    image_file = os.path.join(IMAGES_DIR, f\"{name}.{url.split('.')[-1]}\")\n",
    "    if not os.path.exists(image_file):\n",
    "        response = requests.get(url, allow_redirects=True)\n",
    "        with open(image_file, 'wb') as handle:\n",
    "            handle.write(response.content)\n",
    "\n",
    "\n",
    "def zip_extract(file):\n",
    "    \"\"\"\n",
    "    Extract alla files from a zip archive.\n",
    "    :param file: file name of archive.\n",
    "    :return: a list of file names in the archive.\n",
    "    \"\"\"\n",
    "    with zipfile.ZipFile(os.path.join(DOWNLOADS_DIR, file), 'r') as zip_ref:\n",
    "        zip_ref.extractall(DOWNLOADS_DIR)\n",
    "        return zip_ref.namelist()\n",
    "\n",
    "def rename(file_from, file_to, directory=DOWNLOADS_DIR):\n",
    "    \"\"\"\n",
    "    Rename file in the \n",
    "    :param file_from: Existing file to rename\n",
    "    :param file_to: Target file name\n",
    "    :param directory: Source directory, defaults to DOWNLOADS_DIR\n",
    "    :return: None\n",
    "    \"\"\"\n",
    "    source = os.path.join(directory, file_from)\n",
    "    if os.path.exists(source):\n",
    "        os.rename(source, os.path.join(directory, file_to))\n",
    "\n",
    "\n",
    "def file_exists(filename, directory=DOWNLOADS_DIR):\n",
    "    \"\"\"\n",
    "    Check if the file exists in a optional provided directory.\n",
    "    :param filename: name of file\n",
    "    :param directory: Source directory, defaults to DOWNLOADS_DIR\n",
    "    :return: True if file exists.\n",
    "    \"\"\"\n",
    "    return os.path.exists(os.path.join(directory, filename))"
   ]
  },
  {
   "cell_type": "markdown",
   "metadata": {
    "pycharm": {}
   },
   "source": [
    "## Gather"
   ]
  },
  {
   "cell_type": "code",
   "execution_count": 39,
   "metadata": {
    "pycharm": {}
   },
   "outputs": [
    {
     "name": "stdout",
     "output_type": "stream",
     "text": [
      "\n",
      "['.DS_Store', 'image_predictions.tsv', 'twitter_archive_enhanced.csv', 'tweet_json.txt']\n"
     ]
    }
   ],
   "source": [
    "# I collect tweet data throught the Twitter API. So these two files are not downloaded\n",
    "#'https://s3.amazonaws.com/video.udacity-data.com/topher/2018/November/5bf60fc9_tweet-json/tweet-json.zip',\n",
    "#'https://s3.amazonaws.com/video.udacity-data.com/topher/2018/November/5bf60fda_tweet-json/tweet-json',\n",
    "\n",
    "download('https://s3.amazonaws.com/video.udacity-data.com/topher/2018/November/5bf60fe7_image-predictions/image-predictions.tsv',\n",
    "         'https://d17h27t6h515a5.cloudfront.net/topher/2017/August/59a4e958_twitter-archive-enhanced/twitter-archive-enhanced.csv')\n",
    "print(os.listdir(DOWNLOADS_DIR))"
   ]
  },
  {
   "cell_type": "code",
   "execution_count": 40,
   "metadata": {
    "pycharm": {}
   },
   "outputs": [
    {
     "name": "stdout",
     "output_type": "stream",
     "text": [
      "['.DS_Store', 'image_predictions.tsv', 'twitter_archive_enhanced.csv', 'tweet_json.txt']\n"
     ]
    }
   ],
   "source": [
    "# Rename file to addhere to the expected project submission\n",
    "rename('image-predictions.tsv', 'image_predictions.tsv')\n",
    "rename('twitter-archive-enhanced.csv', 'twitter_archive_enhanced.csv')\n",
    "print(os.listdir(DOWNLOADS_DIR))"
   ]
  },
  {
   "cell_type": "markdown",
   "metadata": {
    "pycharm": {}
   },
   "source": [
    "```code\n",
    "# Not needed since I collect data through the Twitter API\n",
    "print(zip_extract('tweet-json.zip'))\n",
    "\n",
    "# rename extracted file from tweet-json.zip\n",
    "os.rename(os.path.join(DOWNLOADS_DIR, 'tweet-json copy'), os.path.join(DOWNLOADS_DIR, 'tweet.json'))\n",
    "print(os.listdir(DOWNLOADS_DIR))\n",
    "```"
   ]
  },
  {
   "cell_type": "markdown",
   "metadata": {
    "pycharm": {}
   },
   "source": [
    "### Download Twitter Tweets\n",
    "\n",
    "This code cell expects that a file `twitter_api.py` exists in the same folder as this notebook.\n",
    "One function `get_api` should exists that returns a fully configured `tweepy.API` instance."
   ]
  },
  {
   "cell_type": "code",
   "execution_count": 6,
   "metadata": {
    "pycharm": {}
   },
   "outputs": [
    {
     "name": "stdout",
     "output_type": "stream",
     "text": [
      "...................X...........................................................................X.....X..X.............X.............X......................X...........................................................................................X............X.....................................X..."
     ]
    },
    {
     "name": "stderr",
     "output_type": "stream",
     "text": [
      "Rate limit reached. Sleeping for: 397\n"
     ]
    },
    {
     "name": "stdout",
     "output_type": "stream",
     "text": [
      "................................................................................X...........................................................................................................................X...........................................................X.........................................................................................................................................................................................................................X.................................X.................................................................................................................X............................................................................................................................................................................................................................................................................."
     ]
    },
    {
     "name": "stderr",
     "output_type": "stream",
     "text": [
      "Rate limit reached. Sleeping for: 647\n"
     ]
    },
    {
     "name": "stdout",
     "output_type": "stream",
     "text": [
      "............................................................................................................................................................................................................................................................................................................................................................................................................................................................................................................................................X......................................................................................................................................................................................................................................................................................................................................................................................."
     ]
    },
    {
     "name": "stderr",
     "output_type": "stream",
     "text": [
      "Rate limit reached. Sleeping for: 651\n"
     ]
    },
    {
     "name": "stdout",
     "output_type": "stream",
     "text": [
      "..............................................................................................................................................................................................................................................................\n",
      "[\"Tweet ID 888202515573088257 failed: [{'code': 144, 'message': 'No status found with that ID.'}]\", \"Tweet ID 873697596434513921 failed: [{'code': 144, 'message': 'No status found with that ID.'}]\", \"Tweet ID 872668790621863937 failed: [{'code': 144, 'message': 'No status found with that ID.'}]\", \"Tweet ID 872261713294495745 failed: [{'code': 144, 'message': 'No status found with that ID.'}]\", \"Tweet ID 869988702071779329 failed: [{'code': 144, 'message': 'No status found with that ID.'}]\", \"Tweet ID 866816280283807744 failed: [{'code': 144, 'message': 'No status found with that ID.'}]\", \"Tweet ID 861769973181624320 failed: [{'code': 144, 'message': 'No status found with that ID.'}]\", \"Tweet ID 845459076796616705 failed: [{'code': 144, 'message': 'No status found with that ID.'}]\", \"Tweet ID 842892208864923648 failed: [{'code': 144, 'message': 'No status found with that ID.'}]\", \"Tweet ID 837012587749474308 failed: [{'code': 144, 'message': 'No status found with that ID.'}]\", \"Tweet ID 827228250799742977 failed: [{'code': 144, 'message': 'No status found with that ID.'}]\", \"Tweet ID 812747805718642688 failed: [{'code': 144, 'message': 'No status found with that ID.'}]\", \"Tweet ID 802247111496568832 failed: [{'code': 144, 'message': 'No status found with that ID.'}]\", \"Tweet ID 775096608509886464 failed: [{'code': 144, 'message': 'No status found with that ID.'}]\", \"Tweet ID 770743923962707968 failed: [{'code': 144, 'message': 'No status found with that ID.'}]\", \"Tweet ID 754011816964026368 failed: [{'code': 144, 'message': 'No status found with that ID.'}]\", \"Tweet ID 680055455951884288 failed: [{'code': 144, 'message': 'No status found with that ID.'}]\"]\n"
     ]
    }
   ],
   "source": [
    "from tweepy import TweepError\n",
    "tweets_file = os.path.join(DOWNLOADS_DIR, 'tweet_json.txt')\n",
    "failures = []\n",
    "if not os.path.exists(tweets_file):\n",
    "    api = twitter_api.get_api()\n",
    "    with open(tweets_file, 'w', encoding='utf-8') as file:  \n",
    "        for tweet_id in twitter_df['tweet_id'].to_list():\n",
    "            try:\n",
    "                raw_tweet = api.get_status(tweet_id, tweet_mode='extended')\n",
    "                file.write(json.dumps(raw_tweet._json))\n",
    "                file.write('\\n')\n",
    "                sys.stdout.write('.')\n",
    "            except TweepError as te:\n",
    "                sys.stdout.write('X')\n",
    "                failures.append(f'Tweet ID {tweet_id} failed: {te}')\n",
    "        sys.stdout.write('\\n')\n",
    "    print(failures)\n",
    "else:\n",
    "    print(f'The file {tweets_file} already exist. Nothing downloaded.')"
   ]
  },
  {
   "cell_type": "markdown",
   "metadata": {
    "pycharm": {}
   },
   "source": [
    "### Download Twitte Tweets output\n",
    "...................X...........................................................................X.....X..X.............X.............X......................X...........................................................................................X............X.....................................X...  \n",
    "Rate limit reached. Sleeping for: 397  \n",
    "................................................................................X...........................................................................................................................X...........................................................X.........................................................................................................................................................................................................................X.................................X.................................................................................................................X.............................................................................................................................................................................................................................................................................  \n",
    "Rate limit reached. Sleeping for: 647  \n",
    "............................................................................................................................................................................................................................................................................................................................................................................................................................................................................................................................................X.......................................................................................................................................................................................................................................................................................................................................................................................  \n",
    "Rate limit reached. Sleeping for: 651  \n",
    "..............................................................................................................................................................................................................................................................\n",
    "\n",
    "[\"Tweet ID 888202515573088257 failed: [{'code': 144, 'message': 'No status found with that ID.'}]\", \"Tweet ID 873697596434513921 failed: [{'code': 144, 'message': 'No status found with that ID.'}]\", \"Tweet ID 872668790621863937 failed: [{'code': 144, 'message': 'No status found with that ID.'}]\", \"Tweet ID 872261713294495745 failed: [{'code': 144, 'message': 'No status found with that ID.'}]\", \"Tweet ID 869988702071779329 failed: [{'code': 144, 'message': 'No status found with that ID.'}]\", \"Tweet ID 866816280283807744 failed: [{'code': 144, 'message': 'No status found with that ID.'}]\", \"Tweet ID 861769973181624320 failed: [{'code': 144, 'message': 'No status found with that ID.'}]\", \"Tweet ID 845459076796616705 failed: [{'code': 144, 'message': 'No status found with that ID.'}]\", \"Tweet ID 842892208864923648 failed: [{'code': 144, 'message': 'No status found with that ID.'}]\", \"Tweet ID 837012587749474308 failed: [{'code': 144, 'message': 'No status found with that ID.'}]\", \"Tweet ID 827228250799742977 failed: [{'code': 144, 'message': 'No status found with that ID.'}]\", \"Tweet ID 812747805718642688 failed: [{'code': 144, 'message': 'No status found with that ID.'}]\", \"Tweet ID 802247111496568832 failed: [{'code': 144, 'message': 'No status found with that ID.'}]\", \"Tweet ID 775096608509886464 failed: [{'code': 144, 'message': 'No status found with that ID.'}]\", \"Tweet ID 770743923962707968 failed: [{'code': 144, 'message': 'No status found with that ID.'}]\", \"Tweet ID 754011816964026368 failed: [{'code': 144, 'message': 'No status found with that ID.'}]\", \"Tweet ID 680055455951884288 failed: [{'code': 144, 'message': 'No status found with that ID.'}]\"]"
   ]
  },
  {
   "cell_type": "markdown",
   "metadata": {
    "pycharm": {}
   },
   "source": [
    "### Load Pandas DataFrames"
   ]
  },
  {
   "cell_type": "code",
   "execution_count": 3,
   "metadata": {
    "pycharm": {
     "is_executing": false
    }
   },
   "outputs": [],
   "source": [
    "twitter_df = pd.read_csv(os.path.join(DOWNLOADS_DIR, 'twitter_archive_enhanced.csv'))"
   ]
  },
  {
   "cell_type": "code",
   "execution_count": 4,
   "metadata": {
    "pycharm": {
     "is_executing": false
    }
   },
   "outputs": [],
   "source": [
    "tweet_df = pd.read_json(os.path.join(DOWNLOADS_DIR, 'tweet_json.txt'), lines=True)"
   ]
  },
  {
   "cell_type": "code",
   "execution_count": 5,
   "metadata": {
    "pycharm": {}
   },
   "outputs": [],
   "source": [
    "image_pred_df = pd.read_csv(os.path.join(DOWNLOADS_DIR, 'image_predictions.tsv'), sep='\\t')"
   ]
  },
  {
   "cell_type": "markdown",
   "metadata": {
    "pycharm": {}
   },
   "source": [
    "## Assess"
   ]
  },
  {
   "cell_type": "markdown",
   "metadata": {
    "pycharm": {}
   },
   "source": [
    "### Data file twitter-archive-enhanced.csv\n",
    "\n",
    "Problems identified in data set.\n",
    "\n",
    "* tweet_id - convert to string, identity and not used for calculations\n",
    "* timestamp - convert to datetime\n",
    "* in_reply_to_status_id - only 78 posts, consider dropping column\n",
    "* in_reply_to_user_id - only 78 posts, consider dropping column\n",
    "* rating_numerator - quality issue with outliers, max value of 1776 and quartile 3 of 12\n",
    "* rating_denominator - quality issue with outliers, max value of 170 and quartile 3 of 10\n",
    "* name - None as null value, not only names in columns\n",
    "\n",
    "Qualitative variables that could be stored in one column:\n",
    "* doggo - None as null value\n",
    "* floofer - None as null value\n",
    "* pupper - None as null value\n",
    "* puppo - None as null value\n"
   ]
  },
  {
   "cell_type": "code",
   "execution_count": 3,
   "metadata": {
    "pycharm": {
     "is_executing": false
    }
   },
   "outputs": [
    {
     "data": {
      "text/html": [
       "<div>\n",
       "<style scoped>\n",
       "    .dataframe tbody tr th:only-of-type {\n",
       "        vertical-align: middle;\n",
       "    }\n",
       "\n",
       "    .dataframe tbody tr th {\n",
       "        vertical-align: top;\n",
       "    }\n",
       "\n",
       "    .dataframe thead th {\n",
       "        text-align: right;\n",
       "    }\n",
       "</style>\n",
       "<table border=\"1\" class=\"dataframe\">\n",
       "  <thead>\n",
       "    <tr style=\"text-align: right;\">\n",
       "      <th></th>\n",
       "      <th>tweet_id</th>\n",
       "      <th>in_reply_to_status_id</th>\n",
       "      <th>in_reply_to_user_id</th>\n",
       "      <th>timestamp</th>\n",
       "      <th>source</th>\n",
       "      <th>text</th>\n",
       "      <th>retweeted_status_id</th>\n",
       "    </tr>\n",
       "  </thead>\n",
       "  <tbody>\n",
       "    <tr>\n",
       "      <th>0</th>\n",
       "      <td>892420643555336193</td>\n",
       "      <td>NaN</td>\n",
       "      <td>NaN</td>\n",
       "      <td>2017-08-01 16:23:56 +0000</td>\n",
       "      <td>&lt;a href=\"http://twitter.com/download/iphone\" r...</td>\n",
       "      <td>This is Phineas. He's a mystical boy. Only eve...</td>\n",
       "      <td>NaN</td>\n",
       "    </tr>\n",
       "    <tr>\n",
       "      <th>1</th>\n",
       "      <td>892177421306343426</td>\n",
       "      <td>NaN</td>\n",
       "      <td>NaN</td>\n",
       "      <td>2017-08-01 00:17:27 +0000</td>\n",
       "      <td>&lt;a href=\"http://twitter.com/download/iphone\" r...</td>\n",
       "      <td>This is Tilly. She's just checking pup on you....</td>\n",
       "      <td>NaN</td>\n",
       "    </tr>\n",
       "    <tr>\n",
       "      <th>2</th>\n",
       "      <td>891815181378084864</td>\n",
       "      <td>NaN</td>\n",
       "      <td>NaN</td>\n",
       "      <td>2017-07-31 00:18:03 +0000</td>\n",
       "      <td>&lt;a href=\"http://twitter.com/download/iphone\" r...</td>\n",
       "      <td>This is Archie. He is a rare Norwegian Pouncin...</td>\n",
       "      <td>NaN</td>\n",
       "    </tr>\n",
       "    <tr>\n",
       "      <th>3</th>\n",
       "      <td>891689557279858688</td>\n",
       "      <td>NaN</td>\n",
       "      <td>NaN</td>\n",
       "      <td>2017-07-30 15:58:51 +0000</td>\n",
       "      <td>&lt;a href=\"http://twitter.com/download/iphone\" r...</td>\n",
       "      <td>This is Darla. She commenced a snooze mid meal...</td>\n",
       "      <td>NaN</td>\n",
       "    </tr>\n",
       "    <tr>\n",
       "      <th>4</th>\n",
       "      <td>891327558926688256</td>\n",
       "      <td>NaN</td>\n",
       "      <td>NaN</td>\n",
       "      <td>2017-07-29 16:00:24 +0000</td>\n",
       "      <td>&lt;a href=\"http://twitter.com/download/iphone\" r...</td>\n",
       "      <td>This is Franklin. He would like you to stop ca...</td>\n",
       "      <td>NaN</td>\n",
       "    </tr>\n",
       "  </tbody>\n",
       "</table>\n",
       "</div>"
      ],
      "text/plain": [
       "             tweet_id  in_reply_to_status_id  in_reply_to_user_id  \\\n",
       "0  892420643555336193                    NaN                  NaN   \n",
       "1  892177421306343426                    NaN                  NaN   \n",
       "2  891815181378084864                    NaN                  NaN   \n",
       "3  891689557279858688                    NaN                  NaN   \n",
       "4  891327558926688256                    NaN                  NaN   \n",
       "\n",
       "                   timestamp  \\\n",
       "0  2017-08-01 16:23:56 +0000   \n",
       "1  2017-08-01 00:17:27 +0000   \n",
       "2  2017-07-31 00:18:03 +0000   \n",
       "3  2017-07-30 15:58:51 +0000   \n",
       "4  2017-07-29 16:00:24 +0000   \n",
       "\n",
       "                                              source  \\\n",
       "0  <a href=\"http://twitter.com/download/iphone\" r...   \n",
       "1  <a href=\"http://twitter.com/download/iphone\" r...   \n",
       "2  <a href=\"http://twitter.com/download/iphone\" r...   \n",
       "3  <a href=\"http://twitter.com/download/iphone\" r...   \n",
       "4  <a href=\"http://twitter.com/download/iphone\" r...   \n",
       "\n",
       "                                                text  retweeted_status_id  \n",
       "0  This is Phineas. He's a mystical boy. Only eve...                  NaN  \n",
       "1  This is Tilly. She's just checking pup on you....                  NaN  \n",
       "2  This is Archie. He is a rare Norwegian Pouncin...                  NaN  \n",
       "3  This is Darla. She commenced a snooze mid meal...                  NaN  \n",
       "4  This is Franklin. He would like you to stop ca...                  NaN  "
      ]
     },
     "execution_count": 3,
     "metadata": {},
     "output_type": "execute_result"
    }
   ],
   "source": [
    "twitter_df.iloc[:5, :7]"
   ]
  },
  {
   "cell_type": "code",
   "execution_count": 126,
   "metadata": {
    "pycharm": {}
   },
   "outputs": [
    {
     "data": {
      "text/html": [
       "<div>\n",
       "<style scoped>\n",
       "    .dataframe tbody tr th:only-of-type {\n",
       "        vertical-align: middle;\n",
       "    }\n",
       "\n",
       "    .dataframe tbody tr th {\n",
       "        vertical-align: top;\n",
       "    }\n",
       "\n",
       "    .dataframe thead th {\n",
       "        text-align: right;\n",
       "    }\n",
       "</style>\n",
       "<table border=\"1\" class=\"dataframe\">\n",
       "  <thead>\n",
       "    <tr style=\"text-align: right;\">\n",
       "      <th></th>\n",
       "      <th>retweeted_status_user_id</th>\n",
       "      <th>retweeted_status_timestamp</th>\n",
       "      <th>expanded_urls</th>\n",
       "      <th>rating_numerator</th>\n",
       "      <th>rating_denominator</th>\n",
       "      <th>name</th>\n",
       "      <th>doggo</th>\n",
       "      <th>floofer</th>\n",
       "      <th>pupper</th>\n",
       "      <th>puppo</th>\n",
       "    </tr>\n",
       "  </thead>\n",
       "  <tbody>\n",
       "    <tr>\n",
       "      <th>0</th>\n",
       "      <td>NaN</td>\n",
       "      <td>NaN</td>\n",
       "      <td>https://twitter.com/dog_rates/status/892420643...</td>\n",
       "      <td>13</td>\n",
       "      <td>10</td>\n",
       "      <td>Phineas</td>\n",
       "      <td>None</td>\n",
       "      <td>None</td>\n",
       "      <td>None</td>\n",
       "      <td>None</td>\n",
       "    </tr>\n",
       "    <tr>\n",
       "      <th>1</th>\n",
       "      <td>NaN</td>\n",
       "      <td>NaN</td>\n",
       "      <td>https://twitter.com/dog_rates/status/892177421...</td>\n",
       "      <td>13</td>\n",
       "      <td>10</td>\n",
       "      <td>Tilly</td>\n",
       "      <td>None</td>\n",
       "      <td>None</td>\n",
       "      <td>None</td>\n",
       "      <td>None</td>\n",
       "    </tr>\n",
       "    <tr>\n",
       "      <th>2</th>\n",
       "      <td>NaN</td>\n",
       "      <td>NaN</td>\n",
       "      <td>https://twitter.com/dog_rates/status/891815181...</td>\n",
       "      <td>12</td>\n",
       "      <td>10</td>\n",
       "      <td>Archie</td>\n",
       "      <td>None</td>\n",
       "      <td>None</td>\n",
       "      <td>None</td>\n",
       "      <td>None</td>\n",
       "    </tr>\n",
       "    <tr>\n",
       "      <th>3</th>\n",
       "      <td>NaN</td>\n",
       "      <td>NaN</td>\n",
       "      <td>https://twitter.com/dog_rates/status/891689557...</td>\n",
       "      <td>13</td>\n",
       "      <td>10</td>\n",
       "      <td>Darla</td>\n",
       "      <td>None</td>\n",
       "      <td>None</td>\n",
       "      <td>None</td>\n",
       "      <td>None</td>\n",
       "    </tr>\n",
       "    <tr>\n",
       "      <th>4</th>\n",
       "      <td>NaN</td>\n",
       "      <td>NaN</td>\n",
       "      <td>https://twitter.com/dog_rates/status/891327558...</td>\n",
       "      <td>12</td>\n",
       "      <td>10</td>\n",
       "      <td>Franklin</td>\n",
       "      <td>None</td>\n",
       "      <td>None</td>\n",
       "      <td>None</td>\n",
       "      <td>None</td>\n",
       "    </tr>\n",
       "  </tbody>\n",
       "</table>\n",
       "</div>"
      ],
      "text/plain": [
       "   retweeted_status_user_id retweeted_status_timestamp  \\\n",
       "0                       NaN                        NaN   \n",
       "1                       NaN                        NaN   \n",
       "2                       NaN                        NaN   \n",
       "3                       NaN                        NaN   \n",
       "4                       NaN                        NaN   \n",
       "\n",
       "                                       expanded_urls  rating_numerator  \\\n",
       "0  https://twitter.com/dog_rates/status/892420643...                13   \n",
       "1  https://twitter.com/dog_rates/status/892177421...                13   \n",
       "2  https://twitter.com/dog_rates/status/891815181...                12   \n",
       "3  https://twitter.com/dog_rates/status/891689557...                13   \n",
       "4  https://twitter.com/dog_rates/status/891327558...                12   \n",
       "\n",
       "   rating_denominator      name doggo floofer pupper puppo  \n",
       "0                  10   Phineas  None    None   None  None  \n",
       "1                  10     Tilly  None    None   None  None  \n",
       "2                  10    Archie  None    None   None  None  \n",
       "3                  10     Darla  None    None   None  None  \n",
       "4                  10  Franklin  None    None   None  None  "
      ]
     },
     "execution_count": 126,
     "metadata": {},
     "output_type": "execute_result"
    }
   ],
   "source": [
    "twitter_df.iloc[:5, 7:]"
   ]
  },
  {
   "cell_type": "code",
   "execution_count": 127,
   "metadata": {
    "pycharm": {}
   },
   "outputs": [
    {
     "name": "stdout",
     "output_type": "stream",
     "text": [
      "<class 'pandas.core.frame.DataFrame'>\n",
      "RangeIndex: 2356 entries, 0 to 2355\n",
      "Data columns (total 17 columns):\n",
      "tweet_id                      2356 non-null int64\n",
      "in_reply_to_status_id         78 non-null float64\n",
      "in_reply_to_user_id           78 non-null float64\n",
      "timestamp                     2356 non-null object\n",
      "source                        2356 non-null object\n",
      "text                          2356 non-null object\n",
      "retweeted_status_id           181 non-null float64\n",
      "retweeted_status_user_id      181 non-null float64\n",
      "retweeted_status_timestamp    181 non-null object\n",
      "expanded_urls                 2297 non-null object\n",
      "rating_numerator              2356 non-null int64\n",
      "rating_denominator            2356 non-null int64\n",
      "name                          2356 non-null object\n",
      "doggo                         2356 non-null object\n",
      "floofer                       2356 non-null object\n",
      "pupper                        2356 non-null object\n",
      "puppo                         2356 non-null object\n",
      "dtypes: float64(4), int64(3), object(10)\n",
      "memory usage: 313.0+ KB\n"
     ]
    }
   ],
   "source": [
    "twitter_df.info()"
   ]
  },
  {
   "cell_type": "code",
   "execution_count": 50,
   "metadata": {
    "pycharm": {}
   },
   "outputs": [
    {
     "data": {
      "text/html": [
       "<div>\n",
       "<style scoped>\n",
       "    .dataframe tbody tr th:only-of-type {\n",
       "        vertical-align: middle;\n",
       "    }\n",
       "\n",
       "    .dataframe tbody tr th {\n",
       "        vertical-align: top;\n",
       "    }\n",
       "\n",
       "    .dataframe thead th {\n",
       "        text-align: right;\n",
       "    }\n",
       "</style>\n",
       "<table border=\"1\" class=\"dataframe\">\n",
       "  <thead>\n",
       "    <tr style=\"text-align: right;\">\n",
       "      <th></th>\n",
       "      <th>in_reply_to_status_id</th>\n",
       "      <th>in_reply_to_user_id</th>\n",
       "      <th>retweeted_status_id</th>\n",
       "      <th>retweeted_status_user_id</th>\n",
       "      <th>rating_numerator</th>\n",
       "      <th>rating_denominator</th>\n",
       "    </tr>\n",
       "  </thead>\n",
       "  <tbody>\n",
       "    <tr>\n",
       "      <th>count</th>\n",
       "      <td>7.800000e+01</td>\n",
       "      <td>7.800000e+01</td>\n",
       "      <td>1.810000e+02</td>\n",
       "      <td>1.810000e+02</td>\n",
       "      <td>2356.000000</td>\n",
       "      <td>2356.000000</td>\n",
       "    </tr>\n",
       "    <tr>\n",
       "      <th>mean</th>\n",
       "      <td>7.455079e+17</td>\n",
       "      <td>2.014171e+16</td>\n",
       "      <td>7.720400e+17</td>\n",
       "      <td>1.241698e+16</td>\n",
       "      <td>13.126486</td>\n",
       "      <td>10.455433</td>\n",
       "    </tr>\n",
       "    <tr>\n",
       "      <th>std</th>\n",
       "      <td>7.582492e+16</td>\n",
       "      <td>1.252797e+17</td>\n",
       "      <td>6.236928e+16</td>\n",
       "      <td>9.599254e+16</td>\n",
       "      <td>45.876648</td>\n",
       "      <td>6.745237</td>\n",
       "    </tr>\n",
       "    <tr>\n",
       "      <th>min</th>\n",
       "      <td>6.658147e+17</td>\n",
       "      <td>1.185634e+07</td>\n",
       "      <td>6.661041e+17</td>\n",
       "      <td>7.832140e+05</td>\n",
       "      <td>0.000000</td>\n",
       "      <td>0.000000</td>\n",
       "    </tr>\n",
       "    <tr>\n",
       "      <th>25%</th>\n",
       "      <td>6.757419e+17</td>\n",
       "      <td>3.086374e+08</td>\n",
       "      <td>7.186315e+17</td>\n",
       "      <td>4.196984e+09</td>\n",
       "      <td>10.000000</td>\n",
       "      <td>10.000000</td>\n",
       "    </tr>\n",
       "    <tr>\n",
       "      <th>50%</th>\n",
       "      <td>7.038708e+17</td>\n",
       "      <td>4.196984e+09</td>\n",
       "      <td>7.804657e+17</td>\n",
       "      <td>4.196984e+09</td>\n",
       "      <td>11.000000</td>\n",
       "      <td>10.000000</td>\n",
       "    </tr>\n",
       "    <tr>\n",
       "      <th>75%</th>\n",
       "      <td>8.257804e+17</td>\n",
       "      <td>4.196984e+09</td>\n",
       "      <td>8.203146e+17</td>\n",
       "      <td>4.196984e+09</td>\n",
       "      <td>12.000000</td>\n",
       "      <td>10.000000</td>\n",
       "    </tr>\n",
       "    <tr>\n",
       "      <th>max</th>\n",
       "      <td>8.862664e+17</td>\n",
       "      <td>8.405479e+17</td>\n",
       "      <td>8.874740e+17</td>\n",
       "      <td>7.874618e+17</td>\n",
       "      <td>1776.000000</td>\n",
       "      <td>170.000000</td>\n",
       "    </tr>\n",
       "  </tbody>\n",
       "</table>\n",
       "</div>"
      ],
      "text/plain": [
       "       in_reply_to_status_id  in_reply_to_user_id  retweeted_status_id  \\\n",
       "count           7.800000e+01         7.800000e+01         1.810000e+02   \n",
       "mean            7.455079e+17         2.014171e+16         7.720400e+17   \n",
       "std             7.582492e+16         1.252797e+17         6.236928e+16   \n",
       "min             6.658147e+17         1.185634e+07         6.661041e+17   \n",
       "25%             6.757419e+17         3.086374e+08         7.186315e+17   \n",
       "50%             7.038708e+17         4.196984e+09         7.804657e+17   \n",
       "75%             8.257804e+17         4.196984e+09         8.203146e+17   \n",
       "max             8.862664e+17         8.405479e+17         8.874740e+17   \n",
       "\n",
       "       retweeted_status_user_id  rating_numerator  rating_denominator  \n",
       "count              1.810000e+02       2356.000000         2356.000000  \n",
       "mean               1.241698e+16         13.126486           10.455433  \n",
       "std                9.599254e+16         45.876648            6.745237  \n",
       "min                7.832140e+05          0.000000            0.000000  \n",
       "25%                4.196984e+09         10.000000           10.000000  \n",
       "50%                4.196984e+09         11.000000           10.000000  \n",
       "75%                4.196984e+09         12.000000           10.000000  \n",
       "max                7.874618e+17       1776.000000          170.000000  "
      ]
     },
     "execution_count": 50,
     "metadata": {},
     "output_type": "execute_result"
    }
   ],
   "source": [
    "twitter_df[['in_reply_to_status_id', 'in_reply_to_user_id', 'retweeted_status_id',\n",
    "            'retweeted_status_user_id', 'rating_numerator', 'rating_denominator']].describe()"
   ]
  },
  {
   "cell_type": "code",
   "execution_count": 8,
   "metadata": {
    "pycharm": {
     "is_executing": false
    }
   },
   "outputs": [
    {
     "data": {
      "text/plain": [
       "a               55\n",
       "the              8\n",
       "an               7\n",
       "very             5\n",
       "one              4\n",
       "just             4\n",
       "quite            4\n",
       "getting          2\n",
       "actually         2\n",
       "not              2\n",
       "mad              2\n",
       "this             1\n",
       "unacceptable     1\n",
       "space            1\n",
       "infuriating      1\n",
       "my               1\n",
       "his              1\n",
       "life             1\n",
       "old              1\n",
       "by               1\n",
       "light            1\n",
       "such             1\n",
       "all              1\n",
       "officially       1\n",
       "incredibly       1\n",
       "Name: name, dtype: int64"
      ]
     },
     "execution_count": 8,
     "metadata": {},
     "output_type": "execute_result"
    }
   ],
   "source": [
    "not_names = twitter_df[twitter_df['name'].str.match('^[a-z]')]['name']\n",
    "not_names.value_counts()"
   ]
  },
  {
   "cell_type": "code",
   "execution_count": 7,
   "metadata": {
    "pycharm": {}
   },
   "outputs": [
    {
     "name": "stdout",
     "output_type": "stream",
     "text": [
      "None     2259\n",
      "doggo      97\n",
      "Name: doggo, dtype: int64 \n",
      "\n",
      "None       2346\n",
      "floofer      10\n",
      "Name: floofer, dtype: int64 \n",
      "\n",
      "None      2099\n",
      "pupper     257\n",
      "Name: pupper, dtype: int64 \n",
      "\n",
      "None     2326\n",
      "puppo      30\n",
      "Name: puppo, dtype: int64 \n",
      "\n"
     ]
    }
   ],
   "source": [
    "print(twitter_df['doggo'].value_counts(), '\\n')\n",
    "print(twitter_df['floofer'].value_counts(), '\\n')\n",
    "print(twitter_df['pupper'].value_counts(), '\\n')\n",
    "print(twitter_df['puppo'].value_counts(), '\\n')"
   ]
  },
  {
   "cell_type": "code",
   "execution_count": 41,
   "metadata": {
    "pycharm": {
     "is_executing": false,
     "metadata": false,
     "name": "#%%\n"
    }
   },
   "outputs": [
    {
     "data": {
      "image/png": "[encoded data removed]",
      "text/plain": [
       "<Figure size 432x288 with 1 Axes>"
      ]
     },
     "metadata": {
      "needs_background": "light"
     },
     "output_type": "display_data"
    }
   ],
   "source": [
    "fig, ax = plt.subplots()\n",
    "ax.hist(twitter_df['rating_numerator'], color='#0C7BDC', histtype='step', log=True, label='Numerator')\n",
    "ax.hist(twitter_df['rating_denominator'], color='#FFC20A', histtype='stepfilled', log=True, label='Denominator')\n",
    "ax.set_xlabel('Rating')\n",
    "ax.set_ylabel('log frequency')\n",
    "ax.legend()\n",
    "fig.savefig(os.path.join(IMAGES_DIR, 'rating-histogram.jpg'))\n",
    "plt.show();"
   ]
  },
  {
   "cell_type": "markdown",
   "metadata": {
    "pycharm": {}
   },
   "source": [
    "### Data file tweet_json.txt \n",
    "\n",
    "Problems identified in data set.\n",
    "\n",
    "Drop column since all values are missing:\n",
    "* contributors\n",
    "* coordinates \n",
    "* geo\n",
    "* place - one row have value\n",
    "* possibly_sensitive - all rows have zero (0)\n",
    "* possibly_sensitive_appealable - all rows have zero (0)\n",
    "\n",
    "* id - convert to string, identity\n",
    "* source - categorical values can be extracted N{iphone, android}\n"
   ]
  },
  {
   "cell_type": "code",
   "execution_count": 4,
   "metadata": {
    "pycharm": {
     "is_executing": false
    }
   },
   "outputs": [
    {
     "data": {
      "text/html": [
       "<div>\n",
       "<style scoped>\n",
       "    .dataframe tbody tr th:only-of-type {\n",
       "        vertical-align: middle;\n",
       "    }\n",
       "\n",
       "    .dataframe tbody tr th {\n",
       "        vertical-align: top;\n",
       "    }\n",
       "\n",
       "    .dataframe thead th {\n",
       "        text-align: right;\n",
       "    }\n",
       "</style>\n",
       "<table border=\"1\" class=\"dataframe\">\n",
       "  <thead>\n",
       "    <tr style=\"text-align: right;\">\n",
       "      <th></th>\n",
       "      <th>contributors</th>\n",
       "      <th>coordinates</th>\n",
       "      <th>created_at</th>\n",
       "      <th>display_text_range</th>\n",
       "      <th>entities</th>\n",
       "      <th>extended_entities</th>\n",
       "      <th>favorite_count</th>\n",
       "      <th>favorited</th>\n",
       "    </tr>\n",
       "  </thead>\n",
       "  <tbody>\n",
       "    <tr>\n",
       "      <th>0</th>\n",
       "      <td>NaN</td>\n",
       "      <td>NaN</td>\n",
       "      <td>2017-08-01 16:23:56</td>\n",
       "      <td>[0, 85]</td>\n",
       "      <td>{'hashtags': [], 'symbols': [], 'user_mentions...</td>\n",
       "      <td>{'media': [{'id': 892420639486877696, 'id_str'...</td>\n",
       "      <td>37786</td>\n",
       "      <td>False</td>\n",
       "    </tr>\n",
       "    <tr>\n",
       "      <th>1</th>\n",
       "      <td>NaN</td>\n",
       "      <td>NaN</td>\n",
       "      <td>2017-08-01 00:17:27</td>\n",
       "      <td>[0, 138]</td>\n",
       "      <td>{'hashtags': [], 'symbols': [], 'user_mentions...</td>\n",
       "      <td>{'media': [{'id': 892177413194625024, 'id_str'...</td>\n",
       "      <td>32465</td>\n",
       "      <td>False</td>\n",
       "    </tr>\n",
       "    <tr>\n",
       "      <th>2</th>\n",
       "      <td>NaN</td>\n",
       "      <td>NaN</td>\n",
       "      <td>2017-07-31 00:18:03</td>\n",
       "      <td>[0, 121]</td>\n",
       "      <td>{'hashtags': [], 'symbols': [], 'user_mentions...</td>\n",
       "      <td>{'media': [{'id': 891815175371796480, 'id_str'...</td>\n",
       "      <td>24439</td>\n",
       "      <td>False</td>\n",
       "    </tr>\n",
       "    <tr>\n",
       "      <th>3</th>\n",
       "      <td>NaN</td>\n",
       "      <td>NaN</td>\n",
       "      <td>2017-07-30 15:58:51</td>\n",
       "      <td>[0, 79]</td>\n",
       "      <td>{'hashtags': [], 'symbols': [], 'user_mentions...</td>\n",
       "      <td>{'media': [{'id': 891689552724799489, 'id_str'...</td>\n",
       "      <td>41115</td>\n",
       "      <td>False</td>\n",
       "    </tr>\n",
       "    <tr>\n",
       "      <th>4</th>\n",
       "      <td>NaN</td>\n",
       "      <td>NaN</td>\n",
       "      <td>2017-07-29 16:00:24</td>\n",
       "      <td>[0, 138]</td>\n",
       "      <td>{'hashtags': [{'text': 'BarkWeek', 'indices': ...</td>\n",
       "      <td>{'media': [{'id': 891327551943041024, 'id_str'...</td>\n",
       "      <td>39330</td>\n",
       "      <td>False</td>\n",
       "    </tr>\n",
       "  </tbody>\n",
       "</table>\n",
       "</div>"
      ],
      "text/plain": [
       "   contributors  coordinates          created_at display_text_range  \\\n",
       "0           NaN          NaN 2017-08-01 16:23:56            [0, 85]   \n",
       "1           NaN          NaN 2017-08-01 00:17:27           [0, 138]   \n",
       "2           NaN          NaN 2017-07-31 00:18:03           [0, 121]   \n",
       "3           NaN          NaN 2017-07-30 15:58:51            [0, 79]   \n",
       "4           NaN          NaN 2017-07-29 16:00:24           [0, 138]   \n",
       "\n",
       "                                            entities  \\\n",
       "0  {'hashtags': [], 'symbols': [], 'user_mentions...   \n",
       "1  {'hashtags': [], 'symbols': [], 'user_mentions...   \n",
       "2  {'hashtags': [], 'symbols': [], 'user_mentions...   \n",
       "3  {'hashtags': [], 'symbols': [], 'user_mentions...   \n",
       "4  {'hashtags': [{'text': 'BarkWeek', 'indices': ...   \n",
       "\n",
       "                                   extended_entities  favorite_count  \\\n",
       "0  {'media': [{'id': 892420639486877696, 'id_str'...           37786   \n",
       "1  {'media': [{'id': 892177413194625024, 'id_str'...           32465   \n",
       "2  {'media': [{'id': 891815175371796480, 'id_str'...           24439   \n",
       "3  {'media': [{'id': 891689552724799489, 'id_str'...           41115   \n",
       "4  {'media': [{'id': 891327551943041024, 'id_str'...           39330   \n",
       "\n",
       "   favorited  \n",
       "0      False  \n",
       "1      False  \n",
       "2      False  \n",
       "3      False  \n",
       "4      False  "
      ]
     },
     "execution_count": 4,
     "metadata": {},
     "output_type": "execute_result"
    }
   ],
   "source": [
    "tweet_df.iloc[:5,:8]"
   ]
  },
  {
   "cell_type": "code",
   "execution_count": 172,
   "metadata": {
    "pycharm": {}
   },
   "outputs": [
    {
     "data": {
      "text/html": [
       "<div>\n",
       "<style scoped>\n",
       "    .dataframe tbody tr th:only-of-type {\n",
       "        vertical-align: middle;\n",
       "    }\n",
       "\n",
       "    .dataframe tbody tr th {\n",
       "        vertical-align: top;\n",
       "    }\n",
       "\n",
       "    .dataframe thead th {\n",
       "        text-align: right;\n",
       "    }\n",
       "</style>\n",
       "<table border=\"1\" class=\"dataframe\">\n",
       "  <thead>\n",
       "    <tr style=\"text-align: right;\">\n",
       "      <th></th>\n",
       "      <th>full_text</th>\n",
       "      <th>geo</th>\n",
       "      <th>id</th>\n",
       "      <th>id_str</th>\n",
       "      <th>in_reply_to_screen_name</th>\n",
       "      <th>in_reply_to_status_id</th>\n",
       "      <th>in_reply_to_status_id_str</th>\n",
       "      <th>in_reply_to_user_id</th>\n",
       "    </tr>\n",
       "  </thead>\n",
       "  <tbody>\n",
       "    <tr>\n",
       "      <th>0</th>\n",
       "      <td>This is Phineas. He's a mystical boy. Only eve...</td>\n",
       "      <td>NaN</td>\n",
       "      <td>892420643555336193</td>\n",
       "      <td>892420643555336192</td>\n",
       "      <td>None</td>\n",
       "      <td>NaN</td>\n",
       "      <td>NaN</td>\n",
       "      <td>NaN</td>\n",
       "    </tr>\n",
       "    <tr>\n",
       "      <th>1</th>\n",
       "      <td>This is Tilly. She's just checking pup on you....</td>\n",
       "      <td>NaN</td>\n",
       "      <td>892177421306343426</td>\n",
       "      <td>892177421306343424</td>\n",
       "      <td>None</td>\n",
       "      <td>NaN</td>\n",
       "      <td>NaN</td>\n",
       "      <td>NaN</td>\n",
       "    </tr>\n",
       "    <tr>\n",
       "      <th>2</th>\n",
       "      <td>This is Archie. He is a rare Norwegian Pouncin...</td>\n",
       "      <td>NaN</td>\n",
       "      <td>891815181378084864</td>\n",
       "      <td>891815181378084864</td>\n",
       "      <td>None</td>\n",
       "      <td>NaN</td>\n",
       "      <td>NaN</td>\n",
       "      <td>NaN</td>\n",
       "    </tr>\n",
       "    <tr>\n",
       "      <th>3</th>\n",
       "      <td>This is Darla. She commenced a snooze mid meal...</td>\n",
       "      <td>NaN</td>\n",
       "      <td>891689557279858688</td>\n",
       "      <td>891689557279858688</td>\n",
       "      <td>None</td>\n",
       "      <td>NaN</td>\n",
       "      <td>NaN</td>\n",
       "      <td>NaN</td>\n",
       "    </tr>\n",
       "    <tr>\n",
       "      <th>4</th>\n",
       "      <td>This is Franklin. He would like you to stop ca...</td>\n",
       "      <td>NaN</td>\n",
       "      <td>891327558926688256</td>\n",
       "      <td>891327558926688256</td>\n",
       "      <td>None</td>\n",
       "      <td>NaN</td>\n",
       "      <td>NaN</td>\n",
       "      <td>NaN</td>\n",
       "    </tr>\n",
       "  </tbody>\n",
       "</table>\n",
       "</div>"
      ],
      "text/plain": [
       "                                           full_text  geo                  id  \\\n",
       "0  This is Phineas. He's a mystical boy. Only eve...  NaN  892420643555336193   \n",
       "1  This is Tilly. She's just checking pup on you....  NaN  892177421306343426   \n",
       "2  This is Archie. He is a rare Norwegian Pouncin...  NaN  891815181378084864   \n",
       "3  This is Darla. She commenced a snooze mid meal...  NaN  891689557279858688   \n",
       "4  This is Franklin. He would like you to stop ca...  NaN  891327558926688256   \n",
       "\n",
       "               id_str in_reply_to_screen_name  in_reply_to_status_id  \\\n",
       "0  892420643555336192                    None                    NaN   \n",
       "1  892177421306343424                    None                    NaN   \n",
       "2  891815181378084864                    None                    NaN   \n",
       "3  891689557279858688                    None                    NaN   \n",
       "4  891327558926688256                    None                    NaN   \n",
       "\n",
       "   in_reply_to_status_id_str  in_reply_to_user_id  \n",
       "0                        NaN                  NaN  \n",
       "1                        NaN                  NaN  \n",
       "2                        NaN                  NaN  \n",
       "3                        NaN                  NaN  \n",
       "4                        NaN                  NaN  "
      ]
     },
     "execution_count": 172,
     "metadata": {},
     "output_type": "execute_result"
    }
   ],
   "source": [
    "tweet_df.iloc[:5,8:16]"
   ]
  },
  {
   "cell_type": "code",
   "execution_count": 173,
   "metadata": {
    "pycharm": {}
   },
   "outputs": [
    {
     "data": {
      "text/html": [
       "<div>\n",
       "<style scoped>\n",
       "    .dataframe tbody tr th:only-of-type {\n",
       "        vertical-align: middle;\n",
       "    }\n",
       "\n",
       "    .dataframe tbody tr th {\n",
       "        vertical-align: top;\n",
       "    }\n",
       "\n",
       "    .dataframe thead th {\n",
       "        text-align: right;\n",
       "    }\n",
       "</style>\n",
       "<table border=\"1\" class=\"dataframe\">\n",
       "  <thead>\n",
       "    <tr style=\"text-align: right;\">\n",
       "      <th></th>\n",
       "      <th>in_reply_to_user_id_str</th>\n",
       "      <th>is_quote_status</th>\n",
       "      <th>lang</th>\n",
       "      <th>place</th>\n",
       "      <th>possibly_sensitive</th>\n",
       "      <th>possibly_sensitive_appealable</th>\n",
       "      <th>quoted_status</th>\n",
       "      <th>quoted_status_id</th>\n",
       "    </tr>\n",
       "  </thead>\n",
       "  <tbody>\n",
       "    <tr>\n",
       "      <th>0</th>\n",
       "      <td>NaN</td>\n",
       "      <td>False</td>\n",
       "      <td>en</td>\n",
       "      <td>None</td>\n",
       "      <td>0.0</td>\n",
       "      <td>0.0</td>\n",
       "      <td>NaN</td>\n",
       "      <td>NaN</td>\n",
       "    </tr>\n",
       "    <tr>\n",
       "      <th>1</th>\n",
       "      <td>NaN</td>\n",
       "      <td>False</td>\n",
       "      <td>en</td>\n",
       "      <td>None</td>\n",
       "      <td>0.0</td>\n",
       "      <td>0.0</td>\n",
       "      <td>NaN</td>\n",
       "      <td>NaN</td>\n",
       "    </tr>\n",
       "    <tr>\n",
       "      <th>2</th>\n",
       "      <td>NaN</td>\n",
       "      <td>False</td>\n",
       "      <td>en</td>\n",
       "      <td>None</td>\n",
       "      <td>0.0</td>\n",
       "      <td>0.0</td>\n",
       "      <td>NaN</td>\n",
       "      <td>NaN</td>\n",
       "    </tr>\n",
       "    <tr>\n",
       "      <th>3</th>\n",
       "      <td>NaN</td>\n",
       "      <td>False</td>\n",
       "      <td>en</td>\n",
       "      <td>None</td>\n",
       "      <td>0.0</td>\n",
       "      <td>0.0</td>\n",
       "      <td>NaN</td>\n",
       "      <td>NaN</td>\n",
       "    </tr>\n",
       "    <tr>\n",
       "      <th>4</th>\n",
       "      <td>NaN</td>\n",
       "      <td>False</td>\n",
       "      <td>en</td>\n",
       "      <td>None</td>\n",
       "      <td>0.0</td>\n",
       "      <td>0.0</td>\n",
       "      <td>NaN</td>\n",
       "      <td>NaN</td>\n",
       "    </tr>\n",
       "  </tbody>\n",
       "</table>\n",
       "</div>"
      ],
      "text/plain": [
       "   in_reply_to_user_id_str  is_quote_status lang place  possibly_sensitive  \\\n",
       "0                      NaN            False   en  None                 0.0   \n",
       "1                      NaN            False   en  None                 0.0   \n",
       "2                      NaN            False   en  None                 0.0   \n",
       "3                      NaN            False   en  None                 0.0   \n",
       "4                      NaN            False   en  None                 0.0   \n",
       "\n",
       "   possibly_sensitive_appealable quoted_status  quoted_status_id  \n",
       "0                            0.0           NaN               NaN  \n",
       "1                            0.0           NaN               NaN  \n",
       "2                            0.0           NaN               NaN  \n",
       "3                            0.0           NaN               NaN  \n",
       "4                            0.0           NaN               NaN  "
      ]
     },
     "execution_count": 173,
     "metadata": {},
     "output_type": "execute_result"
    }
   ],
   "source": [
    "tweet_df.iloc[:5,16:24]"
   ]
  },
  {
   "cell_type": "code",
   "execution_count": 174,
   "metadata": {
    "pycharm": {}
   },
   "outputs": [
    {
     "data": {
      "text/html": [
       "<div>\n",
       "<style scoped>\n",
       "    .dataframe tbody tr th:only-of-type {\n",
       "        vertical-align: middle;\n",
       "    }\n",
       "\n",
       "    .dataframe tbody tr th {\n",
       "        vertical-align: top;\n",
       "    }\n",
       "\n",
       "    .dataframe thead th {\n",
       "        text-align: right;\n",
       "    }\n",
       "</style>\n",
       "<table border=\"1\" class=\"dataframe\">\n",
       "  <thead>\n",
       "    <tr style=\"text-align: right;\">\n",
       "      <th></th>\n",
       "      <th>quoted_status_id_str</th>\n",
       "      <th>quoted_status_permalink</th>\n",
       "      <th>retweet_count</th>\n",
       "      <th>retweeted</th>\n",
       "      <th>retweeted_status</th>\n",
       "      <th>source</th>\n",
       "      <th>truncated</th>\n",
       "      <th>user</th>\n",
       "    </tr>\n",
       "  </thead>\n",
       "  <tbody>\n",
       "    <tr>\n",
       "      <th>0</th>\n",
       "      <td>NaN</td>\n",
       "      <td>NaN</td>\n",
       "      <td>8236</td>\n",
       "      <td>False</td>\n",
       "      <td>NaN</td>\n",
       "      <td>&lt;a href=\"http://twitter.com/download/iphone\" r...</td>\n",
       "      <td>False</td>\n",
       "      <td>{'id': 4196983835, 'id_str': '4196983835', 'na...</td>\n",
       "    </tr>\n",
       "    <tr>\n",
       "      <th>1</th>\n",
       "      <td>NaN</td>\n",
       "      <td>NaN</td>\n",
       "      <td>6087</td>\n",
       "      <td>False</td>\n",
       "      <td>NaN</td>\n",
       "      <td>&lt;a href=\"http://twitter.com/download/iphone\" r...</td>\n",
       "      <td>False</td>\n",
       "      <td>{'id': 4196983835, 'id_str': '4196983835', 'na...</td>\n",
       "    </tr>\n",
       "    <tr>\n",
       "      <th>2</th>\n",
       "      <td>NaN</td>\n",
       "      <td>NaN</td>\n",
       "      <td>4028</td>\n",
       "      <td>False</td>\n",
       "      <td>NaN</td>\n",
       "      <td>&lt;a href=\"http://twitter.com/download/iphone\" r...</td>\n",
       "      <td>False</td>\n",
       "      <td>{'id': 4196983835, 'id_str': '4196983835', 'na...</td>\n",
       "    </tr>\n",
       "    <tr>\n",
       "      <th>3</th>\n",
       "      <td>NaN</td>\n",
       "      <td>NaN</td>\n",
       "      <td>8393</td>\n",
       "      <td>False</td>\n",
       "      <td>NaN</td>\n",
       "      <td>&lt;a href=\"http://twitter.com/download/iphone\" r...</td>\n",
       "      <td>False</td>\n",
       "      <td>{'id': 4196983835, 'id_str': '4196983835', 'na...</td>\n",
       "    </tr>\n",
       "    <tr>\n",
       "      <th>4</th>\n",
       "      <td>NaN</td>\n",
       "      <td>NaN</td>\n",
       "      <td>9090</td>\n",
       "      <td>False</td>\n",
       "      <td>NaN</td>\n",
       "      <td>&lt;a href=\"http://twitter.com/download/iphone\" r...</td>\n",
       "      <td>False</td>\n",
       "      <td>{'id': 4196983835, 'id_str': '4196983835', 'na...</td>\n",
       "    </tr>\n",
       "  </tbody>\n",
       "</table>\n",
       "</div>"
      ],
      "text/plain": [
       "   quoted_status_id_str quoted_status_permalink  retweet_count  retweeted  \\\n",
       "0                   NaN                     NaN           8236      False   \n",
       "1                   NaN                     NaN           6087      False   \n",
       "2                   NaN                     NaN           4028      False   \n",
       "3                   NaN                     NaN           8393      False   \n",
       "4                   NaN                     NaN           9090      False   \n",
       "\n",
       "  retweeted_status                                             source  \\\n",
       "0              NaN  <a href=\"http://twitter.com/download/iphone\" r...   \n",
       "1              NaN  <a href=\"http://twitter.com/download/iphone\" r...   \n",
       "2              NaN  <a href=\"http://twitter.com/download/iphone\" r...   \n",
       "3              NaN  <a href=\"http://twitter.com/download/iphone\" r...   \n",
       "4              NaN  <a href=\"http://twitter.com/download/iphone\" r...   \n",
       "\n",
       "   truncated                                               user  \n",
       "0      False  {'id': 4196983835, 'id_str': '4196983835', 'na...  \n",
       "1      False  {'id': 4196983835, 'id_str': '4196983835', 'na...  \n",
       "2      False  {'id': 4196983835, 'id_str': '4196983835', 'na...  \n",
       "3      False  {'id': 4196983835, 'id_str': '4196983835', 'na...  \n",
       "4      False  {'id': 4196983835, 'id_str': '4196983835', 'na...  "
      ]
     },
     "execution_count": 174,
     "metadata": {},
     "output_type": "execute_result"
    }
   ],
   "source": [
    "tweet_df.iloc[:5,24:]"
   ]
  },
  {
   "cell_type": "code",
   "execution_count": 9,
   "metadata": {
    "pycharm": {}
   },
   "outputs": [
    {
     "name": "stdout",
     "output_type": "stream",
     "text": [
      "<class 'pandas.core.frame.DataFrame'>\n",
      "RangeIndex: 2339 entries, 0 to 2338\n",
      "Data columns (total 32 columns):\n",
      "contributors                     0 non-null float64\n",
      "coordinates                      0 non-null float64\n",
      "created_at                       2339 non-null datetime64[ns]\n",
      "display_text_range               2339 non-null object\n",
      "entities                         2339 non-null object\n",
      "extended_entities                2065 non-null object\n",
      "favorite_count                   2339 non-null int64\n",
      "favorited                        2339 non-null bool\n",
      "full_text                        2339 non-null object\n",
      "geo                              0 non-null float64\n",
      "id                               2339 non-null int64\n",
      "id_str                           2339 non-null int64\n",
      "in_reply_to_screen_name          77 non-null object\n",
      "in_reply_to_status_id            77 non-null float64\n",
      "in_reply_to_status_id_str        77 non-null float64\n",
      "in_reply_to_user_id              77 non-null float64\n",
      "in_reply_to_user_id_str          77 non-null float64\n",
      "is_quote_status                  2339 non-null bool\n",
      "lang                             2339 non-null object\n",
      "place                            1 non-null object\n",
      "possibly_sensitive               2203 non-null float64\n",
      "possibly_sensitive_appealable    2203 non-null float64\n",
      "quoted_status                    24 non-null object\n",
      "quoted_status_id                 26 non-null float64\n",
      "quoted_status_id_str             26 non-null float64\n",
      "quoted_status_permalink          26 non-null object\n",
      "retweet_count                    2339 non-null int64\n",
      "retweeted                        2339 non-null bool\n",
      "retweeted_status                 167 non-null object\n",
      "source                           2339 non-null object\n",
      "truncated                        2339 non-null bool\n",
      "user                             2339 non-null object\n",
      "dtypes: bool(4), datetime64[ns](1), float64(11), int64(4), object(12)\n",
      "memory usage: 520.9+ KB\n"
     ]
    }
   ],
   "source": [
    "tweet_df.info()"
   ]
  },
  {
   "cell_type": "code",
   "execution_count": 7,
   "metadata": {
    "pycharm": {}
   },
   "outputs": [
    {
     "data": {
      "text/html": [
       "<div>\n",
       "<style scoped>\n",
       "    .dataframe tbody tr th:only-of-type {\n",
       "        vertical-align: middle;\n",
       "    }\n",
       "\n",
       "    .dataframe tbody tr th {\n",
       "        vertical-align: top;\n",
       "    }\n",
       "\n",
       "    .dataframe thead th {\n",
       "        text-align: right;\n",
       "    }\n",
       "</style>\n",
       "<table border=\"1\" class=\"dataframe\">\n",
       "  <thead>\n",
       "    <tr style=\"text-align: right;\">\n",
       "      <th></th>\n",
       "      <th>contributors</th>\n",
       "      <th>coordinates</th>\n",
       "      <th>favorite_count</th>\n",
       "      <th>geo</th>\n",
       "      <th>id</th>\n",
       "      <th>id_str</th>\n",
       "      <th>in_reply_to_status_id</th>\n",
       "      <th>in_reply_to_status_id_str</th>\n",
       "      <th>in_reply_to_user_id</th>\n",
       "      <th>in_reply_to_user_id_str</th>\n",
       "      <th>possibly_sensitive</th>\n",
       "      <th>possibly_sensitive_appealable</th>\n",
       "      <th>quoted_status_id</th>\n",
       "      <th>quoted_status_id_str</th>\n",
       "      <th>retweet_count</th>\n",
       "    </tr>\n",
       "  </thead>\n",
       "  <tbody>\n",
       "    <tr>\n",
       "      <th>count</th>\n",
       "      <td>0.0</td>\n",
       "      <td>0.0</td>\n",
       "      <td>2339.000000</td>\n",
       "      <td>0.0</td>\n",
       "      <td>2.339000e+03</td>\n",
       "      <td>2.339000e+03</td>\n",
       "      <td>7.700000e+01</td>\n",
       "      <td>7.700000e+01</td>\n",
       "      <td>7.700000e+01</td>\n",
       "      <td>7.700000e+01</td>\n",
       "      <td>2203.0</td>\n",
       "      <td>2203.0</td>\n",
       "      <td>2.600000e+01</td>\n",
       "      <td>2.600000e+01</td>\n",
       "      <td>2339.000000</td>\n",
       "    </tr>\n",
       "    <tr>\n",
       "      <th>mean</th>\n",
       "      <td>NaN</td>\n",
       "      <td>NaN</td>\n",
       "      <td>7900.328345</td>\n",
       "      <td>NaN</td>\n",
       "      <td>7.421620e+17</td>\n",
       "      <td>7.421620e+17</td>\n",
       "      <td>7.440692e+17</td>\n",
       "      <td>7.440692e+17</td>\n",
       "      <td>2.040329e+16</td>\n",
       "      <td>2.040329e+16</td>\n",
       "      <td>0.0</td>\n",
       "      <td>0.0</td>\n",
       "      <td>8.113972e+17</td>\n",
       "      <td>8.113972e+17</td>\n",
       "      <td>2903.433091</td>\n",
       "    </tr>\n",
       "    <tr>\n",
       "      <th>std</th>\n",
       "      <td>NaN</td>\n",
       "      <td>NaN</td>\n",
       "      <td>12245.660513</td>\n",
       "      <td>NaN</td>\n",
       "      <td>6.828729e+16</td>\n",
       "      <td>6.828729e+16</td>\n",
       "      <td>7.524295e+16</td>\n",
       "      <td>7.524295e+16</td>\n",
       "      <td>1.260797e+17</td>\n",
       "      <td>1.260797e+17</td>\n",
       "      <td>0.0</td>\n",
       "      <td>0.0</td>\n",
       "      <td>6.295843e+16</td>\n",
       "      <td>6.295843e+16</td>\n",
       "      <td>4895.523842</td>\n",
       "    </tr>\n",
       "    <tr>\n",
       "      <th>min</th>\n",
       "      <td>NaN</td>\n",
       "      <td>NaN</td>\n",
       "      <td>0.000000</td>\n",
       "      <td>NaN</td>\n",
       "      <td>6.660209e+17</td>\n",
       "      <td>6.660209e+17</td>\n",
       "      <td>6.658147e+17</td>\n",
       "      <td>6.658147e+17</td>\n",
       "      <td>1.185634e+07</td>\n",
       "      <td>1.185634e+07</td>\n",
       "      <td>0.0</td>\n",
       "      <td>0.0</td>\n",
       "      <td>6.721083e+17</td>\n",
       "      <td>6.721083e+17</td>\n",
       "      <td>0.000000</td>\n",
       "    </tr>\n",
       "    <tr>\n",
       "      <th>25%</th>\n",
       "      <td>NaN</td>\n",
       "      <td>NaN</td>\n",
       "      <td>1368.000000</td>\n",
       "      <td>NaN</td>\n",
       "      <td>6.783378e+17</td>\n",
       "      <td>6.783378e+17</td>\n",
       "      <td>6.757073e+17</td>\n",
       "      <td>6.757073e+17</td>\n",
       "      <td>3.589728e+08</td>\n",
       "      <td>3.589728e+08</td>\n",
       "      <td>0.0</td>\n",
       "      <td>0.0</td>\n",
       "      <td>7.761338e+17</td>\n",
       "      <td>7.761338e+17</td>\n",
       "      <td>583.500000</td>\n",
       "    </tr>\n",
       "    <tr>\n",
       "      <th>50%</th>\n",
       "      <td>NaN</td>\n",
       "      <td>NaN</td>\n",
       "      <td>3438.000000</td>\n",
       "      <td>NaN</td>\n",
       "      <td>7.186133e+17</td>\n",
       "      <td>7.186133e+17</td>\n",
       "      <td>7.032559e+17</td>\n",
       "      <td>7.032559e+17</td>\n",
       "      <td>4.196984e+09</td>\n",
       "      <td>4.196984e+09</td>\n",
       "      <td>0.0</td>\n",
       "      <td>0.0</td>\n",
       "      <td>8.281173e+17</td>\n",
       "      <td>8.281173e+17</td>\n",
       "      <td>1354.000000</td>\n",
       "    </tr>\n",
       "    <tr>\n",
       "      <th>75%</th>\n",
       "      <td>NaN</td>\n",
       "      <td>NaN</td>\n",
       "      <td>9679.500000</td>\n",
       "      <td>NaN</td>\n",
       "      <td>7.986907e+17</td>\n",
       "      <td>7.986907e+17</td>\n",
       "      <td>8.233264e+17</td>\n",
       "      <td>8.233264e+17</td>\n",
       "      <td>4.196984e+09</td>\n",
       "      <td>4.196984e+09</td>\n",
       "      <td>0.0</td>\n",
       "      <td>0.0</td>\n",
       "      <td>8.637581e+17</td>\n",
       "      <td>8.637581e+17</td>\n",
       "      <td>3383.500000</td>\n",
       "    </tr>\n",
       "    <tr>\n",
       "      <th>max</th>\n",
       "      <td>NaN</td>\n",
       "      <td>NaN</td>\n",
       "      <td>163180.000000</td>\n",
       "      <td>NaN</td>\n",
       "      <td>8.924206e+17</td>\n",
       "      <td>8.924206e+17</td>\n",
       "      <td>8.862664e+17</td>\n",
       "      <td>8.862664e+17</td>\n",
       "      <td>8.405479e+17</td>\n",
       "      <td>8.405479e+17</td>\n",
       "      <td>0.0</td>\n",
       "      <td>0.0</td>\n",
       "      <td>8.860534e+17</td>\n",
       "      <td>8.860534e+17</td>\n",
       "      <td>82974.000000</td>\n",
       "    </tr>\n",
       "  </tbody>\n",
       "</table>\n",
       "</div>"
      ],
      "text/plain": [
       "       contributors  coordinates  favorite_count  geo            id  \\\n",
       "count           0.0          0.0     2339.000000  0.0  2.339000e+03   \n",
       "mean            NaN          NaN     7900.328345  NaN  7.421620e+17   \n",
       "std             NaN          NaN    12245.660513  NaN  6.828729e+16   \n",
       "min             NaN          NaN        0.000000  NaN  6.660209e+17   \n",
       "25%             NaN          NaN     1368.000000  NaN  6.783378e+17   \n",
       "50%             NaN          NaN     3438.000000  NaN  7.186133e+17   \n",
       "75%             NaN          NaN     9679.500000  NaN  7.986907e+17   \n",
       "max             NaN          NaN   163180.000000  NaN  8.924206e+17   \n",
       "\n",
       "             id_str  in_reply_to_status_id  in_reply_to_status_id_str  \\\n",
       "count  2.339000e+03           7.700000e+01               7.700000e+01   \n",
       "mean   7.421620e+17           7.440692e+17               7.440692e+17   \n",
       "std    6.828729e+16           7.524295e+16               7.524295e+16   \n",
       "min    6.660209e+17           6.658147e+17               6.658147e+17   \n",
       "25%    6.783378e+17           6.757073e+17               6.757073e+17   \n",
       "50%    7.186133e+17           7.032559e+17               7.032559e+17   \n",
       "75%    7.986907e+17           8.233264e+17               8.233264e+17   \n",
       "max    8.924206e+17           8.862664e+17               8.862664e+17   \n",
       "\n",
       "       in_reply_to_user_id  in_reply_to_user_id_str  possibly_sensitive  \\\n",
       "count         7.700000e+01             7.700000e+01              2203.0   \n",
       "mean          2.040329e+16             2.040329e+16                 0.0   \n",
       "std           1.260797e+17             1.260797e+17                 0.0   \n",
       "min           1.185634e+07             1.185634e+07                 0.0   \n",
       "25%           3.589728e+08             3.589728e+08                 0.0   \n",
       "50%           4.196984e+09             4.196984e+09                 0.0   \n",
       "75%           4.196984e+09             4.196984e+09                 0.0   \n",
       "max           8.405479e+17             8.405479e+17                 0.0   \n",
       "\n",
       "       possibly_sensitive_appealable  quoted_status_id  quoted_status_id_str  \\\n",
       "count                         2203.0      2.600000e+01          2.600000e+01   \n",
       "mean                             0.0      8.113972e+17          8.113972e+17   \n",
       "std                              0.0      6.295843e+16          6.295843e+16   \n",
       "min                              0.0      6.721083e+17          6.721083e+17   \n",
       "25%                              0.0      7.761338e+17          7.761338e+17   \n",
       "50%                              0.0      8.281173e+17          8.281173e+17   \n",
       "75%                              0.0      8.637581e+17          8.637581e+17   \n",
       "max                              0.0      8.860534e+17          8.860534e+17   \n",
       "\n",
       "       retweet_count  \n",
       "count    2339.000000  \n",
       "mean     2903.433091  \n",
       "std      4895.523842  \n",
       "min         0.000000  \n",
       "25%       583.500000  \n",
       "50%      1354.000000  \n",
       "75%      3383.500000  \n",
       "max     82974.000000  "
      ]
     },
     "execution_count": 7,
     "metadata": {},
     "output_type": "execute_result"
    }
   ],
   "source": [
    "tweet_df.describe()"
   ]
  },
  {
   "cell_type": "markdown",
   "metadata": {
    "pycharm": {}
   },
   "source": [
    "### Data file image-predictions.tsv\n",
    "\n",
    "Problems identified in data set.\n",
    "\n",
    "* tweet_id - convert to string, identity  \n",
    "* Prediction, p1, p2, and p3, should be separated into seperate rows instead of columns."
   ]
  },
  {
   "cell_type": "code",
   "execution_count": 5,
   "metadata": {
    "pycharm": {
     "is_executing": false
    }
   },
   "outputs": [
    {
     "data": {
      "text/html": [
       "<div>\n",
       "<style scoped>\n",
       "    .dataframe tbody tr th:only-of-type {\n",
       "        vertical-align: middle;\n",
       "    }\n",
       "\n",
       "    .dataframe tbody tr th {\n",
       "        vertical-align: top;\n",
       "    }\n",
       "\n",
       "    .dataframe thead th {\n",
       "        text-align: right;\n",
       "    }\n",
       "</style>\n",
       "<table border=\"1\" class=\"dataframe\">\n",
       "  <thead>\n",
       "    <tr style=\"text-align: right;\">\n",
       "      <th></th>\n",
       "      <th>tweet_id</th>\n",
       "      <th>jpg_url</th>\n",
       "      <th>img_num</th>\n",
       "      <th>p1</th>\n",
       "      <th>p1_conf</th>\n",
       "      <th>p1_dog</th>\n",
       "    </tr>\n",
       "  </thead>\n",
       "  <tbody>\n",
       "    <tr>\n",
       "      <th>0</th>\n",
       "      <td>666020888022790149</td>\n",
       "      <td>https://pbs.twimg.com/media/CT4udn0WwAA0aMy.jpg</td>\n",
       "      <td>1</td>\n",
       "      <td>Welsh_springer_spaniel</td>\n",
       "      <td>0.465074</td>\n",
       "      <td>True</td>\n",
       "    </tr>\n",
       "    <tr>\n",
       "      <th>1</th>\n",
       "      <td>666029285002620928</td>\n",
       "      <td>https://pbs.twimg.com/media/CT42GRgUYAA5iDo.jpg</td>\n",
       "      <td>1</td>\n",
       "      <td>redbone</td>\n",
       "      <td>0.506826</td>\n",
       "      <td>True</td>\n",
       "    </tr>\n",
       "    <tr>\n",
       "      <th>2</th>\n",
       "      <td>666033412701032449</td>\n",
       "      <td>https://pbs.twimg.com/media/CT4521TWwAEvMyu.jpg</td>\n",
       "      <td>1</td>\n",
       "      <td>German_shepherd</td>\n",
       "      <td>0.596461</td>\n",
       "      <td>True</td>\n",
       "    </tr>\n",
       "    <tr>\n",
       "      <th>3</th>\n",
       "      <td>666044226329800704</td>\n",
       "      <td>https://pbs.twimg.com/media/CT5Dr8HUEAA-lEu.jpg</td>\n",
       "      <td>1</td>\n",
       "      <td>Rhodesian_ridgeback</td>\n",
       "      <td>0.408143</td>\n",
       "      <td>True</td>\n",
       "    </tr>\n",
       "    <tr>\n",
       "      <th>4</th>\n",
       "      <td>666049248165822465</td>\n",
       "      <td>https://pbs.twimg.com/media/CT5IQmsXIAAKY4A.jpg</td>\n",
       "      <td>1</td>\n",
       "      <td>miniature_pinscher</td>\n",
       "      <td>0.560311</td>\n",
       "      <td>True</td>\n",
       "    </tr>\n",
       "  </tbody>\n",
       "</table>\n",
       "</div>"
      ],
      "text/plain": [
       "             tweet_id                                          jpg_url  \\\n",
       "0  666020888022790149  https://pbs.twimg.com/media/CT4udn0WwAA0aMy.jpg   \n",
       "1  666029285002620928  https://pbs.twimg.com/media/CT42GRgUYAA5iDo.jpg   \n",
       "2  666033412701032449  https://pbs.twimg.com/media/CT4521TWwAEvMyu.jpg   \n",
       "3  666044226329800704  https://pbs.twimg.com/media/CT5Dr8HUEAA-lEu.jpg   \n",
       "4  666049248165822465  https://pbs.twimg.com/media/CT5IQmsXIAAKY4A.jpg   \n",
       "\n",
       "   img_num                      p1   p1_conf  p1_dog  \n",
       "0        1  Welsh_springer_spaniel  0.465074    True  \n",
       "1        1                 redbone  0.506826    True  \n",
       "2        1         German_shepherd  0.596461    True  \n",
       "3        1     Rhodesian_ridgeback  0.408143    True  \n",
       "4        1      miniature_pinscher  0.560311    True  "
      ]
     },
     "execution_count": 5,
     "metadata": {},
     "output_type": "execute_result"
    }
   ],
   "source": [
    "image_pred_df.iloc[:5,:6]"
   ]
  },
  {
   "cell_type": "code",
   "execution_count": 194,
   "metadata": {
    "pycharm": {}
   },
   "outputs": [
    {
     "data": {
      "text/html": [
       "<div>\n",
       "<style scoped>\n",
       "    .dataframe tbody tr th:only-of-type {\n",
       "        vertical-align: middle;\n",
       "    }\n",
       "\n",
       "    .dataframe tbody tr th {\n",
       "        vertical-align: top;\n",
       "    }\n",
       "\n",
       "    .dataframe thead th {\n",
       "        text-align: right;\n",
       "    }\n",
       "</style>\n",
       "<table border=\"1\" class=\"dataframe\">\n",
       "  <thead>\n",
       "    <tr style=\"text-align: right;\">\n",
       "      <th></th>\n",
       "      <th>p2</th>\n",
       "      <th>p2_conf</th>\n",
       "      <th>p2_dog</th>\n",
       "      <th>p3</th>\n",
       "      <th>p3_conf</th>\n",
       "      <th>p3_dog</th>\n",
       "    </tr>\n",
       "  </thead>\n",
       "  <tbody>\n",
       "    <tr>\n",
       "      <th>0</th>\n",
       "      <td>collie</td>\n",
       "      <td>0.156665</td>\n",
       "      <td>True</td>\n",
       "      <td>Shetland_sheepdog</td>\n",
       "      <td>0.061428</td>\n",
       "      <td>True</td>\n",
       "    </tr>\n",
       "    <tr>\n",
       "      <th>1</th>\n",
       "      <td>miniature_pinscher</td>\n",
       "      <td>0.074192</td>\n",
       "      <td>True</td>\n",
       "      <td>Rhodesian_ridgeback</td>\n",
       "      <td>0.072010</td>\n",
       "      <td>True</td>\n",
       "    </tr>\n",
       "    <tr>\n",
       "      <th>2</th>\n",
       "      <td>malinois</td>\n",
       "      <td>0.138584</td>\n",
       "      <td>True</td>\n",
       "      <td>bloodhound</td>\n",
       "      <td>0.116197</td>\n",
       "      <td>True</td>\n",
       "    </tr>\n",
       "    <tr>\n",
       "      <th>3</th>\n",
       "      <td>redbone</td>\n",
       "      <td>0.360687</td>\n",
       "      <td>True</td>\n",
       "      <td>miniature_pinscher</td>\n",
       "      <td>0.222752</td>\n",
       "      <td>True</td>\n",
       "    </tr>\n",
       "    <tr>\n",
       "      <th>4</th>\n",
       "      <td>Rottweiler</td>\n",
       "      <td>0.243682</td>\n",
       "      <td>True</td>\n",
       "      <td>Doberman</td>\n",
       "      <td>0.154629</td>\n",
       "      <td>True</td>\n",
       "    </tr>\n",
       "  </tbody>\n",
       "</table>\n",
       "</div>"
      ],
      "text/plain": [
       "                   p2   p2_conf  p2_dog                   p3   p3_conf  p3_dog\n",
       "0              collie  0.156665    True    Shetland_sheepdog  0.061428    True\n",
       "1  miniature_pinscher  0.074192    True  Rhodesian_ridgeback  0.072010    True\n",
       "2            malinois  0.138584    True           bloodhound  0.116197    True\n",
       "3             redbone  0.360687    True   miniature_pinscher  0.222752    True\n",
       "4          Rottweiler  0.243682    True             Doberman  0.154629    True"
      ]
     },
     "execution_count": 194,
     "metadata": {},
     "output_type": "execute_result"
    }
   ],
   "source": [
    "image_pred_df.iloc[:5,6:]"
   ]
  },
  {
   "cell_type": "code",
   "execution_count": 195,
   "metadata": {
    "pycharm": {}
   },
   "outputs": [
    {
     "name": "stdout",
     "output_type": "stream",
     "text": [
      "<class 'pandas.core.frame.DataFrame'>\n",
      "RangeIndex: 2075 entries, 0 to 2074\n",
      "Data columns (total 12 columns):\n",
      "tweet_id    2075 non-null int64\n",
      "jpg_url     2075 non-null object\n",
      "img_num     2075 non-null int64\n",
      "p1          2075 non-null object\n",
      "p1_conf     2075 non-null float64\n",
      "p1_dog      2075 non-null bool\n",
      "p2          2075 non-null object\n",
      "p2_conf     2075 non-null float64\n",
      "p2_dog      2075 non-null bool\n",
      "p3          2075 non-null object\n",
      "p3_conf     2075 non-null float64\n",
      "p3_dog      2075 non-null bool\n",
      "dtypes: bool(3), float64(3), int64(2), object(4)\n",
      "memory usage: 152.1+ KB\n"
     ]
    }
   ],
   "source": [
    "image_pred_df.info()"
   ]
  },
  {
   "cell_type": "code",
   "execution_count": 8,
   "metadata": {
    "pycharm": {}
   },
   "outputs": [
    {
     "data": {
      "text/html": [
       "<div>\n",
       "<style scoped>\n",
       "    .dataframe tbody tr th:only-of-type {\n",
       "        vertical-align: middle;\n",
       "    }\n",
       "\n",
       "    .dataframe tbody tr th {\n",
       "        vertical-align: top;\n",
       "    }\n",
       "\n",
       "    .dataframe thead th {\n",
       "        text-align: right;\n",
       "    }\n",
       "</style>\n",
       "<table border=\"1\" class=\"dataframe\">\n",
       "  <thead>\n",
       "    <tr style=\"text-align: right;\">\n",
       "      <th></th>\n",
       "      <th>tweet_id</th>\n",
       "      <th>img_num</th>\n",
       "      <th>p1_conf</th>\n",
       "      <th>p2_conf</th>\n",
       "      <th>p3_conf</th>\n",
       "    </tr>\n",
       "  </thead>\n",
       "  <tbody>\n",
       "    <tr>\n",
       "      <th>count</th>\n",
       "      <td>2.075000e+03</td>\n",
       "      <td>2075.000000</td>\n",
       "      <td>2075.000000</td>\n",
       "      <td>2.075000e+03</td>\n",
       "      <td>2.075000e+03</td>\n",
       "    </tr>\n",
       "    <tr>\n",
       "      <th>mean</th>\n",
       "      <td>7.384514e+17</td>\n",
       "      <td>1.203855</td>\n",
       "      <td>0.594548</td>\n",
       "      <td>1.345886e-01</td>\n",
       "      <td>6.032417e-02</td>\n",
       "    </tr>\n",
       "    <tr>\n",
       "      <th>std</th>\n",
       "      <td>6.785203e+16</td>\n",
       "      <td>0.561875</td>\n",
       "      <td>0.271174</td>\n",
       "      <td>1.006657e-01</td>\n",
       "      <td>5.090593e-02</td>\n",
       "    </tr>\n",
       "    <tr>\n",
       "      <th>min</th>\n",
       "      <td>6.660209e+17</td>\n",
       "      <td>1.000000</td>\n",
       "      <td>0.044333</td>\n",
       "      <td>1.011300e-08</td>\n",
       "      <td>1.740170e-10</td>\n",
       "    </tr>\n",
       "    <tr>\n",
       "      <th>25%</th>\n",
       "      <td>6.764835e+17</td>\n",
       "      <td>1.000000</td>\n",
       "      <td>0.364412</td>\n",
       "      <td>5.388625e-02</td>\n",
       "      <td>1.622240e-02</td>\n",
       "    </tr>\n",
       "    <tr>\n",
       "      <th>50%</th>\n",
       "      <td>7.119988e+17</td>\n",
       "      <td>1.000000</td>\n",
       "      <td>0.588230</td>\n",
       "      <td>1.181810e-01</td>\n",
       "      <td>4.944380e-02</td>\n",
       "    </tr>\n",
       "    <tr>\n",
       "      <th>75%</th>\n",
       "      <td>7.932034e+17</td>\n",
       "      <td>1.000000</td>\n",
       "      <td>0.843855</td>\n",
       "      <td>1.955655e-01</td>\n",
       "      <td>9.180755e-02</td>\n",
       "    </tr>\n",
       "    <tr>\n",
       "      <th>max</th>\n",
       "      <td>8.924206e+17</td>\n",
       "      <td>4.000000</td>\n",
       "      <td>1.000000</td>\n",
       "      <td>4.880140e-01</td>\n",
       "      <td>2.734190e-01</td>\n",
       "    </tr>\n",
       "  </tbody>\n",
       "</table>\n",
       "</div>"
      ],
      "text/plain": [
       "           tweet_id      img_num      p1_conf       p2_conf       p3_conf\n",
       "count  2.075000e+03  2075.000000  2075.000000  2.075000e+03  2.075000e+03\n",
       "mean   7.384514e+17     1.203855     0.594548  1.345886e-01  6.032417e-02\n",
       "std    6.785203e+16     0.561875     0.271174  1.006657e-01  5.090593e-02\n",
       "min    6.660209e+17     1.000000     0.044333  1.011300e-08  1.740170e-10\n",
       "25%    6.764835e+17     1.000000     0.364412  5.388625e-02  1.622240e-02\n",
       "50%    7.119988e+17     1.000000     0.588230  1.181810e-01  4.944380e-02\n",
       "75%    7.932034e+17     1.000000     0.843855  1.955655e-01  9.180755e-02\n",
       "max    8.924206e+17     4.000000     1.000000  4.880140e-01  2.734190e-01"
      ]
     },
     "execution_count": 8,
     "metadata": {},
     "output_type": "execute_result"
    }
   ],
   "source": [
    "image_pred_df.describe()"
   ]
  },
  {
   "cell_type": "markdown",
   "metadata": {
    "pycharm": {}
   },
   "source": [
    "## Clean"
   ]
  },
  {
   "cell_type": "markdown",
   "metadata": {
    "pycharm": {}
   },
   "source": [
    "### Cleaning twitter_df\n",
    "\n",
    "Try to find more dogtionary words from the tweet text.  \n",
    "Fix None values on the four columns: doggo, floofer, pupper, puppo.   \n",
    "Reshape dogtionary names into one column.\n",
    "Remove retweets."
   ]
  },
  {
   "cell_type": "code",
   "execution_count": 139,
   "metadata": {
    "pycharm": {
     "is_executing": false
    }
   },
   "outputs": [
    {
     "data": {
      "text/plain": [
       "['tweet_id',\n",
       " 'in_reply_to_status_id',\n",
       " 'in_reply_to_user_id',\n",
       " 'timestamp',\n",
       " 'source',\n",
       " 'text',\n",
       " 'retweeted_status_id',\n",
       " 'retweeted_status_user_id',\n",
       " 'retweeted_status_timestamp',\n",
       " 'expanded_urls',\n",
       " 'rating_numerator',\n",
       " 'rating_denominator',\n",
       " 'name',\n",
       " 'dogtionary']"
      ]
     },
     "execution_count": 139,
     "metadata": {},
     "output_type": "execute_result"
    }
   ],
   "source": [
    "dogtionary_words = ['doggo', 'floofer', 'floof', 'pupper', 'puppo']\n",
    "columns_to_save = [col for col in twitter_df.columns.to_list() if col not in dogtionary_words]\n",
    "columns_to_save.append('dogtionary')\n",
    "columns_to_save"
   ]
  },
  {
   "cell_type": "code",
   "execution_count": 140,
   "metadata": {
    "pycharm": {
     "is_executing": false
    }
   },
   "outputs": [
    {
     "name": "stdout",
     "output_type": "stream",
     "text": [
      "<class 'pandas.core.frame.DataFrame'>\n",
      "Int64Index: 2370 entries, 0 to 2369\n",
      "Data columns (total 14 columns):\n",
      "tweet_id                      2370 non-null int64\n",
      "in_reply_to_status_id         79 non-null float64\n",
      "in_reply_to_user_id           79 non-null float64\n",
      "timestamp                     2370 non-null object\n",
      "source                        2370 non-null object\n",
      "text                          2370 non-null object\n",
      "retweeted_status_id           183 non-null float64\n",
      "retweeted_status_user_id      183 non-null float64\n",
      "retweeted_status_timestamp    183 non-null object\n",
      "expanded_urls                 2311 non-null object\n",
      "rating_numerator              2370 non-null int64\n",
      "rating_denominator            2370 non-null int64\n",
      "name                          1617 non-null object\n",
      "dogtionary                    394 non-null object\n",
      "dtypes: float64(4), int64(3), object(7)\n",
      "memory usage: 277.7+ KB\n"
     ]
    }
   ],
   "source": [
    "dogtionary = twitter_df[['tweet_id', 'doggo', 'floofer', 'pupper', 'puppo']].replace('None', np.NaN)\n",
    "twitter_melted = pd.melt(dogtionary, id_vars='tweet_id', var_name='to_drop', value_name='dogtionary')[['tweet_id', 'dogtionary']].dropna()\n",
    "twitter_clean_df = twitter_df.merge(twitter_melted, how='left', on='tweet_id')[columns_to_save]\n",
    "twitter_clean_df['name'] = twitter_clean_df['name'].replace('None', np.NaN)\n",
    "twitter_clean_df.info()"
   ]
  },
  {
   "cell_type": "code",
   "execution_count": 141,
   "metadata": {},
   "outputs": [],
   "source": [
    " twitter_clean_df['tweet_id'] = twitter_clean_df['tweet_id'].astype(str)"
   ]
  },
  {
   "cell_type": "code",
   "execution_count": 142,
   "metadata": {},
   "outputs": [
    {
     "name": "stdout",
     "output_type": "stream",
     "text": [
      "<class 'pandas.core.frame.DataFrame'>\n",
      "Int64Index: 2187 entries, 0 to 2369\n",
      "Data columns (total 11 columns):\n",
      "tweet_id                 2187 non-null object\n",
      "in_reply_to_status_id    79 non-null float64\n",
      "in_reply_to_user_id      79 non-null float64\n",
      "timestamp                2187 non-null object\n",
      "source                   2187 non-null object\n",
      "text                     2187 non-null object\n",
      "expanded_urls            2129 non-null object\n",
      "rating_numerator         2187 non-null int64\n",
      "rating_denominator       2187 non-null int64\n",
      "name                     1500 non-null object\n",
      "dogtionary               356 non-null object\n",
      "dtypes: float64(2), int64(2), object(7)\n",
      "memory usage: 205.0+ KB\n"
     ]
    }
   ],
   "source": [
    "# Drop retweets\n",
    "retweet_id_isnull = twitter_clean_df['retweeted_status_id'].isnull()\n",
    "retweet_user_isnull = twitter_clean_df['retweeted_status_user_id'].isnull()\n",
    "retweet_timestamp_isnull = twitter_clean_df['retweeted_status_timestamp'].isnull()\n",
    "\n",
    "twitter_clean_df = twitter_clean_df[retweet_id_isnull | retweet_user_isnull | retweet_timestamp_isnull]\n",
    "twitter_clean_df = twitter_clean_df.drop(['retweeted_status_id', 'retweeted_status_user_id', 'retweeted_status_timestamp'], axis=1)\n",
    "twitter_clean_df.info()"
   ]
  },
  {
   "cell_type": "code",
   "execution_count": 143,
   "metadata": {},
   "outputs": [
    {
     "name": "stdout",
     "output_type": "stream",
     "text": [
      "<class 'pandas.core.frame.DataFrame'>\n",
      "Int64Index: 2108 entries, 0 to 2369\n",
      "Data columns (total 9 columns):\n",
      "tweet_id              2108 non-null object\n",
      "timestamp             2108 non-null object\n",
      "source                2108 non-null object\n",
      "text                  2108 non-null object\n",
      "expanded_urls         2105 non-null object\n",
      "rating_numerator      2108 non-null int64\n",
      "rating_denominator    2108 non-null int64\n",
      "name                  1499 non-null object\n",
      "dogtionary            347 non-null object\n",
      "dtypes: int64(2), object(7)\n",
      "memory usage: 164.7+ KB\n"
     ]
    }
   ],
   "source": [
    "# Drop reply\n",
    "reply_status_isnull = twitter_clean_df['in_reply_to_status_id'].isnull()\n",
    "reply_user_isnull = twitter_clean_df['in_reply_to_user_id'].isnull()\n",
    "\n",
    "twitter_clean_df = twitter_clean_df[reply_status_isnull | reply_user_isnull]\n",
    "twitter_clean_df = twitter_clean_df.drop(['in_reply_to_status_id', 'in_reply_to_user_id'], axis=1)\n",
    "twitter_clean_df.info()"
   ]
  },
  {
   "cell_type": "code",
   "execution_count": 144,
   "metadata": {
    "pycharm": {
     "is_executing": false,
     "metadata": false,
     "name": "#%%\n"
    }
   },
   "outputs": [],
   "source": [
    "# clean up unused variables\n",
    "del columns_to_save\n",
    "del dogtionary\n",
    "del twitter_melted"
   ]
  },
  {
   "cell_type": "markdown",
   "metadata": {
    "pycharm": {}
   },
   "source": [
    "Extract Dogtionary words from text column"
   ]
  },
  {
   "cell_type": "code",
   "execution_count": 145,
   "metadata": {
    "pycharm": {
     "is_executing": false
    }
   },
   "outputs": [
    {
     "data": {
      "text/plain": [
       "Index(['tweet_id', 'timestamp', 'source', 'text', 'expanded_urls',\n",
       "       'rating_numerator', 'rating_denominator', 'name', 'dogtionary_x',\n",
       "       'dogtionary_y'],\n",
       "      dtype='object')"
      ]
     },
     "execution_count": 145,
     "metadata": {},
     "output_type": "execute_result"
    }
   ],
   "source": [
    "matcher = re.compile(pattern='|'.join(dogtionary_words))\n",
    "def extract_type(series):\n",
    "    names = matcher.findall(series['text'])\n",
    "    if len(names) > 0 and not series['dogtionary']:\n",
    "        series['dogtionary'] = names[0]\n",
    "    return series\n",
    "\n",
    "names_df = twitter_clean_df[['tweet_id', 'text', 'dogtionary']].apply(extract_type, axis=1).dropna()\n",
    "twitter_clean_df = twitter_clean_df.merge(names_df[['tweet_id', 'dogtionary']], how='left', on='tweet_id')\n",
    "twitter_clean_df.columns"
   ]
  },
  {
   "cell_type": "code",
   "execution_count": 146,
   "metadata": {},
   "outputs": [
    {
     "data": {
      "text/plain": [
       "pupper     239\n",
       "doggo       94\n",
       "puppo       25\n",
       "floofer     11\n",
       "Name: dogtionary_x, dtype: int64"
      ]
     },
     "execution_count": 146,
     "metadata": {},
     "output_type": "execute_result"
    }
   ],
   "source": [
    "twitter_clean_df['dogtionary_x'].value_counts()"
   ]
  },
  {
   "cell_type": "code",
   "execution_count": 147,
   "metadata": {
    "pycharm": {
     "is_executing": false,
     "metadata": false,
     "name": "#%%\n"
    }
   },
   "outputs": [
    {
     "data": {
      "text/plain": [
       "Twitter for iPhone     1994\n",
       "Vine - Make a Scene      94\n",
       "Twitter Web Client       31\n",
       "TweetDeck                11\n",
       "Name: client, dtype: int64"
      ]
     },
     "execution_count": 147,
     "metadata": {},
     "output_type": "execute_result"
    }
   ],
   "source": [
    "client_matcher = re.compile(pattern='>.*<')\n",
    "twitter_clean_df['client'] = twitter_clean_df.source.apply(lambda x: client_matcher.findall(x)[0][1:-1])\n",
    "twitter_clean_df.client.value_counts()"
   ]
  },
  {
   "cell_type": "code",
   "execution_count": 148,
   "metadata": {
    "pycharm": {
     "is_executing": false,
     "metadata": false,
     "name": "#%%\n"
    }
   },
   "outputs": [
    {
     "data": {
      "text/plain": [
       "Index(['tweet_id', 'timestamp', 'text', 'rating_numerator',\n",
       "       'rating_denominator', 'name', 'dogtionary', 'client'],\n",
       "      dtype='object')"
      ]
     },
     "execution_count": 148,
     "metadata": {},
     "output_type": "execute_result"
    }
   ],
   "source": [
    "twitter_clean_df.rename(columns={'dogtionary_x': 'dogtionary'}, inplace=True)\n",
    "columns_to_drop = ['expanded_urls', 'dogtionary_y', 'source']\n",
    "twitter_clean_df.drop(columns_to_drop, axis=1, inplace=True)\n",
    "twitter_clean_df.columns"
   ]
  },
  {
   "cell_type": "code",
   "execution_count": 149,
   "metadata": {
    "pycharm": {
     "is_executing": false
    }
   },
   "outputs": [
    {
     "data": {
      "text/plain": [
       "datetime64[ns, UTC]"
      ]
     },
     "execution_count": 149,
     "metadata": {},
     "output_type": "execute_result"
    }
   ],
   "source": [
    "# Parse timestamp column\n",
    "twitter_clean_df['timestamp'] = pd.to_datetime(twitter_clean_df.timestamp)\n",
    "twitter_clean_df.timestamp.dtype"
   ]
  },
  {
   "cell_type": "markdown",
   "metadata": {
    "pycharm": {}
   },
   "source": [
    "### Cleaning tweet_df"
   ]
  },
  {
   "cell_type": "code",
   "execution_count": 163,
   "metadata": {},
   "outputs": [],
   "source": [
    "tweet_clean_df = tweet_df.copy()\n",
    "tweet_clean_df['id'] = tweet_clean_df['id'].astype(str)"
   ]
  },
  {
   "cell_type": "code",
   "execution_count": 164,
   "metadata": {
    "pycharm": {
     "is_executing": false
    }
   },
   "outputs": [
    {
     "data": {
      "text/plain": [
       "iphone         2205\n",
       "vine.co          91\n",
       "twitter.com      33\n",
       "tweetdeck        10\n",
       "Name: client, dtype: int64"
      ]
     },
     "execution_count": 164,
     "metadata": {},
     "output_type": "execute_result"
    }
   ],
   "source": [
    "# extract Twitter client\n",
    "tweet_clean_df['client'] = tweet_df.source.apply(lambda x: x.split('\"')[1].split('/')[-1])\n",
    "tweet_clean_df['client'].value_counts()"
   ]
  },
  {
   "cell_type": "code",
   "execution_count": 166,
   "metadata": {
    "pycharm": {
     "is_executing": false,
     "metadata": false,
     "name": "#%%\n"
    }
   },
   "outputs": [
    {
     "data": {
      "text/plain": [
       "Tickles      2\n",
       "Alfonso      1\n",
       "Johm         1\n",
       "Klint        1\n",
       "Alfredo      1\n",
       "Guss         1\n",
       "Leroi        1\n",
       "Cheryl       1\n",
       "Jessiga      1\n",
       "Pepe         1\n",
       "Zeus         1\n",
       "Alphred      1\n",
       "Rufus        1\n",
       "Berta        1\n",
       "Cherokee     1\n",
       "Wylie        1\n",
       "Chuk         1\n",
       "Hemry        1\n",
       "Octaviath    1\n",
       "Kohl         1\n",
       "Kip          1\n",
       "Jacob        1\n",
       "Spork        1\n",
       "Name: new_name, dtype: int64"
      ]
     },
     "execution_count": 166,
     "metadata": {},
     "output_type": "execute_result"
    }
   ],
   "source": [
    "namePattern = re.compile('named ([A-Z]\\w+)')\n",
    "def extract_name(text):\n",
    "    names = namePattern.findall(text)\n",
    "    if names:\n",
    "        return names[0]\n",
    "    return np.NaN\n",
    "\n",
    "tweet_clean_df['new_name'] = tweet_clean_df['full_text'].apply(extract_name)\n",
    "tweet_clean_df[tweet_clean_df['new_name'].isnull() == False][['id', 'new_name']].set_index('id')\n",
    "tweet_clean_df.new_name.value_counts()"
   ]
  },
  {
   "cell_type": "code",
   "execution_count": 167,
   "metadata": {
    "pycharm": {
     "is_executing": false,
     "metadata": false,
     "name": "#%%\n"
    }
   },
   "outputs": [
    {
     "name": "stdout",
     "output_type": "stream",
     "text": [
      "<class 'pandas.core.frame.DataFrame'>\n",
      "RangeIndex: 2339 entries, 0 to 2338\n",
      "Data columns (total 4 columns):\n",
      "favorite_count    2339 non-null int64\n",
      "tweet_id          2339 non-null object\n",
      "retweet_count     2339 non-null int64\n",
      "new_name          24 non-null object\n",
      "dtypes: int64(2), object(2)\n",
      "memory usage: 73.2+ KB\n"
     ]
    }
   ],
   "source": [
    "columns_to_drop = ['contributors', 'coordinates', 'created_at', 'display_text_range',\n",
    "       'entities', 'extended_entities', 'favorited',\n",
    "       'full_text', 'geo', 'id_str', 'in_reply_to_screen_name',\n",
    "       'in_reply_to_status_id', 'in_reply_to_status_id_str',\n",
    "       'in_reply_to_user_id', 'in_reply_to_user_id_str', 'is_quote_status',\n",
    "       'lang', 'place', 'possibly_sensitive', 'possibly_sensitive_appealable',\n",
    "       'quoted_status', 'quoted_status_id', 'quoted_status_id_str',\n",
    "       'quoted_status_permalink', 'retweeted', 'client',\n",
    "       'retweeted_status', 'source', 'truncated', 'user']\n",
    "tweet_clean_df.rename(columns={'id': 'tweet_id'}, inplace=True)\n",
    "tweet_clean_df.drop(columns_to_drop, axis=1, inplace=True)\n",
    "tweet_clean_df.info()"
   ]
  },
  {
   "cell_type": "markdown",
   "metadata": {
    "pycharm": {}
   },
   "source": [
    "### Cleaning of image_pred_df"
   ]
  },
  {
   "cell_type": "code",
   "execution_count": 154,
   "metadata": {
    "pycharm": {
     "is_executing": false
    }
   },
   "outputs": [
    {
     "data": {
      "text/html": [
       "<div>\n",
       "<style scoped>\n",
       "    .dataframe tbody tr th:only-of-type {\n",
       "        vertical-align: middle;\n",
       "    }\n",
       "\n",
       "    .dataframe tbody tr th {\n",
       "        vertical-align: top;\n",
       "    }\n",
       "\n",
       "    .dataframe thead th {\n",
       "        text-align: right;\n",
       "    }\n",
       "</style>\n",
       "<table border=\"1\" class=\"dataframe\">\n",
       "  <thead>\n",
       "    <tr style=\"text-align: right;\">\n",
       "      <th></th>\n",
       "      <th>tweet_id</th>\n",
       "      <th>jpg_url</th>\n",
       "      <th>confidence</th>\n",
       "      <th>group</th>\n",
       "    </tr>\n",
       "  </thead>\n",
       "  <tbody>\n",
       "    <tr>\n",
       "      <th>0</th>\n",
       "      <td>666020888022790149</td>\n",
       "      <td>https://pbs.twimg.com/media/CT4udn0WwAA0aMy.jpg</td>\n",
       "      <td>0.465074</td>\n",
       "      <td>p1</td>\n",
       "    </tr>\n",
       "    <tr>\n",
       "      <th>1</th>\n",
       "      <td>666029285002620928</td>\n",
       "      <td>https://pbs.twimg.com/media/CT42GRgUYAA5iDo.jpg</td>\n",
       "      <td>0.506826</td>\n",
       "      <td>p1</td>\n",
       "    </tr>\n",
       "    <tr>\n",
       "      <th>2</th>\n",
       "      <td>666033412701032449</td>\n",
       "      <td>https://pbs.twimg.com/media/CT4521TWwAEvMyu.jpg</td>\n",
       "      <td>0.596461</td>\n",
       "      <td>p1</td>\n",
       "    </tr>\n",
       "    <tr>\n",
       "      <th>3</th>\n",
       "      <td>666044226329800704</td>\n",
       "      <td>https://pbs.twimg.com/media/CT5Dr8HUEAA-lEu.jpg</td>\n",
       "      <td>0.408143</td>\n",
       "      <td>p1</td>\n",
       "    </tr>\n",
       "    <tr>\n",
       "      <th>4</th>\n",
       "      <td>666049248165822465</td>\n",
       "      <td>https://pbs.twimg.com/media/CT5IQmsXIAAKY4A.jpg</td>\n",
       "      <td>0.560311</td>\n",
       "      <td>p1</td>\n",
       "    </tr>\n",
       "  </tbody>\n",
       "</table>\n",
       "</div>"
      ],
      "text/plain": [
       "             tweet_id                                          jpg_url  \\\n",
       "0  666020888022790149  https://pbs.twimg.com/media/CT4udn0WwAA0aMy.jpg   \n",
       "1  666029285002620928  https://pbs.twimg.com/media/CT42GRgUYAA5iDo.jpg   \n",
       "2  666033412701032449  https://pbs.twimg.com/media/CT4521TWwAEvMyu.jpg   \n",
       "3  666044226329800704  https://pbs.twimg.com/media/CT5Dr8HUEAA-lEu.jpg   \n",
       "4  666049248165822465  https://pbs.twimg.com/media/CT5IQmsXIAAKY4A.jpg   \n",
       "\n",
       "   confidence group  \n",
       "0    0.465074    p1  \n",
       "1    0.506826    p1  \n",
       "2    0.596461    p1  \n",
       "3    0.408143    p1  \n",
       "4    0.560311    p1  "
      ]
     },
     "execution_count": 154,
     "metadata": {},
     "output_type": "execute_result"
    }
   ],
   "source": [
    "pred_conf = pd.melt(image_pred_df, id_vars=['tweet_id', 'jpg_url'], value_vars=['p1_conf', 'p2_conf', 'p3_conf'], value_name='confidence', var_name='temp1')\n",
    "pred_conf['group'] = pred_conf['temp1'].str[:2]\n",
    "pred_conf.drop('temp1', axis=1, inplace=True)\n",
    "pred_conf.head()"
   ]
  },
  {
   "cell_type": "code",
   "execution_count": 155,
   "metadata": {
    "pycharm": {
     "is_executing": false
    }
   },
   "outputs": [
    {
     "data": {
      "text/html": [
       "<div>\n",
       "<style scoped>\n",
       "    .dataframe tbody tr th:only-of-type {\n",
       "        vertical-align: middle;\n",
       "    }\n",
       "\n",
       "    .dataframe tbody tr th {\n",
       "        vertical-align: top;\n",
       "    }\n",
       "\n",
       "    .dataframe thead th {\n",
       "        text-align: right;\n",
       "    }\n",
       "</style>\n",
       "<table border=\"1\" class=\"dataframe\">\n",
       "  <thead>\n",
       "    <tr style=\"text-align: right;\">\n",
       "      <th></th>\n",
       "      <th>tweet_id</th>\n",
       "      <th>is_dog</th>\n",
       "      <th>group</th>\n",
       "    </tr>\n",
       "  </thead>\n",
       "  <tbody>\n",
       "    <tr>\n",
       "      <th>0</th>\n",
       "      <td>666020888022790149</td>\n",
       "      <td>True</td>\n",
       "      <td>p1</td>\n",
       "    </tr>\n",
       "    <tr>\n",
       "      <th>1</th>\n",
       "      <td>666029285002620928</td>\n",
       "      <td>True</td>\n",
       "      <td>p1</td>\n",
       "    </tr>\n",
       "    <tr>\n",
       "      <th>2</th>\n",
       "      <td>666033412701032449</td>\n",
       "      <td>True</td>\n",
       "      <td>p1</td>\n",
       "    </tr>\n",
       "    <tr>\n",
       "      <th>3</th>\n",
       "      <td>666044226329800704</td>\n",
       "      <td>True</td>\n",
       "      <td>p1</td>\n",
       "    </tr>\n",
       "    <tr>\n",
       "      <th>4</th>\n",
       "      <td>666049248165822465</td>\n",
       "      <td>True</td>\n",
       "      <td>p1</td>\n",
       "    </tr>\n",
       "  </tbody>\n",
       "</table>\n",
       "</div>"
      ],
      "text/plain": [
       "             tweet_id  is_dog group\n",
       "0  666020888022790149    True    p1\n",
       "1  666029285002620928    True    p1\n",
       "2  666033412701032449    True    p1\n",
       "3  666044226329800704    True    p1\n",
       "4  666049248165822465    True    p1"
      ]
     },
     "execution_count": 155,
     "metadata": {},
     "output_type": "execute_result"
    }
   ],
   "source": [
    "pred_dog = pd.melt(image_pred_df, id_vars='tweet_id', value_vars=['p1_dog', 'p2_dog', 'p3_dog'], value_name='is_dog', var_name='temp2')\n",
    "pred_dog['group'] = pred_dog['temp2'].str[:2]\n",
    "pred_dog.drop('temp2', axis=1, inplace=True)\n",
    "pred_dog.head()"
   ]
  },
  {
   "cell_type": "code",
   "execution_count": 156,
   "metadata": {
    "pycharm": {
     "is_executing": false
    }
   },
   "outputs": [
    {
     "data": {
      "text/html": [
       "<div>\n",
       "<style scoped>\n",
       "    .dataframe tbody tr th:only-of-type {\n",
       "        vertical-align: middle;\n",
       "    }\n",
       "\n",
       "    .dataframe tbody tr th {\n",
       "        vertical-align: top;\n",
       "    }\n",
       "\n",
       "    .dataframe thead th {\n",
       "        text-align: right;\n",
       "    }\n",
       "</style>\n",
       "<table border=\"1\" class=\"dataframe\">\n",
       "  <thead>\n",
       "    <tr style=\"text-align: right;\">\n",
       "      <th></th>\n",
       "      <th>tweet_id</th>\n",
       "      <th>group</th>\n",
       "      <th>breed</th>\n",
       "    </tr>\n",
       "  </thead>\n",
       "  <tbody>\n",
       "    <tr>\n",
       "      <th>0</th>\n",
       "      <td>666020888022790149</td>\n",
       "      <td>p1</td>\n",
       "      <td>Welsh_springer_spaniel</td>\n",
       "    </tr>\n",
       "    <tr>\n",
       "      <th>1</th>\n",
       "      <td>666029285002620928</td>\n",
       "      <td>p1</td>\n",
       "      <td>redbone</td>\n",
       "    </tr>\n",
       "    <tr>\n",
       "      <th>2</th>\n",
       "      <td>666033412701032449</td>\n",
       "      <td>p1</td>\n",
       "      <td>German_shepherd</td>\n",
       "    </tr>\n",
       "    <tr>\n",
       "      <th>3</th>\n",
       "      <td>666044226329800704</td>\n",
       "      <td>p1</td>\n",
       "      <td>Rhodesian_ridgeback</td>\n",
       "    </tr>\n",
       "    <tr>\n",
       "      <th>4</th>\n",
       "      <td>666049248165822465</td>\n",
       "      <td>p1</td>\n",
       "      <td>miniature_pinscher</td>\n",
       "    </tr>\n",
       "  </tbody>\n",
       "</table>\n",
       "</div>"
      ],
      "text/plain": [
       "             tweet_id group                   breed\n",
       "0  666020888022790149    p1  Welsh_springer_spaniel\n",
       "1  666029285002620928    p1                 redbone\n",
       "2  666033412701032449    p1         German_shepherd\n",
       "3  666044226329800704    p1     Rhodesian_ridgeback\n",
       "4  666049248165822465    p1      miniature_pinscher"
      ]
     },
     "execution_count": 156,
     "metadata": {},
     "output_type": "execute_result"
    }
   ],
   "source": [
    "pred_breed = pd.melt(image_pred_df, id_vars='tweet_id', value_vars=['p1', 'p2', 'p3'], value_name='breed', var_name='group')\n",
    "pred_breed.head()"
   ]
  },
  {
   "cell_type": "code",
   "execution_count": 157,
   "metadata": {
    "pycharm": {
     "is_executing": false
    }
   },
   "outputs": [
    {
     "data": {
      "text/html": [
       "<div>\n",
       "<style scoped>\n",
       "    .dataframe tbody tr th:only-of-type {\n",
       "        vertical-align: middle;\n",
       "    }\n",
       "\n",
       "    .dataframe tbody tr th {\n",
       "        vertical-align: top;\n",
       "    }\n",
       "\n",
       "    .dataframe thead th {\n",
       "        text-align: right;\n",
       "    }\n",
       "</style>\n",
       "<table border=\"1\" class=\"dataframe\">\n",
       "  <thead>\n",
       "    <tr style=\"text-align: right;\">\n",
       "      <th></th>\n",
       "      <th>tweet_id</th>\n",
       "      <th>jpg_url</th>\n",
       "      <th>confidence</th>\n",
       "      <th>group</th>\n",
       "      <th>is_dog</th>\n",
       "      <th>breed</th>\n",
       "    </tr>\n",
       "  </thead>\n",
       "  <tbody>\n",
       "    <tr>\n",
       "      <th>0</th>\n",
       "      <td>666020888022790149</td>\n",
       "      <td>https://pbs.twimg.com/media/CT4udn0WwAA0aMy.jpg</td>\n",
       "      <td>0.465074</td>\n",
       "      <td>p1</td>\n",
       "      <td>True</td>\n",
       "      <td>Welsh_springer_spaniel</td>\n",
       "    </tr>\n",
       "    <tr>\n",
       "      <th>1</th>\n",
       "      <td>666029285002620928</td>\n",
       "      <td>https://pbs.twimg.com/media/CT42GRgUYAA5iDo.jpg</td>\n",
       "      <td>0.506826</td>\n",
       "      <td>p1</td>\n",
       "      <td>True</td>\n",
       "      <td>redbone</td>\n",
       "    </tr>\n",
       "    <tr>\n",
       "      <th>2</th>\n",
       "      <td>666033412701032449</td>\n",
       "      <td>https://pbs.twimg.com/media/CT4521TWwAEvMyu.jpg</td>\n",
       "      <td>0.596461</td>\n",
       "      <td>p1</td>\n",
       "      <td>True</td>\n",
       "      <td>German_shepherd</td>\n",
       "    </tr>\n",
       "    <tr>\n",
       "      <th>3</th>\n",
       "      <td>666044226329800704</td>\n",
       "      <td>https://pbs.twimg.com/media/CT5Dr8HUEAA-lEu.jpg</td>\n",
       "      <td>0.408143</td>\n",
       "      <td>p1</td>\n",
       "      <td>True</td>\n",
       "      <td>Rhodesian_ridgeback</td>\n",
       "    </tr>\n",
       "    <tr>\n",
       "      <th>4</th>\n",
       "      <td>666049248165822465</td>\n",
       "      <td>https://pbs.twimg.com/media/CT5IQmsXIAAKY4A.jpg</td>\n",
       "      <td>0.560311</td>\n",
       "      <td>p1</td>\n",
       "      <td>True</td>\n",
       "      <td>miniature_pinscher</td>\n",
       "    </tr>\n",
       "  </tbody>\n",
       "</table>\n",
       "</div>"
      ],
      "text/plain": [
       "             tweet_id                                          jpg_url  \\\n",
       "0  666020888022790149  https://pbs.twimg.com/media/CT4udn0WwAA0aMy.jpg   \n",
       "1  666029285002620928  https://pbs.twimg.com/media/CT42GRgUYAA5iDo.jpg   \n",
       "2  666033412701032449  https://pbs.twimg.com/media/CT4521TWwAEvMyu.jpg   \n",
       "3  666044226329800704  https://pbs.twimg.com/media/CT5Dr8HUEAA-lEu.jpg   \n",
       "4  666049248165822465  https://pbs.twimg.com/media/CT5IQmsXIAAKY4A.jpg   \n",
       "\n",
       "   confidence group  is_dog                   breed  \n",
       "0    0.465074    p1    True  Welsh_springer_spaniel  \n",
       "1    0.506826    p1    True                 redbone  \n",
       "2    0.596461    p1    True         German_shepherd  \n",
       "3    0.408143    p1    True     Rhodesian_ridgeback  \n",
       "4    0.560311    p1    True      miniature_pinscher  "
      ]
     },
     "execution_count": 157,
     "metadata": {},
     "output_type": "execute_result"
    }
   ],
   "source": [
    "pred_tidy = pred_conf.merge(pred_dog, on=['tweet_id', 'group']).merge(pred_breed, on=['tweet_id', 'group'])\n",
    "pred_tidy.head()"
   ]
  },
  {
   "cell_type": "code",
   "execution_count": 158,
   "metadata": {},
   "outputs": [
    {
     "data": {
      "text/plain": [
       "dtype('O')"
      ]
     },
     "execution_count": 158,
     "metadata": {},
     "output_type": "execute_result"
    }
   ],
   "source": [
    "pred_tidy['tweet_id'] = pred_tidy['tweet_id'].astype(str)\n",
    "pred_tidy['tweet_id'].dtype"
   ]
  },
  {
   "cell_type": "code",
   "execution_count": 159,
   "metadata": {
    "pycharm": {
     "is_executing": false,
     "metadata": false,
     "name": "#%%\n"
    }
   },
   "outputs": [],
   "source": [
    "# clean up unused variables\n",
    "del pred_conf\n",
    "del pred_dog\n",
    "del pred_breed"
   ]
  },
  {
   "cell_type": "markdown",
   "metadata": {
    "pycharm": {
     "metadata": false,
     "name": "#%% md\n"
    }
   },
   "source": [
    "### Create Twitter archive master"
   ]
  },
  {
   "cell_type": "code",
   "execution_count": 168,
   "metadata": {},
   "outputs": [],
   "source": [
    "master_df = twitter_clean_df.copy()\n",
    "\n",
    "for row in tweet_clean_df[['tweet_id', 'new_name']].itertuples():\n",
    "    x = master_df[master_df['tweet_id'] == str(row.Index)]\n",
    "    if not x.empty:\n",
    "        print(x[['tweet_id', 'name']], row.new_name)\n",
    "        x['name'] = row.new_name"
   ]
  },
  {
   "cell_type": "code",
   "execution_count": 169,
   "metadata": {
    "pycharm": {
     "is_executing": false,
     "metadata": false,
     "name": "#%%\n"
    }
   },
   "outputs": [
    {
     "name": "stdout",
     "output_type": "stream",
     "text": [
      "<class 'pandas.core.frame.DataFrame'>\n",
      "Int64Index: 5994 entries, 0 to 5993\n",
      "Data columns (total 16 columns):\n",
      "tweet_id              5994 non-null object\n",
      "timestamp             5994 non-null datetime64[ns, UTC]\n",
      "text                  5994 non-null object\n",
      "rating_numerator      5994 non-null int64\n",
      "rating_denominator    5994 non-null int64\n",
      "name                  4377 non-null object\n",
      "dogtionary            999 non-null object\n",
      "client                5994 non-null object\n",
      "favorite_count        5994 non-null int64\n",
      "retweet_count         5994 non-null int64\n",
      "new_name              69 non-null object\n",
      "jpg_url               5994 non-null object\n",
      "confidence            5994 non-null float64\n",
      "group                 5994 non-null object\n",
      "is_dog                5994 non-null bool\n",
      "breed                 5994 non-null object\n",
      "dtypes: bool(1), datetime64[ns, UTC](1), float64(1), int64(4), object(9)\n",
      "memory usage: 755.1+ KB\n"
     ]
    }
   ],
   "source": [
    "master_df = master_df.merge(tweet_clean_df, on='tweet_id', how='inner')\n",
    "master_df = master_df.merge(pred_tidy, on='tweet_id', how='inner')\n",
    "master_df.info()"
   ]
  },
  {
   "cell_type": "code",
   "execution_count": 177,
   "metadata": {},
   "outputs": [
    {
     "data": {
      "text/html": [
       "<div>\n",
       "<style scoped>\n",
       "    .dataframe tbody tr th:only-of-type {\n",
       "        vertical-align: middle;\n",
       "    }\n",
       "\n",
       "    .dataframe tbody tr th {\n",
       "        vertical-align: top;\n",
       "    }\n",
       "\n",
       "    .dataframe thead th {\n",
       "        text-align: right;\n",
       "    }\n",
       "</style>\n",
       "<table border=\"1\" class=\"dataframe\">\n",
       "  <thead>\n",
       "    <tr style=\"text-align: right;\">\n",
       "      <th></th>\n",
       "      <th>tweet_id</th>\n",
       "      <th>timestamp</th>\n",
       "      <th>text</th>\n",
       "      <th>rating_numerator</th>\n",
       "      <th>rating_denominator</th>\n",
       "      <th>name</th>\n",
       "      <th>dogtionary</th>\n",
       "      <th>client</th>\n",
       "      <th>favorite_count</th>\n",
       "      <th>retweet_count</th>\n",
       "      <th>new_name</th>\n",
       "      <th>jpg_url</th>\n",
       "      <th>confidence</th>\n",
       "      <th>group</th>\n",
       "      <th>is_dog</th>\n",
       "      <th>breed</th>\n",
       "    </tr>\n",
       "  </thead>\n",
       "  <tbody>\n",
       "    <tr>\n",
       "      <th>435</th>\n",
       "      <td>855851453814013952</td>\n",
       "      <td>2017-04-22 18:31:02+00:00</td>\n",
       "      <td>Here's a puppo participating in the #ScienceMa...</td>\n",
       "      <td>13</td>\n",
       "      <td>10</td>\n",
       "      <td>NaN</td>\n",
       "      <td>doggo</td>\n",
       "      <td>Twitter for iPhone</td>\n",
       "      <td>45931</td>\n",
       "      <td>18137</td>\n",
       "      <td>NaN</td>\n",
       "      <td>https://pbs.twimg.com/media/C-CYWrvWAAU8AXH.jpg</td>\n",
       "      <td>0.321676</td>\n",
       "      <td>p1</td>\n",
       "      <td>True</td>\n",
       "      <td>flat-coated_retriever</td>\n",
       "    </tr>\n",
       "    <tr>\n",
       "      <th>436</th>\n",
       "      <td>855851453814013952</td>\n",
       "      <td>2017-04-22 18:31:02+00:00</td>\n",
       "      <td>Here's a puppo participating in the #ScienceMa...</td>\n",
       "      <td>13</td>\n",
       "      <td>10</td>\n",
       "      <td>NaN</td>\n",
       "      <td>doggo</td>\n",
       "      <td>Twitter for iPhone</td>\n",
       "      <td>45931</td>\n",
       "      <td>18137</td>\n",
       "      <td>NaN</td>\n",
       "      <td>https://pbs.twimg.com/media/C-CYWrvWAAU8AXH.jpg</td>\n",
       "      <td>0.115138</td>\n",
       "      <td>p2</td>\n",
       "      <td>True</td>\n",
       "      <td>Labrador_retriever</td>\n",
       "    </tr>\n",
       "    <tr>\n",
       "      <th>437</th>\n",
       "      <td>855851453814013952</td>\n",
       "      <td>2017-04-22 18:31:02+00:00</td>\n",
       "      <td>Here's a puppo participating in the #ScienceMa...</td>\n",
       "      <td>13</td>\n",
       "      <td>10</td>\n",
       "      <td>NaN</td>\n",
       "      <td>doggo</td>\n",
       "      <td>Twitter for iPhone</td>\n",
       "      <td>45931</td>\n",
       "      <td>18137</td>\n",
       "      <td>NaN</td>\n",
       "      <td>https://pbs.twimg.com/media/C-CYWrvWAAU8AXH.jpg</td>\n",
       "      <td>0.096100</td>\n",
       "      <td>p3</td>\n",
       "      <td>True</td>\n",
       "      <td>groenendael</td>\n",
       "    </tr>\n",
       "    <tr>\n",
       "      <th>438</th>\n",
       "      <td>855851453814013952</td>\n",
       "      <td>2017-04-22 18:31:02+00:00</td>\n",
       "      <td>Here's a puppo participating in the #ScienceMa...</td>\n",
       "      <td>13</td>\n",
       "      <td>10</td>\n",
       "      <td>NaN</td>\n",
       "      <td>doggo</td>\n",
       "      <td>Twitter for iPhone</td>\n",
       "      <td>45931</td>\n",
       "      <td>18137</td>\n",
       "      <td>NaN</td>\n",
       "      <td>https://pbs.twimg.com/media/C-CYWrvWAAU8AXH.jpg</td>\n",
       "      <td>0.321676</td>\n",
       "      <td>p1</td>\n",
       "      <td>True</td>\n",
       "      <td>flat-coated_retriever</td>\n",
       "    </tr>\n",
       "    <tr>\n",
       "      <th>439</th>\n",
       "      <td>855851453814013952</td>\n",
       "      <td>2017-04-22 18:31:02+00:00</td>\n",
       "      <td>Here's a puppo participating in the #ScienceMa...</td>\n",
       "      <td>13</td>\n",
       "      <td>10</td>\n",
       "      <td>NaN</td>\n",
       "      <td>doggo</td>\n",
       "      <td>Twitter for iPhone</td>\n",
       "      <td>45931</td>\n",
       "      <td>18137</td>\n",
       "      <td>NaN</td>\n",
       "      <td>https://pbs.twimg.com/media/C-CYWrvWAAU8AXH.jpg</td>\n",
       "      <td>0.115138</td>\n",
       "      <td>p2</td>\n",
       "      <td>True</td>\n",
       "      <td>Labrador_retriever</td>\n",
       "    </tr>\n",
       "    <tr>\n",
       "      <th>440</th>\n",
       "      <td>855851453814013952</td>\n",
       "      <td>2017-04-22 18:31:02+00:00</td>\n",
       "      <td>Here's a puppo participating in the #ScienceMa...</td>\n",
       "      <td>13</td>\n",
       "      <td>10</td>\n",
       "      <td>NaN</td>\n",
       "      <td>doggo</td>\n",
       "      <td>Twitter for iPhone</td>\n",
       "      <td>45931</td>\n",
       "      <td>18137</td>\n",
       "      <td>NaN</td>\n",
       "      <td>https://pbs.twimg.com/media/C-CYWrvWAAU8AXH.jpg</td>\n",
       "      <td>0.096100</td>\n",
       "      <td>p3</td>\n",
       "      <td>True</td>\n",
       "      <td>groenendael</td>\n",
       "    </tr>\n",
       "    <tr>\n",
       "      <th>441</th>\n",
       "      <td>855851453814013952</td>\n",
       "      <td>2017-04-22 18:31:02+00:00</td>\n",
       "      <td>Here's a puppo participating in the #ScienceMa...</td>\n",
       "      <td>13</td>\n",
       "      <td>10</td>\n",
       "      <td>NaN</td>\n",
       "      <td>puppo</td>\n",
       "      <td>Twitter for iPhone</td>\n",
       "      <td>45931</td>\n",
       "      <td>18137</td>\n",
       "      <td>NaN</td>\n",
       "      <td>https://pbs.twimg.com/media/C-CYWrvWAAU8AXH.jpg</td>\n",
       "      <td>0.321676</td>\n",
       "      <td>p1</td>\n",
       "      <td>True</td>\n",
       "      <td>flat-coated_retriever</td>\n",
       "    </tr>\n",
       "    <tr>\n",
       "      <th>442</th>\n",
       "      <td>855851453814013952</td>\n",
       "      <td>2017-04-22 18:31:02+00:00</td>\n",
       "      <td>Here's a puppo participating in the #ScienceMa...</td>\n",
       "      <td>13</td>\n",
       "      <td>10</td>\n",
       "      <td>NaN</td>\n",
       "      <td>puppo</td>\n",
       "      <td>Twitter for iPhone</td>\n",
       "      <td>45931</td>\n",
       "      <td>18137</td>\n",
       "      <td>NaN</td>\n",
       "      <td>https://pbs.twimg.com/media/C-CYWrvWAAU8AXH.jpg</td>\n",
       "      <td>0.115138</td>\n",
       "      <td>p2</td>\n",
       "      <td>True</td>\n",
       "      <td>Labrador_retriever</td>\n",
       "    </tr>\n",
       "    <tr>\n",
       "      <th>443</th>\n",
       "      <td>855851453814013952</td>\n",
       "      <td>2017-04-22 18:31:02+00:00</td>\n",
       "      <td>Here's a puppo participating in the #ScienceMa...</td>\n",
       "      <td>13</td>\n",
       "      <td>10</td>\n",
       "      <td>NaN</td>\n",
       "      <td>puppo</td>\n",
       "      <td>Twitter for iPhone</td>\n",
       "      <td>45931</td>\n",
       "      <td>18137</td>\n",
       "      <td>NaN</td>\n",
       "      <td>https://pbs.twimg.com/media/C-CYWrvWAAU8AXH.jpg</td>\n",
       "      <td>0.096100</td>\n",
       "      <td>p3</td>\n",
       "      <td>True</td>\n",
       "      <td>groenendael</td>\n",
       "    </tr>\n",
       "    <tr>\n",
       "      <th>444</th>\n",
       "      <td>855851453814013952</td>\n",
       "      <td>2017-04-22 18:31:02+00:00</td>\n",
       "      <td>Here's a puppo participating in the #ScienceMa...</td>\n",
       "      <td>13</td>\n",
       "      <td>10</td>\n",
       "      <td>NaN</td>\n",
       "      <td>puppo</td>\n",
       "      <td>Twitter for iPhone</td>\n",
       "      <td>45931</td>\n",
       "      <td>18137</td>\n",
       "      <td>NaN</td>\n",
       "      <td>https://pbs.twimg.com/media/C-CYWrvWAAU8AXH.jpg</td>\n",
       "      <td>0.321676</td>\n",
       "      <td>p1</td>\n",
       "      <td>True</td>\n",
       "      <td>flat-coated_retriever</td>\n",
       "    </tr>\n",
       "    <tr>\n",
       "      <th>445</th>\n",
       "      <td>855851453814013952</td>\n",
       "      <td>2017-04-22 18:31:02+00:00</td>\n",
       "      <td>Here's a puppo participating in the #ScienceMa...</td>\n",
       "      <td>13</td>\n",
       "      <td>10</td>\n",
       "      <td>NaN</td>\n",
       "      <td>puppo</td>\n",
       "      <td>Twitter for iPhone</td>\n",
       "      <td>45931</td>\n",
       "      <td>18137</td>\n",
       "      <td>NaN</td>\n",
       "      <td>https://pbs.twimg.com/media/C-CYWrvWAAU8AXH.jpg</td>\n",
       "      <td>0.115138</td>\n",
       "      <td>p2</td>\n",
       "      <td>True</td>\n",
       "      <td>Labrador_retriever</td>\n",
       "    </tr>\n",
       "    <tr>\n",
       "      <th>446</th>\n",
       "      <td>855851453814013952</td>\n",
       "      <td>2017-04-22 18:31:02+00:00</td>\n",
       "      <td>Here's a puppo participating in the #ScienceMa...</td>\n",
       "      <td>13</td>\n",
       "      <td>10</td>\n",
       "      <td>NaN</td>\n",
       "      <td>puppo</td>\n",
       "      <td>Twitter for iPhone</td>\n",
       "      <td>45931</td>\n",
       "      <td>18137</td>\n",
       "      <td>NaN</td>\n",
       "      <td>https://pbs.twimg.com/media/C-CYWrvWAAU8AXH.jpg</td>\n",
       "      <td>0.096100</td>\n",
       "      <td>p3</td>\n",
       "      <td>True</td>\n",
       "      <td>groenendael</td>\n",
       "    </tr>\n",
       "  </tbody>\n",
       "</table>\n",
       "</div>"
      ],
      "text/plain": [
       "               tweet_id                 timestamp  \\\n",
       "435  855851453814013952 2017-04-22 18:31:02+00:00   \n",
       "436  855851453814013952 2017-04-22 18:31:02+00:00   \n",
       "437  855851453814013952 2017-04-22 18:31:02+00:00   \n",
       "438  855851453814013952 2017-04-22 18:31:02+00:00   \n",
       "439  855851453814013952 2017-04-22 18:31:02+00:00   \n",
       "440  855851453814013952 2017-04-22 18:31:02+00:00   \n",
       "441  855851453814013952 2017-04-22 18:31:02+00:00   \n",
       "442  855851453814013952 2017-04-22 18:31:02+00:00   \n",
       "443  855851453814013952 2017-04-22 18:31:02+00:00   \n",
       "444  855851453814013952 2017-04-22 18:31:02+00:00   \n",
       "445  855851453814013952 2017-04-22 18:31:02+00:00   \n",
       "446  855851453814013952 2017-04-22 18:31:02+00:00   \n",
       "\n",
       "                                                  text  rating_numerator  \\\n",
       "435  Here's a puppo participating in the #ScienceMa...                13   \n",
       "436  Here's a puppo participating in the #ScienceMa...                13   \n",
       "437  Here's a puppo participating in the #ScienceMa...                13   \n",
       "438  Here's a puppo participating in the #ScienceMa...                13   \n",
       "439  Here's a puppo participating in the #ScienceMa...                13   \n",
       "440  Here's a puppo participating in the #ScienceMa...                13   \n",
       "441  Here's a puppo participating in the #ScienceMa...                13   \n",
       "442  Here's a puppo participating in the #ScienceMa...                13   \n",
       "443  Here's a puppo participating in the #ScienceMa...                13   \n",
       "444  Here's a puppo participating in the #ScienceMa...                13   \n",
       "445  Here's a puppo participating in the #ScienceMa...                13   \n",
       "446  Here's a puppo participating in the #ScienceMa...                13   \n",
       "\n",
       "     rating_denominator name dogtionary              client  favorite_count  \\\n",
       "435                  10  NaN      doggo  Twitter for iPhone           45931   \n",
       "436                  10  NaN      doggo  Twitter for iPhone           45931   \n",
       "437                  10  NaN      doggo  Twitter for iPhone           45931   \n",
       "438                  10  NaN      doggo  Twitter for iPhone           45931   \n",
       "439                  10  NaN      doggo  Twitter for iPhone           45931   \n",
       "440                  10  NaN      doggo  Twitter for iPhone           45931   \n",
       "441                  10  NaN      puppo  Twitter for iPhone           45931   \n",
       "442                  10  NaN      puppo  Twitter for iPhone           45931   \n",
       "443                  10  NaN      puppo  Twitter for iPhone           45931   \n",
       "444                  10  NaN      puppo  Twitter for iPhone           45931   \n",
       "445                  10  NaN      puppo  Twitter for iPhone           45931   \n",
       "446                  10  NaN      puppo  Twitter for iPhone           45931   \n",
       "\n",
       "     retweet_count new_name                                          jpg_url  \\\n",
       "435          18137      NaN  https://pbs.twimg.com/media/C-CYWrvWAAU8AXH.jpg   \n",
       "436          18137      NaN  https://pbs.twimg.com/media/C-CYWrvWAAU8AXH.jpg   \n",
       "437          18137      NaN  https://pbs.twimg.com/media/C-CYWrvWAAU8AXH.jpg   \n",
       "438          18137      NaN  https://pbs.twimg.com/media/C-CYWrvWAAU8AXH.jpg   \n",
       "439          18137      NaN  https://pbs.twimg.com/media/C-CYWrvWAAU8AXH.jpg   \n",
       "440          18137      NaN  https://pbs.twimg.com/media/C-CYWrvWAAU8AXH.jpg   \n",
       "441          18137      NaN  https://pbs.twimg.com/media/C-CYWrvWAAU8AXH.jpg   \n",
       "442          18137      NaN  https://pbs.twimg.com/media/C-CYWrvWAAU8AXH.jpg   \n",
       "443          18137      NaN  https://pbs.twimg.com/media/C-CYWrvWAAU8AXH.jpg   \n",
       "444          18137      NaN  https://pbs.twimg.com/media/C-CYWrvWAAU8AXH.jpg   \n",
       "445          18137      NaN  https://pbs.twimg.com/media/C-CYWrvWAAU8AXH.jpg   \n",
       "446          18137      NaN  https://pbs.twimg.com/media/C-CYWrvWAAU8AXH.jpg   \n",
       "\n",
       "     confidence group  is_dog                  breed  \n",
       "435    0.321676    p1    True  flat-coated_retriever  \n",
       "436    0.115138    p2    True     Labrador_retriever  \n",
       "437    0.096100    p3    True            groenendael  \n",
       "438    0.321676    p1    True  flat-coated_retriever  \n",
       "439    0.115138    p2    True     Labrador_retriever  \n",
       "440    0.096100    p3    True            groenendael  \n",
       "441    0.321676    p1    True  flat-coated_retriever  \n",
       "442    0.115138    p2    True     Labrador_retriever  \n",
       "443    0.096100    p3    True            groenendael  \n",
       "444    0.321676    p1    True  flat-coated_retriever  \n",
       "445    0.115138    p2    True     Labrador_retriever  \n",
       "446    0.096100    p3    True            groenendael  "
      ]
     },
     "execution_count": 177,
     "metadata": {},
     "output_type": "execute_result"
    }
   ],
   "source": [
    "name_isnull = master_df['name'].isnull()\n",
    "#master_df[name_isnull]['jpg_url'].value_counts()\n",
    "master_df[master_df['jpg_url'] == 'https://pbs.twimg.com/media/C-CYWrvWAAU8AXH.jpg']"
   ]
  },
  {
   "cell_type": "code",
   "execution_count": 178,
   "metadata": {
    "pycharm": {}
   },
   "outputs": [],
   "source": [
    "REPORT_DATA_SET_FILE = 'twitter_archive_master.csv'\n",
    "master_df.to_csv(REPORT_DATA_SET_FILE, index=False)"
   ]
  },
  {
   "cell_type": "markdown",
   "metadata": {
    "pycharm": {}
   },
   "source": [
    "## Analysis"
   ]
  },
  {
   "cell_type": "code",
   "execution_count": 87,
   "metadata": {},
   "outputs": [],
   "source": [
    "ensure_dir(IMAGES_DIR)"
   ]
  },
  {
   "cell_type": "code",
   "execution_count": 88,
   "metadata": {
    "pycharm": {}
   },
   "outputs": [
    {
     "data": {
      "image/png": "[encoded data removed]",
      "text/plain": [
       "<Figure size 720x576 with 3 Axes>"
      ]
     },
     "metadata": {
      "needs_background": "light"
     },
     "output_type": "display_data"
    }
   ],
   "source": [
    "# Does the different Twitter clients rate dogs differently?\n",
    "rating_client_agg = master_df.groupby('client', as_index=False).agg({'rating_numerator': ['min', 'max', 'median']})\n",
    "rating_client_agg.columns = ['client', 'min', 'max', 'median']\n",
    "fig, (ax1, ax2, ax3) = plt.subplots(nrows=3, ncols=1, figsize=(10,8))\n",
    "ax1.bar(rating_client_agg['client'], rating_client_agg['min'])\n",
    "ax1.set_title('Minimum rating / Twitter client')\n",
    "ax2.bar(rating_client_agg['client'], rating_client_agg['max'])\n",
    "ax2.set_title('Maximum rating / Twitter client')\n",
    "ax3.bar(rating_client_agg['client'], rating_client_agg['median'])\n",
    "ax3.set_title('Median rating / Twitter client')\n",
    "plt.subplots_adjust(hspace=0.6)\n",
    "fig.savefig(os.path.join(IMAGES_DIR, 'rating-client-outliers.jpg'))\n",
    "plt.show()"
   ]
  },
  {
   "cell_type": "code",
   "execution_count": 89,
   "metadata": {
    "pycharm": {}
   },
   "outputs": [
    {
     "data": {
      "image/png": "[encoded data removed]",
      "text/plain": [
       "<Figure size 432x288 with 1 Axes>"
      ]
     },
     "metadata": {
      "needs_background": "light"
     },
     "output_type": "display_data"
    }
   ],
   "source": [
    "# How are the different Twitter clients used for setting favorites and retweets?\n",
    "share_agg = master_df.groupby('client', as_index=False).agg({'favorite_count': ['sum'], 'retweet_count': ['sum']})\n",
    "share_agg.columns = ['client', 'favorite', 'retweet']\n",
    "ax = share_agg.plot('client', ['favorite', 'retweet'], kind='bar', log=True)\n",
    "ax.set_title('Favorite and retweet per client')\n",
    "ax.set_xlabel('')\n",
    "ax.tick_params(axis='x', labelrotation=35)\n",
    "ax.set_ylabel('Sum of tweets (log)')\n",
    "plt.tight_layout()\n",
    "plt.savefig(os.path.join(IMAGES_DIR, 'favorite-and-retweet-per-client.jpg'))\n",
    "plt.show()"
   ]
  },
  {
   "cell_type": "code",
   "execution_count": 90,
   "metadata": {
    "pycharm": {}
   },
   "outputs": [
    {
     "data": {
      "text/html": [
       "<div>\n",
       "<style scoped>\n",
       "    .dataframe tbody tr th:only-of-type {\n",
       "        vertical-align: middle;\n",
       "    }\n",
       "\n",
       "    .dataframe tbody tr th {\n",
       "        vertical-align: top;\n",
       "    }\n",
       "\n",
       "    .dataframe thead th {\n",
       "        text-align: right;\n",
       "    }\n",
       "</style>\n",
       "<table border=\"1\" class=\"dataframe\">\n",
       "  <thead>\n",
       "    <tr style=\"text-align: right;\">\n",
       "      <th></th>\n",
       "      <th>client</th>\n",
       "      <th>favorite</th>\n",
       "      <th>retweet</th>\n",
       "    </tr>\n",
       "  </thead>\n",
       "  <tbody>\n",
       "    <tr>\n",
       "      <th>0</th>\n",
       "      <td>TweetDeck</td>\n",
       "      <td>129936</td>\n",
       "      <td>57951</td>\n",
       "    </tr>\n",
       "    <tr>\n",
       "      <th>1</th>\n",
       "      <td>Twitter Web Client</td>\n",
       "      <td>485820</td>\n",
       "      <td>205461</td>\n",
       "    </tr>\n",
       "    <tr>\n",
       "      <th>2</th>\n",
       "      <td>Twitter for iPhone</td>\n",
       "      <td>52373670</td>\n",
       "      <td>15849624</td>\n",
       "    </tr>\n",
       "  </tbody>\n",
       "</table>\n",
       "</div>"
      ],
      "text/plain": [
       "               client  favorite   retweet\n",
       "0           TweetDeck    129936     57951\n",
       "1  Twitter Web Client    485820    205461\n",
       "2  Twitter for iPhone  52373670  15849624"
      ]
     },
     "execution_count": 90,
     "metadata": {},
     "output_type": "execute_result"
    }
   ],
   "source": [
    "share_agg"
   ]
  },
  {
   "cell_type": "code",
   "execution_count": 164,
   "metadata": {
    "pycharm": {}
   },
   "outputs": [
    {
     "name": "stdout",
     "output_type": "stream",
     "text": [
      "['rating-histogram.jpg', 'rating-client-outliers.jpg', 'dog-1.jpg.jpg', 'dog-0.jpg.jpg', '.ipynb_checkpoints', 'dog-2.jpg.jpg', 'favorite-and-retweet-per-client.jpg']\n"
     ]
    }
   ],
   "source": [
    "# download random images for the report\n",
    "import random\n",
    "for i in range(3):\n",
    "    download_img(f'dog-{i}.jpg', random.choice(pred_tidy.jpg_url.to_list()))\n",
    "print(os.listdir(IMAGES_DIR))"
   ]
  },
  {
   "cell_type": "code",
   "execution_count": 102,
   "metadata": {},
   "outputs": [
    {
     "data": {
      "text/html": [
       "<div>\n",
       "<style scoped>\n",
       "    .dataframe tbody tr th:only-of-type {\n",
       "        vertical-align: middle;\n",
       "    }\n",
       "\n",
       "    .dataframe tbody tr th {\n",
       "        vertical-align: top;\n",
       "    }\n",
       "\n",
       "    .dataframe thead tr th {\n",
       "        text-align: left;\n",
       "    }\n",
       "\n",
       "    .dataframe thead tr:last-of-type th {\n",
       "        text-align: right;\n",
       "    }\n",
       "</style>\n",
       "<table border=\"1\" class=\"dataframe\">\n",
       "  <thead>\n",
       "    <tr>\n",
       "      <th></th>\n",
       "      <th></th>\n",
       "      <th>name</th>\n",
       "    </tr>\n",
       "    <tr>\n",
       "      <th></th>\n",
       "      <th></th>\n",
       "      <th>count</th>\n",
       "    </tr>\n",
       "    <tr>\n",
       "      <th>breed</th>\n",
       "      <th>name</th>\n",
       "      <th></th>\n",
       "    </tr>\n",
       "  </thead>\n",
       "  <tbody>\n",
       "    <tr>\n",
       "      <th rowspan=\"3\" valign=\"top\">Afghan_hound</th>\n",
       "      <th>Max</th>\n",
       "      <td>1</td>\n",
       "    </tr>\n",
       "    <tr>\n",
       "      <th>Moreton</th>\n",
       "      <td>1</td>\n",
       "    </tr>\n",
       "    <tr>\n",
       "      <th>Wesley</th>\n",
       "      <td>1</td>\n",
       "    </tr>\n",
       "    <tr>\n",
       "      <th>African_crocodile</th>\n",
       "      <th>Rodman</th>\n",
       "      <td>1</td>\n",
       "    </tr>\n",
       "    <tr>\n",
       "      <th>African_grey</th>\n",
       "      <th>Scout</th>\n",
       "      <td>1</td>\n",
       "    </tr>\n",
       "    <tr>\n",
       "      <th rowspan=\"9\" valign=\"top\">Airedale</th>\n",
       "      <th>Billl</th>\n",
       "      <td>1</td>\n",
       "    </tr>\n",
       "    <tr>\n",
       "      <th>Furzey</th>\n",
       "      <td>1</td>\n",
       "    </tr>\n",
       "    <tr>\n",
       "      <th>Griffin</th>\n",
       "      <td>1</td>\n",
       "    </tr>\n",
       "    <tr>\n",
       "      <th>Koda</th>\n",
       "      <td>1</td>\n",
       "    </tr>\n",
       "    <tr>\n",
       "      <th>Linda</th>\n",
       "      <td>1</td>\n",
       "    </tr>\n",
       "    <tr>\n",
       "      <th>Mitch</th>\n",
       "      <td>1</td>\n",
       "    </tr>\n",
       "    <tr>\n",
       "      <th>Penny</th>\n",
       "      <td>1</td>\n",
       "    </tr>\n",
       "    <tr>\n",
       "      <th>Reese</th>\n",
       "      <td>1</td>\n",
       "    </tr>\n",
       "    <tr>\n",
       "      <th>Willie</th>\n",
       "      <td>1</td>\n",
       "    </tr>\n",
       "    <tr>\n",
       "      <th rowspan=\"10\" valign=\"top\">American_Staffordshire_terrier</th>\n",
       "      <th>Beebop</th>\n",
       "      <td>1</td>\n",
       "    </tr>\n",
       "    <tr>\n",
       "      <th>Brutus</th>\n",
       "      <td>1</td>\n",
       "    </tr>\n",
       "    <tr>\n",
       "      <th>Lucky</th>\n",
       "      <td>1</td>\n",
       "    </tr>\n",
       "    <tr>\n",
       "      <th>Lucy</th>\n",
       "      <td>1</td>\n",
       "    </tr>\n",
       "    <tr>\n",
       "      <th>Oliver</th>\n",
       "      <td>1</td>\n",
       "    </tr>\n",
       "    <tr>\n",
       "      <th>Pubert</th>\n",
       "      <td>1</td>\n",
       "    </tr>\n",
       "    <tr>\n",
       "      <th>Romeo</th>\n",
       "      <td>1</td>\n",
       "    </tr>\n",
       "    <tr>\n",
       "      <th>Rooney</th>\n",
       "      <td>1</td>\n",
       "    </tr>\n",
       "    <tr>\n",
       "      <th>Sage</th>\n",
       "      <td>1</td>\n",
       "    </tr>\n",
       "    <tr>\n",
       "      <th>Vincent</th>\n",
       "      <td>1</td>\n",
       "    </tr>\n",
       "    <tr>\n",
       "      <th>American_black_bear</th>\n",
       "      <th>Malcolm</th>\n",
       "      <td>1</td>\n",
       "    </tr>\n",
       "    <tr>\n",
       "      <th>Angora</th>\n",
       "      <th>quite</th>\n",
       "      <td>1</td>\n",
       "    </tr>\n",
       "    <tr>\n",
       "      <th>Appenzeller</th>\n",
       "      <th>Jax</th>\n",
       "      <td>1</td>\n",
       "    </tr>\n",
       "    <tr>\n",
       "      <th rowspan=\"2\" valign=\"top\">Arctic_fox</th>\n",
       "      <th>DayZ</th>\n",
       "      <td>1</td>\n",
       "    </tr>\n",
       "    <tr>\n",
       "      <th>Sandy</th>\n",
       "      <td>1</td>\n",
       "    </tr>\n",
       "    <tr>\n",
       "      <th>Australian_terrier</th>\n",
       "      <th>Oliviér</th>\n",
       "      <td>1</td>\n",
       "    </tr>\n",
       "    <tr>\n",
       "      <th>...</th>\n",
       "      <th>...</th>\n",
       "      <td>...</td>\n",
       "    </tr>\n",
       "    <tr>\n",
       "      <th>washer</th>\n",
       "      <th>Charlie</th>\n",
       "      <td>1</td>\n",
       "    </tr>\n",
       "    <tr>\n",
       "      <th>water_buffalo</th>\n",
       "      <th>Derek</th>\n",
       "      <td>1</td>\n",
       "    </tr>\n",
       "    <tr>\n",
       "      <th rowspan=\"2\" valign=\"top\">weasel</th>\n",
       "      <th>Reptar</th>\n",
       "      <td>1</td>\n",
       "    </tr>\n",
       "    <tr>\n",
       "      <th>a</th>\n",
       "      <td>1</td>\n",
       "    </tr>\n",
       "    <tr>\n",
       "      <th rowspan=\"6\" valign=\"top\">web_site</th>\n",
       "      <th>Bo</th>\n",
       "      <td>1</td>\n",
       "    </tr>\n",
       "    <tr>\n",
       "      <th>Iggy</th>\n",
       "      <td>1</td>\n",
       "    </tr>\n",
       "    <tr>\n",
       "      <th>Koko</th>\n",
       "      <td>1</td>\n",
       "    </tr>\n",
       "    <tr>\n",
       "      <th>Moose</th>\n",
       "      <td>1</td>\n",
       "    </tr>\n",
       "    <tr>\n",
       "      <th>a</th>\n",
       "      <td>1</td>\n",
       "    </tr>\n",
       "    <tr>\n",
       "      <th>one</th>\n",
       "      <td>1</td>\n",
       "    </tr>\n",
       "    <tr>\n",
       "      <th rowspan=\"7\" valign=\"top\">whippet</th>\n",
       "      <th>Cooper</th>\n",
       "      <td>1</td>\n",
       "    </tr>\n",
       "    <tr>\n",
       "      <th>Godzilla</th>\n",
       "      <td>1</td>\n",
       "    </tr>\n",
       "    <tr>\n",
       "      <th>Lance</th>\n",
       "      <td>1</td>\n",
       "    </tr>\n",
       "    <tr>\n",
       "      <th>Larry</th>\n",
       "      <td>1</td>\n",
       "    </tr>\n",
       "    <tr>\n",
       "      <th>Miguel</th>\n",
       "      <td>1</td>\n",
       "    </tr>\n",
       "    <tr>\n",
       "      <th>Oliver</th>\n",
       "      <td>1</td>\n",
       "    </tr>\n",
       "    <tr>\n",
       "      <th>Scout</th>\n",
       "      <td>1</td>\n",
       "    </tr>\n",
       "    <tr>\n",
       "      <th>white_wolf</th>\n",
       "      <th>Chet</th>\n",
       "      <td>1</td>\n",
       "    </tr>\n",
       "    <tr>\n",
       "      <th>wild_boar</th>\n",
       "      <th>Elliot</th>\n",
       "      <td>1</td>\n",
       "    </tr>\n",
       "    <tr>\n",
       "      <th rowspan=\"3\" valign=\"top\">window_shade</th>\n",
       "      <th>Bella</th>\n",
       "      <td>1</td>\n",
       "    </tr>\n",
       "    <tr>\n",
       "      <th>Coleman</th>\n",
       "      <td>1</td>\n",
       "    </tr>\n",
       "    <tr>\n",
       "      <th>Sam</th>\n",
       "      <td>1</td>\n",
       "    </tr>\n",
       "    <tr>\n",
       "      <th rowspan=\"2\" valign=\"top\">wire-haired_fox_terrier</th>\n",
       "      <th>Blu</th>\n",
       "      <td>1</td>\n",
       "    </tr>\n",
       "    <tr>\n",
       "      <th>Juno</th>\n",
       "      <td>1</td>\n",
       "    </tr>\n",
       "    <tr>\n",
       "      <th rowspan=\"3\" valign=\"top\">wombat</th>\n",
       "      <th>Baloo</th>\n",
       "      <td>1</td>\n",
       "    </tr>\n",
       "    <tr>\n",
       "      <th>Patrick</th>\n",
       "      <td>1</td>\n",
       "    </tr>\n",
       "    <tr>\n",
       "      <th>a</th>\n",
       "      <td>1</td>\n",
       "    </tr>\n",
       "    <tr>\n",
       "      <th rowspan=\"2\" valign=\"top\">wood_rabbit</th>\n",
       "      <th>Curtis</th>\n",
       "      <td>1</td>\n",
       "    </tr>\n",
       "    <tr>\n",
       "      <th>Jeffrie</th>\n",
       "      <td>1</td>\n",
       "    </tr>\n",
       "    <tr>\n",
       "      <th>wooden_spoon</th>\n",
       "      <th>Ava</th>\n",
       "      <td>1</td>\n",
       "    </tr>\n",
       "  </tbody>\n",
       "</table>\n",
       "<p>1402 rows × 1 columns</p>\n",
       "</div>"
      ],
      "text/plain": [
       "                                         name\n",
       "                                        count\n",
       "breed                          name          \n",
       "Afghan_hound                   Max          1\n",
       "                               Moreton      1\n",
       "                               Wesley       1\n",
       "African_crocodile              Rodman       1\n",
       "African_grey                   Scout        1\n",
       "Airedale                       Billl        1\n",
       "                               Furzey       1\n",
       "                               Griffin      1\n",
       "                               Koda         1\n",
       "                               Linda        1\n",
       "                               Mitch        1\n",
       "                               Penny        1\n",
       "                               Reese        1\n",
       "                               Willie       1\n",
       "American_Staffordshire_terrier Beebop       1\n",
       "                               Brutus       1\n",
       "                               Lucky        1\n",
       "                               Lucy         1\n",
       "                               Oliver       1\n",
       "                               Pubert       1\n",
       "                               Romeo        1\n",
       "                               Rooney       1\n",
       "                               Sage         1\n",
       "                               Vincent      1\n",
       "American_black_bear            Malcolm      1\n",
       "Angora                         quite        1\n",
       "Appenzeller                    Jax          1\n",
       "Arctic_fox                     DayZ         1\n",
       "                               Sandy        1\n",
       "Australian_terrier             Oliviér      1\n",
       "...                                       ...\n",
       "washer                         Charlie      1\n",
       "water_buffalo                  Derek        1\n",
       "weasel                         Reptar       1\n",
       "                               a            1\n",
       "web_site                       Bo           1\n",
       "                               Iggy         1\n",
       "                               Koko         1\n",
       "                               Moose        1\n",
       "                               a            1\n",
       "                               one          1\n",
       "whippet                        Cooper       1\n",
       "                               Godzilla     1\n",
       "                               Lance        1\n",
       "                               Larry        1\n",
       "                               Miguel       1\n",
       "                               Oliver       1\n",
       "                               Scout        1\n",
       "white_wolf                     Chet         1\n",
       "wild_boar                      Elliot       1\n",
       "window_shade                   Bella        1\n",
       "                               Coleman      1\n",
       "                               Sam          1\n",
       "wire-haired_fox_terrier        Blu          1\n",
       "                               Juno         1\n",
       "wombat                         Baloo        1\n",
       "                               Patrick      1\n",
       "                               a            1\n",
       "wood_rabbit                    Curtis       1\n",
       "                               Jeffrie      1\n",
       "wooden_spoon                   Ava          1\n",
       "\n",
       "[1402 rows x 1 columns]"
      ]
     },
     "execution_count": 102,
     "metadata": {},
     "output_type": "execute_result"
    }
   ],
   "source": [
    "master_df[master_df['group'] == 'p1'].groupby(['breed', 'name']).agg({'name': ['count']})"
   ]
  },
  {
   "cell_type": "code",
   "execution_count": 94,
   "metadata": {},
   "outputs": [
    {
     "data": {
      "text/html": [
       "<div>\n",
       "<style scoped>\n",
       "    .dataframe tbody tr th:only-of-type {\n",
       "        vertical-align: middle;\n",
       "    }\n",
       "\n",
       "    .dataframe tbody tr th {\n",
       "        vertical-align: top;\n",
       "    }\n",
       "\n",
       "    .dataframe thead th {\n",
       "        text-align: right;\n",
       "    }\n",
       "</style>\n",
       "<table border=\"1\" class=\"dataframe\">\n",
       "  <thead>\n",
       "    <tr style=\"text-align: right;\">\n",
       "      <th></th>\n",
       "      <th>tweet_id</th>\n",
       "      <th>timestamp</th>\n",
       "      <th>text</th>\n",
       "      <th>rating_numerator</th>\n",
       "      <th>rating_denominator</th>\n",
       "      <th>name</th>\n",
       "      <th>dogtionary</th>\n",
       "      <th>client</th>\n",
       "      <th>favorite_count</th>\n",
       "      <th>retweet_count</th>\n",
       "      <th>new_names</th>\n",
       "      <th>jpg_url</th>\n",
       "      <th>confidence</th>\n",
       "      <th>group</th>\n",
       "      <th>is_dog</th>\n",
       "      <th>breed</th>\n",
       "    </tr>\n",
       "  </thead>\n",
       "  <tbody>\n",
       "    <tr>\n",
       "      <th>4539</th>\n",
       "      <td>675706639471788032</td>\n",
       "      <td>2015-12-12 15:59:51+00:00</td>\n",
       "      <td>This is a Sizzlin Menorah spaniel from Brookly...</td>\n",
       "      <td>10</td>\n",
       "      <td>10</td>\n",
       "      <td>a</td>\n",
       "      <td>NaN</td>\n",
       "      <td>Twitter for iPhone</td>\n",
       "      <td>657</td>\n",
       "      <td>102</td>\n",
       "      <td>Wylie</td>\n",
       "      <td>https://pbs.twimg.com/media/CWCXj35VEAIFvtk.jpg</td>\n",
       "      <td>0.990300</td>\n",
       "      <td>p1</td>\n",
       "      <td>True</td>\n",
       "      <td>English_springer</td>\n",
       "    </tr>\n",
       "    <tr>\n",
       "      <th>4540</th>\n",
       "      <td>675706639471788032</td>\n",
       "      <td>2015-12-12 15:59:51+00:00</td>\n",
       "      <td>This is a Sizzlin Menorah spaniel from Brookly...</td>\n",
       "      <td>10</td>\n",
       "      <td>10</td>\n",
       "      <td>a</td>\n",
       "      <td>NaN</td>\n",
       "      <td>Twitter for iPhone</td>\n",
       "      <td>657</td>\n",
       "      <td>102</td>\n",
       "      <td>Wylie</td>\n",
       "      <td>https://pbs.twimg.com/media/CWCXj35VEAIFvtk.jpg</td>\n",
       "      <td>0.002080</td>\n",
       "      <td>p2</td>\n",
       "      <td>True</td>\n",
       "      <td>Welsh_springer_spaniel</td>\n",
       "    </tr>\n",
       "    <tr>\n",
       "      <th>4541</th>\n",
       "      <td>675706639471788032</td>\n",
       "      <td>2015-12-12 15:59:51+00:00</td>\n",
       "      <td>This is a Sizzlin Menorah spaniel from Brookly...</td>\n",
       "      <td>10</td>\n",
       "      <td>10</td>\n",
       "      <td>a</td>\n",
       "      <td>NaN</td>\n",
       "      <td>Twitter for iPhone</td>\n",
       "      <td>657</td>\n",
       "      <td>102</td>\n",
       "      <td>Wylie</td>\n",
       "      <td>https://pbs.twimg.com/media/CWCXj35VEAIFvtk.jpg</td>\n",
       "      <td>0.002014</td>\n",
       "      <td>p3</td>\n",
       "      <td>True</td>\n",
       "      <td>cocker_spaniel</td>\n",
       "    </tr>\n",
       "  </tbody>\n",
       "</table>\n",
       "</div>"
      ],
      "text/plain": [
       "                tweet_id                 timestamp  \\\n",
       "4539  675706639471788032 2015-12-12 15:59:51+00:00   \n",
       "4540  675706639471788032 2015-12-12 15:59:51+00:00   \n",
       "4541  675706639471788032 2015-12-12 15:59:51+00:00   \n",
       "\n",
       "                                                   text  rating_numerator  \\\n",
       "4539  This is a Sizzlin Menorah spaniel from Brookly...                10   \n",
       "4540  This is a Sizzlin Menorah spaniel from Brookly...                10   \n",
       "4541  This is a Sizzlin Menorah spaniel from Brookly...                10   \n",
       "\n",
       "      rating_denominator name dogtionary              client  favorite_count  \\\n",
       "4539                  10    a        NaN  Twitter for iPhone             657   \n",
       "4540                  10    a        NaN  Twitter for iPhone             657   \n",
       "4541                  10    a        NaN  Twitter for iPhone             657   \n",
       "\n",
       "      retweet_count new_names  \\\n",
       "4539            102     Wylie   \n",
       "4540            102     Wylie   \n",
       "4541            102     Wylie   \n",
       "\n",
       "                                              jpg_url  confidence group  \\\n",
       "4539  https://pbs.twimg.com/media/CWCXj35VEAIFvtk.jpg    0.990300    p1   \n",
       "4540  https://pbs.twimg.com/media/CWCXj35VEAIFvtk.jpg    0.002080    p2   \n",
       "4541  https://pbs.twimg.com/media/CWCXj35VEAIFvtk.jpg    0.002014    p3   \n",
       "\n",
       "      is_dog                   breed  \n",
       "4539    True        English_springer  \n",
       "4540    True  Welsh_springer_spaniel  \n",
       "4541    True          cocker_spaniel  "
      ]
     },
     "execution_count": 94,
     "metadata": {},
     "output_type": "execute_result"
    }
   ],
   "source": [
    "master_df[master_df.tweet_id == '675706639471788032']"
   ]
  },
  {
   "cell_type": "markdown",
   "metadata": {
    "pycharm": {}
   },
   "source": [
    "# Assert project ready for submission\n",
    "The following files needs to be included in the submission of the project"
   ]
  },
  {
   "cell_type": "code",
   "execution_count": 85,
   "metadata": {
    "pycharm": {
     "is_executing": false
    }
   },
   "outputs": [
    {
     "name": "stdout",
     "output_type": "stream",
     "text": [
      "True - wrangle_act.ipynb: code for gathering, assessing, cleaning, analyzing, and visualizing data\n",
      "False - wrangle_report.pdf or wrangle_report.html: documentation for data wrangling steps: gather, assess, and clean\n",
      "False - act_report.pdf or act_report.html: documentation of analysis and insights into final data\n",
      "True - twitter_archive_enhanced.csv: file as given\n",
      "True - image_predictions.tsv: file downloaded programmatically\n",
      "True - tweet_json.txt: file constructed via API\n",
      "True - twitter_archive_master.csv: combined and cleaned data\n"
     ]
    }
   ],
   "source": [
    "print(f\"{file_exists('wrangle_act.ipynb', directory='.')} - wrangle_act.ipynb: code for gathering, assessing, cleaning, analyzing, and visualizing data\")\n",
    "print(f\"{file_exists('wrangle_report.pdf', directory='.')} - wrangle_report.pdf or wrangle_report.html: documentation for data wrangling steps: gather, assess, and clean\")\n",
    "print(f\"{file_exists('act_report.pdf', directory='.')} - act_report.pdf or act_report.html: documentation of analysis and insights into final data\")\n",
    "print(f\"{file_exists('twitter_archive_enhanced.csv')} - twitter_archive_enhanced.csv: file as given\")\n",
    "print(f\"{file_exists('image_predictions.tsv')} - image_predictions.tsv: file downloaded programmatically\")\n",
    "print(f\"{file_exists('tweet_json.txt')} - tweet_json.txt: file constructed via API\")\n",
    "print(f\"{file_exists('twitter_archive_master.csv', directory='.')} - twitter_archive_master.csv: combined and cleaned data\")\n",
    "      "
   ]
  }
 ],
 "metadata": {
  "kernelspec": {
   "display_name": "Python 3",
   "language": "python",
   "name": "python3"
  },
  "language_info": {
   "codemirror_mode": {
    "name": "ipython",
    "version": 3
   },
   "file_extension": ".py",
   "mimetype": "text/x-python",
   "name": "python",
   "nbconvert_exporter": "python",
   "pygments_lexer": "ipython3",
   "version": "3.6.3"
  }
 },
 "nbformat": 4,
 "nbformat_minor": 2
}
